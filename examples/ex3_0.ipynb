{
 "cells": [
  {
   "cell_type": "code",
   "execution_count": 1,
   "metadata": {},
   "outputs": [],
   "source": [
    "# for use in tutorial and development; do not include this `sys.path` change in production:\n",
    "import sys ; sys.path.insert(0, \"../\")"
   ]
  },
  {
   "cell_type": "markdown",
   "metadata": {},
   "source": [
    "# Interactive graph visualization with `pyvis`\n",
    "\n",
    "First, let's visualize a small graph using the popular [`pyvis`](https://pyvis.readthedocs.io/) library:"
   ]
  },
  {
   "cell_type": "code",
   "execution_count": 2,
   "metadata": {},
   "outputs": [
    {
     "data": {
      "text/html": [
       "\n",
       "        <iframe\n",
       "            width=\"500px\"\n",
       "            height=\"500px\"\n",
       "            src=\"tmp.fig02.html\"\n",
       "            frameborder=\"0\"\n",
       "            allowfullscreen\n",
       "        ></iframe>\n",
       "        "
      ],
      "text/plain": [
       "<IPython.lib.display.IFrame at 0x7fa69da12f10>"
      ]
     },
     "execution_count": 2,
     "metadata": {},
     "output_type": "execute_result"
    }
   ],
   "source": [
    "import pyvis.network\n",
    "\n",
    "pyvis_graph = pyvis.network.Network(notebook=True)\n",
    "\n",
    "pyvis_graph.add_node(0, label=\"foo\", title=\"This is FOO\", color=\"orange\", size=9)\n",
    "pyvis_graph.add_node(1, label=\"bar\", title=\"That is BAR\", color=\"blue\", size=5)\n",
    "pyvis_graph.add_node(2, label=\"baz\", title=\"Here is BAZ\", color=\"green\", size=3)\n",
    "\n",
    "pyvis_graph.add_edge(0, 1, label=\"xyzzy\", color=\"gray\")\n",
    "pyvis_graph.add_edge(0, 2, label=\"fubar\", color=\"red\")\n",
    "\n",
    "pyvis_graph.force_atlas_2based()\n",
    "pyvis_graph.show(\"tmp.fig02.html\")"
   ]
  },
  {
   "cell_type": "markdown",
   "metadata": {},
   "source": [
    "Hover your mouse pointer over the nodes to see the popup titles.\n",
    "Also, try dragging a node to a different location to see how the graph reshapes dynamically."
   ]
  },
  {
   "cell_type": "markdown",
   "metadata": {},
   "source": [
    "---"
   ]
  },
  {
   "cell_type": "markdown",
   "metadata": {},
   "source": [
    "## Graph visualization with `kglab` using subgraphs"
   ]
  },
  {
   "cell_type": "markdown",
   "metadata": {},
   "source": [
    "First, let's load our recipe KG:"
   ]
  },
  {
   "cell_type": "code",
   "execution_count": 3,
   "metadata": {},
   "outputs": [],
   "source": [
    "import kglab\n",
    "\n",
    "kg = kglab.KnowledgeGraph().load_rdf(\"tmp.ttl\")"
   ]
  },
  {
   "cell_type": "markdown",
   "metadata": {},
   "source": [
    "Then use the `FrameND` class to construct a `pyvis` object from the RDF statements in our KG:"
   ]
  },
  {
   "cell_type": "code",
   "execution_count": 4,
   "metadata": {},
   "outputs": [],
   "source": [
    "VIS_STYLE = {\n",
    "    \"wtm\": {\n",
    "        \"color\": \"orange\",\n",
    "        \"size\": 40,\n",
    "    },\n",
    "    \"ind\":{\n",
    "        \"color\": \"blue\",\n",
    "        \"size\": 30,\n",
    "    },\n",
    "}\n",
    "\n",
    "subgraph = kglab.FrameND(kg)\n",
    "pyvis_graph = subgraph.build_pyvis_graph(notebook=True, style=VIS_STYLE)"
   ]
  },
  {
   "cell_type": "markdown",
   "metadata": {},
   "source": [
    "Now we'll general an interactive visualization, which gets serialized as HTML + JavaScript into the `tmp.fig03.html` local file:"
   ]
  },
  {
   "cell_type": "code",
   "execution_count": 5,
   "metadata": {},
   "outputs": [
    {
     "data": {
      "text/html": [
       "\n",
       "        <iframe\n",
       "            width=\"500px\"\n",
       "            height=\"500px\"\n",
       "            src=\"tmp.fig03.html\"\n",
       "            frameborder=\"0\"\n",
       "            allowfullscreen\n",
       "        ></iframe>\n",
       "        "
      ],
      "text/plain": [
       "<IPython.lib.display.IFrame at 0x7fa6a36750d0>"
      ]
     },
     "execution_count": 5,
     "metadata": {},
     "output_type": "execute_result"
    }
   ],
   "source": [
    "pyvis_graph.force_atlas_2based()\n",
    "pyvis_graph.show(\"tmp.fig03.html\")"
   ]
  },
  {
   "cell_type": "markdown",
   "metadata": {},
   "source": [
    "Dragging the nodes in the graph or zoom-in/zoom-out may help make the labels in the visualization more readable."
   ]
  },
  {
   "cell_type": "markdown",
   "metadata": {},
   "source": [
    "---\n",
    "\n",
    "## Exercises"
   ]
  },
  {
   "cell_type": "markdown",
   "metadata": {},
   "source": [
    "**Exercise 1:**\n",
    "\n",
    "Try adjusting the `color` and `size` parameters in the `VIS_STYLE` configuration variable, then re-render the graph.\n",
    "\n",
    "Also try adding another recipe to the graph, then re-render to see how the visualization becomes more complex as the graph grows in size."
   ]
  }
 ],
 "metadata": {
  "kernelspec": {
   "display_name": "Python 3.10.6 64-bit",
   "language": "python",
   "name": "python3"
  },
  "language_info": {
   "codemirror_mode": {
    "name": "ipython",
    "version": 3
   },
   "file_extension": ".py",
   "mimetype": "text/x-python",
   "name": "python",
   "nbconvert_exporter": "python",
   "pygments_lexer": "ipython3",
   "version": "3.10.6"
  },
  "vscode": {
   "interpreter": {
    "hash": "916dbcbb3f70747c44a77c7bcd40155683ae19c65e1c03b4aa3499c5328201f1"
   }
  }
 },
 "nbformat": 4,
 "nbformat_minor": 4
}
