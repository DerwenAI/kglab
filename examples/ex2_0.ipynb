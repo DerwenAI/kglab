{
 "cells": [
  {
   "cell_type": "code",
   "execution_count": 1,
   "metadata": {},
   "outputs": [],
   "source": [
    "# for use in tutorial and development; do not include this `sys.path` change in production:\n",
    "import sys ; sys.path.insert(0, \"../\")"
   ]
  },
  {
   "cell_type": "markdown",
   "metadata": {},
   "source": [
    "# Build a medium size KG from a CSV dataset"
   ]
  },
  {
   "cell_type": "markdown",
   "metadata": {},
   "source": [
    "First let's initialize the KG object as we did previously:"
   ]
  },
  {
   "cell_type": "code",
   "execution_count": 2,
   "metadata": {},
   "outputs": [],
   "source": [
    "import kglab\n",
    "\n",
    "namespaces = {\n",
    "    \"wtm\":  \"http://purl.org/heals/food/\",\n",
    "    \"ind\":  \"http://purl.org/heals/ingredient/\",\n",
    "    \"skos\": \"http://www.w3.org/2004/02/skos/core#\",\n",
    "    }\n",
    "\n",
    "kg = kglab.KnowledgeGraph(\n",
    "    name = \"A recipe KG example based on Food.com\",\n",
    "    base_uri = \"https://www.food.com/recipe/\",\n",
    "    namespaces = namespaces,\n",
    "    )"
   ]
  },
  {
   "cell_type": "markdown",
   "metadata": {},
   "source": [
    "Here's a way to describe the namespaces that are available to use:"
   ]
  },
  {
   "cell_type": "code",
   "execution_count": 3,
   "metadata": {},
   "outputs": [
    {
     "data": {
      "text/html": [
       "<div>\n",
       "<style scoped>\n",
       "    .dataframe tbody tr th:only-of-type {\n",
       "        vertical-align: middle;\n",
       "    }\n",
       "\n",
       "    .dataframe tbody tr th {\n",
       "        vertical-align: top;\n",
       "    }\n",
       "\n",
       "    .dataframe thead th {\n",
       "        text-align: right;\n",
       "    }\n",
       "</style>\n",
       "<table border=\"1\" class=\"dataframe\">\n",
       "  <thead>\n",
       "    <tr style=\"text-align: right;\">\n",
       "      <th></th>\n",
       "      <th>prefix</th>\n",
       "      <th>namespace</th>\n",
       "    </tr>\n",
       "  </thead>\n",
       "  <tbody>\n",
       "    <tr>\n",
       "      <th>0</th>\n",
       "      <td>dct</td>\n",
       "      <td>http://purl.org/dc/terms/</td>\n",
       "    </tr>\n",
       "    <tr>\n",
       "      <th>1</th>\n",
       "      <td>owl</td>\n",
       "      <td>http://www.w3.org/2002/07/owl#</td>\n",
       "    </tr>\n",
       "    <tr>\n",
       "      <th>2</th>\n",
       "      <td>prov</td>\n",
       "      <td>http://www.w3.org/ns/prov#</td>\n",
       "    </tr>\n",
       "    <tr>\n",
       "      <th>3</th>\n",
       "      <td>rdf</td>\n",
       "      <td>http://www.w3.org/1999/02/22-rdf-syntax-ns#</td>\n",
       "    </tr>\n",
       "    <tr>\n",
       "      <th>4</th>\n",
       "      <td>rdfs</td>\n",
       "      <td>http://www.w3.org/2000/01/rdf-schema#</td>\n",
       "    </tr>\n",
       "    <tr>\n",
       "      <th>5</th>\n",
       "      <td>schema</td>\n",
       "      <td>http://schema.org/</td>\n",
       "    </tr>\n",
       "    <tr>\n",
       "      <th>6</th>\n",
       "      <td>sh</td>\n",
       "      <td>http://www.w3.org/ns/shacl#</td>\n",
       "    </tr>\n",
       "    <tr>\n",
       "      <th>7</th>\n",
       "      <td>xsd</td>\n",
       "      <td>http://www.w3.org/2001/XMLSchema#</td>\n",
       "    </tr>\n",
       "    <tr>\n",
       "      <th>8</th>\n",
       "      <td>wtm</td>\n",
       "      <td>http://purl.org/heals/food/</td>\n",
       "    </tr>\n",
       "    <tr>\n",
       "      <th>9</th>\n",
       "      <td>ind</td>\n",
       "      <td>http://purl.org/heals/ingredient/</td>\n",
       "    </tr>\n",
       "    <tr>\n",
       "      <th>10</th>\n",
       "      <td>skos</td>\n",
       "      <td>http://www.w3.org/2004/02/skos/core#</td>\n",
       "    </tr>\n",
       "    <tr>\n",
       "      <th>11</th>\n",
       "      <td>xml</td>\n",
       "      <td>http://www.w3.org/XML/1998/namespace</td>\n",
       "    </tr>\n",
       "  </tbody>\n",
       "</table>\n",
       "</div>"
      ],
      "text/plain": [
       "    prefix                                    namespace\n",
       "0      dct                    http://purl.org/dc/terms/\n",
       "1      owl               http://www.w3.org/2002/07/owl#\n",
       "2     prov                   http://www.w3.org/ns/prov#\n",
       "3      rdf  http://www.w3.org/1999/02/22-rdf-syntax-ns#\n",
       "4     rdfs        http://www.w3.org/2000/01/rdf-schema#\n",
       "5   schema                           http://schema.org/\n",
       "6       sh                  http://www.w3.org/ns/shacl#\n",
       "7      xsd            http://www.w3.org/2001/XMLSchema#\n",
       "8      wtm                  http://purl.org/heals/food/\n",
       "9      ind            http://purl.org/heals/ingredient/\n",
       "10    skos         http://www.w3.org/2004/02/skos/core#\n",
       "11     xml         http://www.w3.org/XML/1998/namespace"
      ]
     },
     "execution_count": 3,
     "metadata": {},
     "output_type": "execute_result"
    }
   ],
   "source": [
    "kg.describe_ns()"
   ]
  },
  {
   "cell_type": "markdown",
   "metadata": {},
   "source": [
    "Next, we'll define a dictionary that maps (somewhat magically) from strings (i.e., \"labels\") to ingredients defined in the <http://purl.org/heals/ingredient/> vocabulary:"
   ]
  },
  {
   "cell_type": "code",
   "execution_count": 4,
   "metadata": {},
   "outputs": [],
   "source": [
    "common_ingredient = {\n",
    "    \"water\": kg.get_ns(\"ind\").Water,\n",
    "    \"salt\": kg.get_ns(\"ind\").Salt,\n",
    "    \"pepper\": kg.get_ns(\"ind\").BlackPepper,\n",
    "    \"black pepper\": kg.get_ns(\"ind\").BlackPepper,\n",
    "    \"dried basil\": kg.get_ns(\"ind\").Basil,\n",
    "\n",
    "    \"butter\": kg.get_ns(\"ind\").Butter,\n",
    "    \"milk\": kg.get_ns(\"ind\").CowMilk,\n",
    "    \"egg\": kg.get_ns(\"ind\").ChickenEgg,\n",
    "    \"eggs\": kg.get_ns(\"ind\").ChickenEgg,\n",
    "    \"bacon\": kg.get_ns(\"ind\").Bacon,\n",
    "\n",
    "    \"sugar\": kg.get_ns(\"ind\").WhiteSugar,\n",
    "    \"brown sugar\": kg.get_ns(\"ind\").BrownSugar,\n",
    "    \"honey\": kg.get_ns(\"ind\").Honey,\n",
    "    \"vanilla\": kg.get_ns(\"ind\").VanillaExtract,\n",
    "    \"vanilla extract\": kg.get_ns(\"ind\").VanillaExtract,\n",
    "\n",
    "    \"flour\": kg.get_ns(\"ind\").AllPurposeFlour,\n",
    "    \"all-purpose flour\": kg.get_ns(\"ind\").AllPurposeFlour,\n",
    "    \"whole wheat flour\": kg.get_ns(\"ind\").WholeWheatFlour,\n",
    "\n",
    "    \"olive oil\": kg.get_ns(\"ind\").OliveOil,\n",
    "    \"vinegar\": kg.get_ns(\"ind\").AppleCiderVinegar,\n",
    "\n",
    "    \"garlic\": kg.get_ns(\"ind\").Garlic,\n",
    "    \"garlic clove\": kg.get_ns(\"ind\").Garlic,\n",
    "    \"garlic cloves\": kg.get_ns(\"ind\").Garlic,\n",
    "\n",
    "    \"onion\": kg.get_ns(\"ind\").Onion,\n",
    "    \"onions\": kg.get_ns(\"ind\").Onion,\n",
    "    \"cabbage\": kg.get_ns(\"ind\").Cabbage,\n",
    "    \"carrot\": kg.get_ns(\"ind\").Carrot,\n",
    "    \"carrots\": kg.get_ns(\"ind\").Carrot,\n",
    "    \"celery\": kg.get_ns(\"ind\").Celery,\n",
    "    \"potato\": kg.get_ns(\"ind\").Potato,\n",
    "    \"potatoes\": kg.get_ns(\"ind\").Potato,\n",
    "    \"tomato\": kg.get_ns(\"ind\").Tomato,\n",
    "    \"tomatoes\": kg.get_ns(\"ind\").Tomato,\n",
    "    \n",
    "    \"baking powder\": kg.get_ns(\"ind\").BakingPowder,\n",
    "    \"baking soda\": kg.get_ns(\"ind\").BakingSoda,\n",
    "}"
   ]
  },
  {
   "cell_type": "markdown",
   "metadata": {},
   "source": [
    "This is where use of NLP work to produce *annotations* begins to overlap with KG pratices."
   ]
  },
  {
   "cell_type": "markdown",
   "metadata": {},
   "source": [
    "Now let's load our dataset of recipes – the `dat/recipes.csv` file in CSV format – into a `pandas` dataframe:"
   ]
  },
  {
   "cell_type": "code",
   "execution_count": 5,
   "metadata": {},
   "outputs": [
    {
     "data": {
      "text/html": [
       "<div>\n",
       "<style scoped>\n",
       "    .dataframe tbody tr th:only-of-type {\n",
       "        vertical-align: middle;\n",
       "    }\n",
       "\n",
       "    .dataframe tbody tr th {\n",
       "        vertical-align: top;\n",
       "    }\n",
       "\n",
       "    .dataframe thead th {\n",
       "        text-align: right;\n",
       "    }\n",
       "</style>\n",
       "<table border=\"1\" class=\"dataframe\">\n",
       "  <thead>\n",
       "    <tr style=\"text-align: right;\">\n",
       "      <th></th>\n",
       "      <th>id</th>\n",
       "      <th>name</th>\n",
       "      <th>minutes</th>\n",
       "      <th>tags</th>\n",
       "      <th>description</th>\n",
       "      <th>ingredients</th>\n",
       "    </tr>\n",
       "  </thead>\n",
       "  <tbody>\n",
       "    <tr>\n",
       "      <th>0</th>\n",
       "      <td>164636</td>\n",
       "      <td>1 1 1 tempura batter</td>\n",
       "      <td>5</td>\n",
       "      <td>['15-minutes-or-less', 'time-to-make', 'course...</td>\n",
       "      <td>i use this everytime i make onion rings, hot p...</td>\n",
       "      <td>['egg', 'flour', 'water']</td>\n",
       "    </tr>\n",
       "    <tr>\n",
       "      <th>1</th>\n",
       "      <td>144841</td>\n",
       "      <td>2 step pound cake  for a kitchen aide mixer</td>\n",
       "      <td>110</td>\n",
       "      <td>['time-to-make', 'course', 'preparation', 'occ...</td>\n",
       "      <td>this recipe was published in a southern living...</td>\n",
       "      <td>['flour', 'sugar', 'butter', 'milk', 'eggs', '...</td>\n",
       "    </tr>\n",
       "    <tr>\n",
       "      <th>2</th>\n",
       "      <td>189437</td>\n",
       "      <td>40 second omelet</td>\n",
       "      <td>25</td>\n",
       "      <td>['30-minutes-or-less', 'time-to-make', 'course...</td>\n",
       "      <td>you'll need an \"inverted pancake turner\" for t...</td>\n",
       "      <td>['eggs', 'water', 'butter']</td>\n",
       "    </tr>\n",
       "    <tr>\n",
       "      <th>3</th>\n",
       "      <td>19104</td>\n",
       "      <td>all purpose dinner crepes batter</td>\n",
       "      <td>90</td>\n",
       "      <td>['weeknight', 'time-to-make', 'course', 'main-...</td>\n",
       "      <td>this basic crepe recipe can be used for all yo...</td>\n",
       "      <td>['eggs', 'salt', 'flour', 'milk', 'butter']</td>\n",
       "    </tr>\n",
       "    <tr>\n",
       "      <th>4</th>\n",
       "      <td>64793</td>\n",
       "      <td>amish friendship starter</td>\n",
       "      <td>14405</td>\n",
       "      <td>['weeknight', 'time-to-make', 'course', 'cuisi...</td>\n",
       "      <td>this recipe was given to me years ago by a fri...</td>\n",
       "      <td>['sugar', 'flour', 'milk']</td>\n",
       "    </tr>\n",
       "  </tbody>\n",
       "</table>\n",
       "</div>"
      ],
      "text/plain": [
       "       id                                         name  minutes  \\\n",
       "0  164636                         1 1 1 tempura batter        5   \n",
       "1  144841  2 step pound cake  for a kitchen aide mixer      110   \n",
       "2  189437                             40 second omelet       25   \n",
       "3   19104             all purpose dinner crepes batter       90   \n",
       "4   64793                     amish friendship starter    14405   \n",
       "\n",
       "                                                tags  \\\n",
       "0  ['15-minutes-or-less', 'time-to-make', 'course...   \n",
       "1  ['time-to-make', 'course', 'preparation', 'occ...   \n",
       "2  ['30-minutes-or-less', 'time-to-make', 'course...   \n",
       "3  ['weeknight', 'time-to-make', 'course', 'main-...   \n",
       "4  ['weeknight', 'time-to-make', 'course', 'cuisi...   \n",
       "\n",
       "                                         description  \\\n",
       "0  i use this everytime i make onion rings, hot p...   \n",
       "1  this recipe was published in a southern living...   \n",
       "2  you'll need an \"inverted pancake turner\" for t...   \n",
       "3  this basic crepe recipe can be used for all yo...   \n",
       "4  this recipe was given to me years ago by a fri...   \n",
       "\n",
       "                                         ingredients  \n",
       "0                          ['egg', 'flour', 'water']  \n",
       "1  ['flour', 'sugar', 'butter', 'milk', 'eggs', '...  \n",
       "2                        ['eggs', 'water', 'butter']  \n",
       "3        ['eggs', 'salt', 'flour', 'milk', 'butter']  \n",
       "4                         ['sugar', 'flour', 'milk']  "
      ]
     },
     "execution_count": 5,
     "metadata": {},
     "output_type": "execute_result"
    }
   ],
   "source": [
    "from os.path import dirname\n",
    "import os\n",
    "import pandas as pd\n",
    "\n",
    "df = pd.read_csv(dirname(os.getcwd()) + \"/dat/recipes.csv\")\n",
    "df.head()"
   ]
  },
  {
   "cell_type": "markdown",
   "metadata": {},
   "source": [
    "Then iterate over the rows in the dataframe, representing a recipe in the KG for each row:"
   ]
  },
  {
   "cell_type": "code",
   "execution_count": 6,
   "metadata": {},
   "outputs": [],
   "source": [
    "import rdflib\n",
    "\n",
    "for index, row in df.iterrows():\n",
    "    recipe_id = row[\"id\"]\n",
    "    node = rdflib.URIRef(\"https://www.food.com/recipe/{}\".format(recipe_id))\n",
    "    kg.add(node, kg.get_ns(\"rdf\").type, kg.get_ns(\"wtm\").Recipe)\n",
    "\n",
    "    recipe_name = row[\"name\"]\n",
    "    kg.add(node, kg.get_ns(\"skos\").definition, rdflib.Literal(recipe_name))\n",
    "    \n",
    "    cook_time = row[\"minutes\"]\n",
    "    cook_time_literal = \"PT{}M\".format(int(cook_time))\n",
    "    code_time_node = rdflib.Literal(cook_time_literal, datatype=kg.get_ns(\"xsd\").duration)\n",
    "    kg.add(node, kg.get_ns(\"wtm\").hasCookTime, code_time_node)\n",
    "    \n",
    "    ind_list = eval(row[\"ingredients\"])\n",
    "\n",
    "    for ind in ind_list:\n",
    "        ingredient = ind.strip()\n",
    "        ingredient_obj = common_ingredient[ingredient]\n",
    "        kg.add(node, kg.get_ns(\"wtm\").hasIngredient, ingredient_obj)"
   ]
  },
  {
   "cell_type": "markdown",
   "metadata": {},
   "source": [
    "Notice how the `xsd:duration` literal is now getting used to represent cooking times.\n",
    "\n",
    "We've structured this example such that each of the recipes in the CSV file has a known representation for all of its ingredients.\n",
    "There are nearly 250K recipes in the full dataset from <https://food.com/> so the `common_ingredient` dictionary would need to be extended quite a lot to handle all of those possible ingredients."
   ]
  },
  {
   "cell_type": "markdown",
   "metadata": {},
   "source": [
    "At this stage, our graph has grown by a couple orders of magnitude, so its visualization should be more interesting now.\n",
    "Let's take a look:"
   ]
  },
  {
   "cell_type": "code",
   "execution_count": 7,
   "metadata": {},
   "outputs": [
    {
     "data": {
      "text/html": [
       "\n",
       "        <iframe\n",
       "            width=\"500px\"\n",
       "            height=\"500px\"\n",
       "            src=\"tmp.fig01.html\"\n",
       "            frameborder=\"0\"\n",
       "            allowfullscreen\n",
       "        ></iframe>\n",
       "        "
      ],
      "text/plain": [
       "<IPython.lib.display.IFrame at 0x7fcd3eac2310>"
      ]
     },
     "execution_count": 7,
     "metadata": {},
     "output_type": "execute_result"
    }
   ],
   "source": [
    "VIS_STYLE = {\n",
    "    \"wtm\": {\n",
    "        \"color\": \"orange\",\n",
    "        \"size\": 20,\n",
    "    },\n",
    "    \"ind\":{\n",
    "        \"color\": \"blue\",\n",
    "        \"size\": 35,\n",
    "    },\n",
    "}\n",
    "\n",
    "subgraph = kglab.FrameND(kg)  # use N-dimensional frame to handle the subgraph\n",
    "pyvis_graph = subgraph.build_pyvis_graph(notebook=True, style=VIS_STYLE)\n",
    "\n",
    "pyvis_graph.force_atlas_2based()\n",
    "pyvis_graph.show(\"tmp.fig01.html\")"
   ]
  },
  {
   "cell_type": "markdown",
   "metadata": {},
   "source": [
    "Given the defaults for this kind of visualization, there's likely a dense center mass of orange (recipes) at the center, with a close cluster of common ingredients (dark blue), surrounded by less common ingredients and cooking times (light blue)."
   ]
  },
  {
   "cell_type": "markdown",
   "metadata": {},
   "source": [
    "## Performance analysis of serialization methods"
   ]
  },
  {
   "cell_type": "markdown",
   "metadata": {},
   "source": [
    "Let's serialize this recipe KG constructed from the CSV dataset to a local TTL file, while measuring the time and disk space required:"
   ]
  },
  {
   "cell_type": "code",
   "execution_count": 8,
   "metadata": {},
   "outputs": [],
   "source": [
    "import time\n",
    "\n",
    "write_times = []\n",
    "\n",
    "t0 = time.time()\n",
    "kg.save_rdf(\"tmp.ttl\")\n",
    "write_times.append(round((time.time() - t0) * 1000.0, 2))"
   ]
  },
  {
   "cell_type": "markdown",
   "metadata": {},
   "source": [
    "Let's also serialize the KG into the other formats that we've been using, to compare relative sizes for a medium size KG:"
   ]
  },
  {
   "cell_type": "code",
   "execution_count": 9,
   "metadata": {},
   "outputs": [],
   "source": [
    "t0 = time.time()\n",
    "kg.save_rdf(\"tmp.xml\", format=\"xml\")\n",
    "write_times.append(round((time.time() - t0) * 1000.0, 2))\n",
    "\n",
    "t0 = time.time()\n",
    "kg.save_jsonld(\"tmp.jsonld\")\n",
    "write_times.append(round((time.time() - t0) * 1000.0, 2))\n",
    "\n",
    "t0 = time.time()\n",
    "kg.save_parquet(\"tmp.parquet\")\n",
    "write_times.append(round((time.time() - t0) * 1000.0, 2))"
   ]
  },
  {
   "cell_type": "code",
   "execution_count": 10,
   "metadata": {},
   "outputs": [
    {
     "data": {
      "text/html": [
       "<div>\n",
       "<style scoped>\n",
       "    .dataframe tbody tr th:only-of-type {\n",
       "        vertical-align: middle;\n",
       "    }\n",
       "\n",
       "    .dataframe tbody tr th {\n",
       "        vertical-align: top;\n",
       "    }\n",
       "\n",
       "    .dataframe thead th {\n",
       "        text-align: right;\n",
       "    }\n",
       "</style>\n",
       "<table border=\"1\" class=\"dataframe\">\n",
       "  <thead>\n",
       "    <tr style=\"text-align: right;\">\n",
       "      <th></th>\n",
       "      <th>file_path</th>\n",
       "      <th>file_size</th>\n",
       "      <th>write_time</th>\n",
       "      <th>ms_per_byte</th>\n",
       "    </tr>\n",
       "  </thead>\n",
       "  <tbody>\n",
       "    <tr>\n",
       "      <th>0</th>\n",
       "      <td>tmp.ttl</td>\n",
       "      <td>56780</td>\n",
       "      <td>116.03</td>\n",
       "      <td>0.002044</td>\n",
       "    </tr>\n",
       "    <tr>\n",
       "      <th>1</th>\n",
       "      <td>tmp.xml</td>\n",
       "      <td>159397</td>\n",
       "      <td>42.04</td>\n",
       "      <td>0.000264</td>\n",
       "    </tr>\n",
       "    <tr>\n",
       "      <th>2</th>\n",
       "      <td>tmp.jsonld</td>\n",
       "      <td>131901</td>\n",
       "      <td>92.12</td>\n",
       "      <td>0.000698</td>\n",
       "    </tr>\n",
       "    <tr>\n",
       "      <th>3</th>\n",
       "      <td>tmp.parquet</td>\n",
       "      <td>14710</td>\n",
       "      <td>37.76</td>\n",
       "      <td>0.002567</td>\n",
       "    </tr>\n",
       "  </tbody>\n",
       "</table>\n",
       "</div>"
      ],
      "text/plain": [
       "     file_path  file_size  write_time  ms_per_byte\n",
       "0      tmp.ttl      56780      116.03     0.002044\n",
       "1      tmp.xml     159397       42.04     0.000264\n",
       "2   tmp.jsonld     131901       92.12     0.000698\n",
       "3  tmp.parquet      14710       37.76     0.002567"
      ]
     },
     "execution_count": 10,
     "metadata": {},
     "output_type": "execute_result"
    }
   ],
   "source": [
    "file_paths = [\"tmp.ttl\", \"tmp.xml\", \"tmp.jsonld\", \"tmp.parquet\"]\n",
    "file_sizes = [os.path.getsize(file_path) for file_path in file_paths]\n",
    "\n",
    "df = pd.DataFrame({\"file_path\": file_paths, \"file_size\": file_sizes, \"write_time\": write_times})\n",
    "df[\"ms_per_byte\"] = df[\"write_time\"] / df[\"file_size\"]\n",
    "df"
   ]
  },
  {
   "cell_type": "markdown",
   "metadata": {},
   "source": [
    "Notice the relative sizes and times?\n",
    "[Parquet](https://parquet.apache.org/) provides for compression in a way that works well with RDF.\n",
    "The same KG stored as a Parquet file is ~10% the size of the same KG stored as JSON-LD.\n",
    "Also the XML version is quite large.\n",
    "\n",
    "Looking at the write times, Parquet is relatively fast (after its first invocation) and its reads are faster.\n",
    "The eponymous Turtle format is human-readable although relatively slow.\n",
    "XML is fast to write, but much larger on disk and difficult to read.\n",
    "JSON-LD is interesting in that any JSON library can read and use these files, without needing semantic technologies, *per se*; however, it's also large on disk."
   ]
  },
  {
   "cell_type": "markdown",
   "metadata": {},
   "source": [
    "---\n",
    "\n",
    "## Exercises"
   ]
  },
  {
   "cell_type": "markdown",
   "metadata": {},
   "source": [
    "**Exercise 1:**\n",
    "\n",
    "Select another ingredient in the <http://purl.org/heals/ingredient/> vocabulary that is not in the `common_ingredient` dictionary, for which you can find at least one simple recipe within <https://food.com/> searches.\n",
    "Then add this recipe into the KG."
   ]
  }
 ],
 "metadata": {
  "kernelspec": {
   "display_name": "Python 3",
   "language": "python",
   "name": "python3"
  },
  "language_info": {
   "codemirror_mode": {
    "name": "ipython",
    "version": 3
   },
   "file_extension": ".py",
   "mimetype": "text/x-python",
   "name": "python",
   "nbconvert_exporter": "python",
   "pygments_lexer": "ipython3",
   "version": "3.7.4"
  }
 },
 "nbformat": 4,
 "nbformat_minor": 4
}
