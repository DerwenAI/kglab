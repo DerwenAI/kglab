{
 "cells": [
  {
   "cell_type": "markdown",
   "metadata": {},
   "source": [
    "# Graph Algebra with `kglab`\n",
    "\n",
    "## intro\n",
    "`kglab` provides tools to access graph data from multiple source to build a `KnowledgeGraph` that can be easily used by data scientists. For a thorough explanation of how to use triples-stored data and how to load this data into `kglab` please see examples in the `examples/` directory. The examples in this directory (`examples/graph_algebra/`) will care to introduce graph algebra capabilities to be used on the graphs the user has loaded. \n",
    "\n",
    "## basic load and querying\n",
    "In particular, once your data is loaded in a `KnowledgeGraph` with something like:\n",
    "\n",
    "1. Instantiate a graph from a dataset:"
   ]
  },
  {
   "cell_type": "code",
   "execution_count": 50,
   "metadata": {},
   "outputs": [
    {
     "data": {
      "text/plain": [
       "<kglab.kglab.KnowledgeGraph at 0x7f818fd89c40>"
      ]
     },
     "execution_count": 50,
     "metadata": {},
     "output_type": "execute_result"
    }
   ],
   "source": [
    "# for use in tutorial and development; do not include this `sys.path` change in production:\n",
    "import sys ; sys.path.insert(0, \"../../\")\n",
    "import warnings\n",
    "warnings.filterwarnings('ignore')\n",
    "\n",
    "from os.path import dirname\n",
    "import kglab\n",
    "import os\n",
    "\n",
    "namespaces = {\n",
    "    \"foaf\": \"http://xmlns.com/foaf/0.1/\",\n",
    "    \"gorm\": \"http://example.org/sagas#\",\n",
    "    \"rel\":  \"http://purl.org/vocab/relationship/\",\n",
    "    }\n",
    "\n",
    "kg = kglab.KnowledgeGraph(\n",
    "    name = \"Happy Vikings KG example for SKOS/OWL inference\",\n",
    "    namespaces=namespaces,\n",
    "    )\n",
    "\n",
    "kg.load_rdf(dirname(dirname(os.getcwd())) + \"/dat/gorm.ttl\")"
   ]
  },
  {
   "cell_type": "markdown",
   "metadata": {},
   "source": [
    "\n",
    "2. It is possible to create a subgraph by providing a SPARQL query, by defining a \"subject\" and \"object\":\n"
   ]
  },
  {
   "cell_type": "code",
   "execution_count": 51,
   "metadata": {},
   "outputs": [
    {
     "data": {
      "text/html": [
       "<div>\n",
       "<style scoped>\n",
       "    .dataframe tbody tr th:only-of-type {\n",
       "        vertical-align: middle;\n",
       "    }\n",
       "\n",
       "    .dataframe tbody tr th {\n",
       "        vertical-align: top;\n",
       "    }\n",
       "\n",
       "    .dataframe thead th {\n",
       "        text-align: right;\n",
       "    }\n",
       "</style>\n",
       "<table border=\"1\" class=\"dataframe\">\n",
       "  <thead>\n",
       "    <tr style=\"text-align: right;\">\n",
       "      <th></th>\n",
       "      <th>subject</th>\n",
       "      <th>object</th>\n",
       "    </tr>\n",
       "  </thead>\n",
       "  <tbody>\n",
       "    <tr>\n",
       "      <th>0</th>\n",
       "      <td>gorm:Astrid</td>\n",
       "      <td>gorm:Leif</td>\n",
       "    </tr>\n",
       "    <tr>\n",
       "      <th>1</th>\n",
       "      <td>gorm:Astrid</td>\n",
       "      <td>gorm:Bodil</td>\n",
       "    </tr>\n",
       "    <tr>\n",
       "      <th>2</th>\n",
       "      <td>gorm:Leif</td>\n",
       "      <td>gorm:Bjorn</td>\n",
       "    </tr>\n",
       "    <tr>\n",
       "      <th>3</th>\n",
       "      <td>gorm:Bjorn</td>\n",
       "      <td>gorm:Gorm</td>\n",
       "    </tr>\n",
       "  </tbody>\n",
       "</table>\n",
       "</div>"
      ],
      "text/plain": [
       "       subject      object\n",
       "0  gorm:Astrid   gorm:Leif\n",
       "1  gorm:Astrid  gorm:Bodil\n",
       "2    gorm:Leif  gorm:Bjorn\n",
       "3   gorm:Bjorn   gorm:Gorm"
      ]
     },
     "execution_count": 51,
     "metadata": {},
     "output_type": "execute_result"
    }
   ],
   "source": [
    "query = \"\"\"SELECT ?subject ?object\n",
    "WHERE {\n",
    "    ?subject rdf:type gorm:Viking .\n",
    "    ?subject gorm:childOf ?object .\n",
    "}\n",
    "\"\"\"\n",
    "df = kg.query_as_df(query)\n",
    "df"
   ]
  },
  {
   "cell_type": "markdown",
   "metadata": {},
   "source": [
    "\n",
    "## define a subgraph\n",
    "In this case we are looking for the network of parent-child relations among members of Vikings family.\n",
    "\n",
    "With this query we can define a __*subgraph* so to have access to *graph algebra* capabilities__: "
   ]
  },
  {
   "cell_type": "code",
   "execution_count": 52,
   "metadata": {},
   "outputs": [],
   "source": [
    "from kglab.frame import Frame2D\n",
    "\n",
    "subgraph = Frame2D(kg=kg, sparql=query)\n"
   ]
  },
  {
   "cell_type": "markdown",
   "metadata": {},
   "source": [
    "## compute Adjacency matrices\n",
    "Let's compute the first basic adjacency matrix (usually noted with `A`):"
   ]
  },
  {
   "cell_type": "code",
   "execution_count": 53,
   "metadata": {},
   "outputs": [
    {
     "data": {
      "text/plain": [
       "array([[0., 1., 1., 0., 0.],\n",
       "       [0., 0., 0., 1., 0.],\n",
       "       [0., 0., 0., 0., 0.],\n",
       "       [0., 0., 0., 0., 1.],\n",
       "       [0., 0., 0., 0., 0.]])"
      ]
     },
     "execution_count": 53,
     "metadata": {},
     "output_type": "execute_result"
    }
   ],
   "source": [
    "adj_matrix = subgraph.to_adjacency()\n",
    "adj_matrix"
   ]
  },
  {
   "cell_type": "markdown",
   "metadata": {},
   "source": [
    "what happened here is that all the subjects and objects have been turned into integer indices from 0 to number of nodes. So we can see that the entity with index 0 is adjancent (is connected, has a directed edge) to the entity with index 1. This is a directed graph because the relationship `gorm:childOf` goes from child to parent, let's turn this into an undirected graph so to see the relation in a more symmetric way (both the child-parent and parent-child).\n",
    "\n",
    "We can check the labels attached to the matrix's indices with:"
   ]
  },
  {
   "cell_type": "code",
   "execution_count": 54,
   "metadata": {},
   "outputs": [
    {
     "name": "stdout",
     "output_type": "stream",
     "text": [
      "index -> label\n",
      "0 -> http://example.org/sagas#Astrid\n",
      "1 -> http://example.org/sagas#Leif\n",
      "2 -> http://example.org/sagas#Bodil\n",
      "3 -> http://example.org/sagas#Bjorn\n",
      "4 -> http://example.org/sagas#Gorm\n"
     ]
    }
   ],
   "source": [
    "print(\"index\", \"->\", \"label\")\n",
    "for i in range(adj_matrix.shape[0]):\n",
    "    print(\n",
    "        i, \"->\", subgraph.inverse_transform(i)  # returns a label from an index\n",
    "    )"
   ]
  },
  {
   "cell_type": "markdown",
   "metadata": {},
   "source": [
    "We can see from the matrix, assigning labels to the indices, for examples that: Astrid is child of Leif and Bodil.\n",
    "\n",
    "This is one of the great functionality provided by the semantic layer (data that is represented by W3C Linked Data standard), to represent relationships in both human-understandable and machine-readable way.\n",
    "\n",
    "Another useful method is `describe()`, that returns some statistics of the graph if they can be computed:"
   ]
  },
  {
   "cell_type": "code",
   "execution_count": 55,
   "metadata": {},
   "outputs": [
    {
     "data": {
      "text/plain": [
       "{'n_nodes': 5,\n",
       " 'n_edges': 4,\n",
       " 'center_msg': 'Found infinite path length because the digraph is not strongly connected',\n",
       " 'diameter_msg': 'Found infinite path length because the digraph is not strongly connected',\n",
       " 'eccentricity_msg': 'Found infinite path length because the digraph is not strongly connected',\n",
       " 'center': None,\n",
       " 'diameter': None,\n",
       " 'eccentricity': None}"
      ]
     },
     "execution_count": 55,
     "metadata": {},
     "output_type": "execute_result"
    }
   ],
   "source": [
    "subgraph.describe()"
   ]
  },
  {
   "cell_type": "markdown",
   "metadata": {},
   "source": [
    "\n",
    "## other relevant matrices for a graph\n",
    "\n",
    "To compute the *vertices degrees matrix* we need to port our directed graph (semantic data graph are always directed as by design triples are `subject->relation->object`) into an undirected ones. This obviously preserve the existence of the relationships but not their direction."
   ]
  },
  {
   "cell_type": "code",
   "execution_count": 56,
   "metadata": {},
   "outputs": [
    {
     "data": {
      "text/plain": [
       "array([[0., 1., 1., 0., 0.],\n",
       "       [1., 0., 0., 1., 0.],\n",
       "       [1., 0., 0., 0., 0.],\n",
       "       [0., 1., 0., 0., 1.],\n",
       "       [0., 0., 0., 1., 0.]])"
      ]
     },
     "execution_count": 56,
     "metadata": {},
     "output_type": "execute_result"
    }
   ],
   "source": [
    "undirected_adj_mtx = subgraph.to_undirected()\n",
    "undirected_adj_mtx"
   ]
  },
  {
   "cell_type": "markdown",
   "metadata": {},
   "source": [
    "We can see now the relationship is a generic symmetric \"parenthood\" relations, not just a child-parent directed relationship. We can still say that: Leif and Bodil and Astrid are first-degree kins (parent-child or siblings). \n",
    "\n",
    "Same easy way we can compute the vertices degrees matrix:"
   ]
  },
  {
   "cell_type": "code",
   "execution_count": 57,
   "metadata": {},
   "outputs": [
    {
     "data": {
      "text/plain": [
       "array([[ 2, -1, -1,  0,  0],\n",
       "       [-1,  2,  0, -1,  0],\n",
       "       [-1,  0,  1,  0,  0],\n",
       "       [ 0, -1,  0,  2, -1],\n",
       "       [ 0,  0,  0, -1,  1]])"
      ]
     },
     "execution_count": 57,
     "metadata": {},
     "output_type": "execute_result"
    }
   ],
   "source": [
    "laplacian = subgraph.to_laplacian()\n",
    "laplacian"
   ]
  },
  {
   "cell_type": "markdown",
   "metadata": {},
   "source": [
    "An incidence, or edge matrix `E`, uses by convention the rows to represent every node in the graph and the columns represent every edge. Some other convention does the opposite."
   ]
  },
  {
   "cell_type": "code",
   "execution_count": 58,
   "metadata": {},
   "outputs": [
    {
     "data": {
      "text/plain": [
       "array([[1., 1., 0., 0.],\n",
       "       [1., 0., 1., 0.],\n",
       "       [0., 1., 0., 0.],\n",
       "       [0., 0., 1., 1.],\n",
       "       [0., 0., 0., 1.]])"
      ]
     },
     "execution_count": 58,
     "metadata": {},
     "output_type": "execute_result"
    }
   ],
   "source": [
    "incidence = subgraph.to_incidence()\n",
    "incidence"
   ]
  },
  {
   "cell_type": "markdown",
   "metadata": {},
   "source": [
    "## try another query\n",
    "Let's try the same tools with another query that will define a different subgraph from the main graph: "
   ]
  },
  {
   "cell_type": "code",
   "execution_count": 59,
   "metadata": {},
   "outputs": [],
   "source": [
    "query2 = \"\"\"SELECT ?subject ?object\n",
    "WHERE {\n",
    "    ?subject rdf:type gorm:Viking .\n",
    "    ?subject gorm:spouseOf ?object .\n",
    "}\n",
    "\"\"\"\n",
    "df = kg.query_as_df(query2)"
   ]
  },
  {
   "cell_type": "markdown",
   "metadata": {},
   "source": [
    "This time we try a *symmetric* relation `gorm:spouseOf`. Let's try to understand better how the RDF definition of our semantic layer works:"
   ]
  },
  {
   "cell_type": "code",
   "execution_count": 60,
   "metadata": {},
   "outputs": [
    {
     "name": "stdout",
     "output_type": "stream",
     "text": [
      "@prefix foaf: <http://xmlns.com/foaf/0.1/> .\n",
      "@prefix gorm: <http://example.org/sagas#> .\n",
      "@prefix owl: <http://www.w3.org/2002/07/owl#> .\n",
      "@prefix rdfs: <http://www.w3.org/2000/01/rdf-schema#> .\n",
      "@prefix skos: <http://www.w3.org/2004/02/skos/core#> .\n",
      "\n",
      "gorm:Astrid a gorm:Viking ;\n",
      "    gorm:childOf gorm:Bodil,\n",
      "        gorm:Leif ;\n",
      "    foaf:topic_interest gorm:Fighting .\n",
      "\n",
      "gorm:childOf rdfs:domain gorm:Viking ;\n",
      "    rdfs:range gorm:Viking ;\n",
      "    owl:inverseOf gorm:ancestorOf .\n",
      "\n",
      "gorm:spouseOf a owl:SymmetricProperty ;\n",
      "    rdfs:domain gorm:Viking ;\n",
      "    rdfs:range gorm:Viking .\n",
      "\n",
      "gorm:Berserkr a foaf:Thing ;\n",
      "    skos:broader gorm:Fighting .\n",
      "\n",
      "gorm:Bjorn a gorm:Viking ;\n",
      "    gorm:childOf gorm:Gorm ;\n",
      "    foaf:topic_interest gorm:Pilaging .\n",
      "\n",
      "gorm:Bodil a gorm:Viking ;\n",
      "    gorm:spouseOf gorm:Leif .\n",
      "\n",
      "gorm:Gorm a gorm:Viking ;\n",
      "    foaf:topic_interest gorm:Berserkr .\n",
      "\n",
      "gorm:Pilaging a foaf:Thing ;\n",
      "    skos:broader gorm:Fighting .\n",
      "\n",
      "gorm:Leif a gorm:Viking ;\n",
      "    gorm:childOf gorm:Bjorn .\n",
      "\n",
      "gorm:Fighting a foaf:Thing .\n",
      "\n",
      "gorm:Viking a foaf:Person .\n",
      "\n",
      "\n"
     ]
    }
   ],
   "source": [
    "text = kg.save_rdf_text()\n",
    "print(text)"
   ]
  },
  {
   "cell_type": "markdown",
   "metadata": {},
   "source": [
    "As you can see `gorm:spouseOf` is defined as what the OWL standard calls a `owl:SymmetricProperty`, for this relation **domain** (the definition of the set of subject) and **range** (the definition of the set of object) are the same: so the triple looks like: `gorm:Viking`->`gorm:spouseOf`->`gorm:Viking`. Let's what data this relation returns."
   ]
  },
  {
   "cell_type": "code",
   "execution_count": 61,
   "metadata": {},
   "outputs": [
    {
     "data": {
      "text/plain": [
       "array([[0., 1.],\n",
       "       [0., 0.]])"
      ]
     },
     "execution_count": 61,
     "metadata": {},
     "output_type": "execute_result"
    }
   ],
   "source": [
    "subgraph2 = Frame2D(kg=kg, sparql=query2)\n",
    "A = subgraph2.to_adjacency()\n",
    "A"
   ]
  },
  {
   "cell_type": "code",
   "execution_count": 62,
   "metadata": {},
   "outputs": [
    {
     "name": "stdout",
     "output_type": "stream",
     "text": [
      "0 -> http://example.org/sagas#Bodil\n",
      "1 -> http://example.org/sagas#Leif\n"
     ]
    }
   ],
   "source": [
    "# Labels\n",
    "for i in range(A.shape[0]):\n",
    "    print(\n",
    "        i, \"->\", subgraph2.inverse_transform(i)  # returns a label from an index\n",
    "    )"
   ]
  },
  {
   "cell_type": "markdown",
   "metadata": {},
   "source": [
    "Turning this matrix representation into undirected, we can read more generic \"is married to\" relation:"
   ]
  },
  {
   "cell_type": "code",
   "execution_count": 63,
   "metadata": {},
   "outputs": [
    {
     "data": {
      "text/plain": [
       "array([[0., 1.],\n",
       "       [1., 0.]])"
      ]
     },
     "execution_count": 63,
     "metadata": {},
     "output_type": "execute_result"
    }
   ],
   "source": [
    "undirected = subgraph2.to_undirected()\n",
    "undirected"
   ]
  }
 ],
 "metadata": {
  "kernelspec": {
   "display_name": "Python 3.10.6 64-bit",
   "language": "python",
   "name": "python3"
  },
  "language_info": {
   "codemirror_mode": {
    "name": "ipython",
    "version": 3
   },
   "file_extension": ".py",
   "mimetype": "text/x-python",
   "name": "python",
   "nbconvert_exporter": "python",
   "pygments_lexer": "ipython3",
   "version": "3.10.6"
  },
  "orig_nbformat": 4,
  "vscode": {
   "interpreter": {
    "hash": "916dbcbb3f70747c44a77c7bcd40155683ae19c65e1c03b4aa3499c5328201f1"
   }
  }
 },
 "nbformat": 4,
 "nbformat_minor": 2
}
