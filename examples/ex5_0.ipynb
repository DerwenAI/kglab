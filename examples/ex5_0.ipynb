{
 "cells": [
  {
   "cell_type": "code",
   "execution_count": 1,
   "metadata": {},
   "outputs": [],
   "source": [
    "# for use in tutorial and development; do not include this `sys.path` change in production:\n",
    "import sys ; sys.path.insert(0, \"../\")"
   ]
  },
  {
   "cell_type": "markdown",
   "metadata": {},
   "source": [
    "# SHACL validation with `pySHACL`\n",
    "\n",
    "Let's explore use of the [W3 Shapes Constraint Language](https://www.w3.org/TR/shacl/) (SHACL) based on the [`pySHACL`](https://github.com/RDFLib/pySHACL) library.\n",
    "\n",
    "When we build KGs, it can be helpful to think of the different semantic technologies in terms of layers:\n",
    "\n",
    "  * [SKOS](https://www.w3.org/2001/sw/wiki/SKOS) - *thesauri* and *classification*\n",
    "  * [SHACL](https://www.w3.org/TR/shacl/) - *requirements*\n",
    "  * [OWL](https://www.w3.org/OWL/) - *concepts*\n",
    "  * [RDF](https://www.w3.org/TR/rdf11-primer/) - *represent nodes, predicates, literals*\n",
    "\n",
    "For an excellent overview + demos of SHACL, see [`shacl-masterclass`](https://github.com/veleda/shacl-masterclass) by Veronika Heimsbakk.\n",
    "Another great online resource for working with SHACL is the [SHACL Playground](https://shacl.org/playground/).\n",
    "\n",
    "With SHACL we can *validate* as well as run some forms of inference to complement what's provided by RDF, OWL, and so on. For a good overview, see the discussion about SHACL and other rule-base approaches in general in [\"Rules for Knowledge Graphs Rules\"](https://dmccreary.medium.com/rules-for-knowledge-graphs-rules-f22587307a8f) by Dan McCreary."
   ]
  },
  {
   "cell_type": "markdown",
   "metadata": {},
   "source": [
    "First, we'll show one of the examples from `pySHACL`, starting with its SHACL *shapes graph* in Turtle format:"
   ]
  },
  {
   "cell_type": "code",
   "execution_count": 2,
   "metadata": {},
   "outputs": [],
   "source": [
    "shapes_graph = \"\"\"\n",
    "@prefix sh:     <http://www.w3.org/ns/shacl#> .\n",
    "@prefix xsd:    <http://www.w3.org/2001/XMLSchema#> .\n",
    "@prefix schema: <http://schema.org/> .\n",
    "\n",
    "schema:PersonShape\n",
    "    a sh:NodeShape ;\n",
    "    sh:targetClass schema:Person ;\n",
    "    sh:property [\n",
    "        sh:path schema:givenName ;\n",
    "        sh:datatype xsd:string ;\n",
    "        sh:name \"given name\" ;\n",
    "    ] ;\n",
    "    sh:property [\n",
    "        sh:path schema:birthDate ;\n",
    "        sh:lessThan schema:deathDate ;\n",
    "        sh:maxCount 1 ;\n",
    "    ] ;\n",
    "    sh:property [\n",
    "        sh:path schema:gender ;\n",
    "        sh:in ( \"female\" \"male\" \"nonbinary\" \"self-descr\" ) ;\n",
    "    ] ;\n",
    "    sh:property [\n",
    "        sh:path schema:address ;\n",
    "        sh:node schema:AddressShape ;\n",
    "    ] .\n",
    "\n",
    "schema:AddressShape\n",
    "    a sh:NodeShape ;\n",
    "    sh:closed true ;\n",
    "    sh:property [\n",
    "        sh:path schema:streetAddress ;\n",
    "        sh:datatype xsd:string ;\n",
    "    ] ;\n",
    "    sh:property [\n",
    "        sh:path schema:postalCode ;\n",
    "        sh:datatype xsd:integer ;\n",
    "        sh:minInclusive 10000 ;\n",
    "        sh:maxInclusive 99999 ;\n",
    "    ] .\n",
    "\"\"\""
   ]
  },
  {
   "cell_type": "markdown",
   "metadata": {},
   "source": [
    "Then define a simple *data graph* to test against, given in JSON-LD format:"
   ]
  },
  {
   "cell_type": "code",
   "execution_count": 3,
   "metadata": {},
   "outputs": [],
   "source": [
    "data_graph = \"\"\"\n",
    "{\n",
    "    \"@context\": { \"@vocab\": \"http://schema.org/\" },\n",
    "    \"@id\": \"http://example.org/ns#Bob\",\n",
    "    \"@type\": \"Person\",\n",
    "    \"givenName\": \"Robert\",\n",
    "    \"familyName\": \"Junior\",\n",
    "\n",
    "    \"birthDate\": \"1971-07-07\",\n",
    "    \"deathDate\": \"1968-09-10\",\n",
    "    \"address\": {\n",
    "        \"@id\": \"http://example.org/ns#BobsAddress\",\n",
    "        \"streetAddress\": \"1600 Amphitheatre Pkway\",\n",
    "        \"postalCode\": 9404\n",
    "    }\n",
    "}\n",
    "\"\"\""
   ]
  },
  {
   "cell_type": "markdown",
   "metadata": {},
   "source": [
    "Now let's run `pySHACL` directly, to test whether this data graph conforms to its shapes graph, then print out the results:"
   ]
  },
  {
   "cell_type": "code",
   "execution_count": 4,
   "metadata": {},
   "outputs": [
    {
     "name": "stderr",
     "output_type": "stream",
     "text": [
      "Constraint Violation in LessThanConstraintComponent (http://www.w3.org/ns/shacl#LessThanConstraintComponent):\n",
      "\tSeverity: sh:Violation\n",
      "\tSource Shape: [ sh:lessThan schema:deathDate ; sh:maxCount Literal(\"1\", datatype=xsd:integer) ; sh:path schema:birthDate ]\n",
      "\tFocus Node: <http://example.org/ns#Bob>\n",
      "\tValue Node: Literal(\"1971-07-07\")\n",
      "\tResult Path: schema:birthDate\n",
      "\tMessage: Value of <http://example.org/ns#Bob>->schema:deathDate <= Literal(\"1971-07-07\")\n",
      "\n",
      "Constraint Violation in MinInclusiveConstraintComponent (http://www.w3.org/ns/shacl#MinInclusiveConstraintComponent):\n",
      "\tSeverity: sh:Violation\n",
      "\tSource Shape: [ sh:datatype xsd:integer ; sh:maxInclusive Literal(\"99999\", datatype=xsd:integer) ; sh:minInclusive Literal(\"10000\", datatype=xsd:integer) ; sh:path schema:postalCode ]\n",
      "\tFocus Node: <http://example.org/ns#BobsAddress>\n",
      "\tValue Node: Literal(\"9404\", datatype=xsd:integer)\n",
      "\tResult Path: schema:postalCode\n",
      "\tMessage: Value is not >= Literal(\"10000\", datatype=xsd:integer)\n",
      "\n",
      "Constraint Violation in NodeConstraintComponent (http://www.w3.org/ns/shacl#NodeConstraintComponent):\n",
      "\tSeverity: sh:Violation\n",
      "\tSource Shape: [ sh:node schema:AddressShape ; sh:path schema:address ]\n",
      "\tFocus Node: <http://example.org/ns#Bob>\n",
      "\tValue Node: <http://example.org/ns#BobsAddress>\n",
      "\tResult Path: schema:address\n",
      "\tMessage: Value does not conform to Shape schema:AddressShape\n",
      "\n"
     ]
    },
    {
     "name": "stdout",
     "output_type": "stream",
     "text": [
      "conforms False\n"
     ]
    }
   ],
   "source": [
    "import pyshacl\n",
    "\n",
    "results = pyshacl.validate(\n",
    "    data_graph,\n",
    "    shacl_graph=shapes_graph,\n",
    "    data_graph_format=\"json-ld\",\n",
    "    shacl_graph_format=\"ttl\",\n",
    "    inference=\"rdfs\",\n",
    "    debug=True,\n",
    "    serialize_report_graph=\"ttl\",\n",
    "    )\n",
    "\n",
    "conforms, report_graph, report_text = results\n",
    "\n",
    "print(\"conforms\", conforms)"
   ]
  },
  {
   "cell_type": "markdown",
   "metadata": {},
   "source": [
    "The `conforms` flag should return `False` since the given data graph violates some of its shape constraints.\n",
    "Let's look at the `report_text` output for human-readable analysis:"
   ]
  },
  {
   "cell_type": "code",
   "execution_count": 5,
   "metadata": {},
   "outputs": [
    {
     "name": "stdout",
     "output_type": "stream",
     "text": [
      "Validation Report\n",
      "Conforms: False\n",
      "Results (2):\n",
      "Constraint Violation in LessThanConstraintComponent (http://www.w3.org/ns/shacl#LessThanConstraintComponent):\n",
      "\tSeverity: sh:Violation\n",
      "\tSource Shape: [ sh:lessThan schema:deathDate ; sh:maxCount Literal(\"1\", datatype=xsd:integer) ; sh:path schema:birthDate ]\n",
      "\tFocus Node: <http://example.org/ns#Bob>\n",
      "\tValue Node: Literal(\"1971-07-07\")\n",
      "\tResult Path: schema:birthDate\n",
      "\tMessage: Value of <http://example.org/ns#Bob>->schema:deathDate <= Literal(\"1971-07-07\")\n",
      "Constraint Violation in NodeConstraintComponent (http://www.w3.org/ns/shacl#NodeConstraintComponent):\n",
      "\tSeverity: sh:Violation\n",
      "\tSource Shape: [ sh:node schema:AddressShape ; sh:path schema:address ]\n",
      "\tFocus Node: <http://example.org/ns#Bob>\n",
      "\tValue Node: <http://example.org/ns#BobsAddress>\n",
      "\tResult Path: schema:address\n",
      "\tMessage: Value does not conform to Shape schema:AddressShape\n",
      "\n"
     ]
    }
   ],
   "source": [
    "print(report_text)"
   ]
  },
  {
   "cell_type": "markdown",
   "metadata": {},
   "source": [
    "The `birthDate` value in the data graph causes a `LessThanConstraintComponent` violation based on the `PersonShape` constraint rules.\n",
    "The `postalCode` value causes a `NodeConstraintComponent` violation based on the `AddressShape` constraint rules."
   ]
  },
  {
   "cell_type": "markdown",
   "metadata": {},
   "source": [
    "The `serialize_report_graph` parameter for `pyshacl.validate()` requested that the *report graph* be serialized as an RDF graph in Turtle format, returned as a byte array.\n",
    "Let's parse this as an `rdflib.Graph` object, and iterate through its RDF statements to view a machine-readable validation report:"
   ]
  },
  {
   "cell_type": "code",
   "execution_count": 6,
   "metadata": {},
   "outputs": [
    {
     "name": "stdout",
     "output_type": "stream",
     "text": [
      "_:n6099ef7758484ffe8efa7612be89be9db1 rdf:type sh:ValidationReport\n",
      "_:n6099ef7758484ffe8efa7612be89be9db1 sh:conforms \"false\"^^xsd:boolean\n",
      "_:n6099ef7758484ffe8efa7612be89be9db1 sh:result _:n6099ef7758484ffe8efa7612be89be9db2\n",
      "_:n6099ef7758484ffe8efa7612be89be9db1 sh:result _:n6099ef7758484ffe8efa7612be89be9db4\n",
      "_:n6099ef7758484ffe8efa7612be89be9db2 rdf:type sh:ValidationResult\n",
      "_:n6099ef7758484ffe8efa7612be89be9db2 sh:focusNode <http://example.org/ns#Bob>\n",
      "_:n6099ef7758484ffe8efa7612be89be9db2 sh:resultMessage \"Value of <http://example.org/ns#Bob>->schema:deathDate <= Literal(\\\"1971-07-07\\\")\"\n",
      "_:n6099ef7758484ffe8efa7612be89be9db2 sh:resultPath schema:birthDate\n",
      "_:n6099ef7758484ffe8efa7612be89be9db2 sh:resultSeverity sh:Violation\n",
      "_:n6099ef7758484ffe8efa7612be89be9db2 sh:sourceConstraintComponent sh:LessThanConstraintComponent\n",
      "_:n6099ef7758484ffe8efa7612be89be9db2 sh:sourceShape _:n6099ef7758484ffe8efa7612be89be9db3\n",
      "_:n6099ef7758484ffe8efa7612be89be9db2 sh:value \"1971-07-07\"\n",
      "_:n6099ef7758484ffe8efa7612be89be9db3 sh:lessThan schema:deathDate\n",
      "_:n6099ef7758484ffe8efa7612be89be9db3 sh:maxCount \"1\"^^xsd:integer\n",
      "_:n6099ef7758484ffe8efa7612be89be9db3 sh:path schema:birthDate\n",
      "_:n6099ef7758484ffe8efa7612be89be9db4 rdf:type sh:ValidationResult\n",
      "_:n6099ef7758484ffe8efa7612be89be9db4 sh:focusNode <http://example.org/ns#Bob>\n",
      "_:n6099ef7758484ffe8efa7612be89be9db4 sh:resultMessage \"Value does not conform to Shape schema:AddressShape\"\n",
      "_:n6099ef7758484ffe8efa7612be89be9db4 sh:resultPath schema:address\n",
      "_:n6099ef7758484ffe8efa7612be89be9db4 sh:resultSeverity sh:Violation\n",
      "_:n6099ef7758484ffe8efa7612be89be9db4 sh:sourceConstraintComponent sh:NodeConstraintComponent\n",
      "_:n6099ef7758484ffe8efa7612be89be9db4 sh:sourceShape _:n6099ef7758484ffe8efa7612be89be9db5\n",
      "_:n6099ef7758484ffe8efa7612be89be9db4 sh:value <http://example.org/ns#BobsAddress>\n",
      "_:n6099ef7758484ffe8efa7612be89be9db5 sh:node schema:AddressShape\n",
      "_:n6099ef7758484ffe8efa7612be89be9db5 sh:path schema:address\n"
     ]
    }
   ],
   "source": [
    "import rdflib\n",
    "\n",
    "report_g = rdflib.Graph()\n",
    "report_g.parse(data=report_graph, format=\"ttl\", encoding=\"utf-8\")\n",
    "nm = report_g.namespace_manager\n",
    "\n",
    "for s, p, o in sorted(report_g):\n",
    "    print(s.n3(nm), p.n3(nm), o.n3(nm))"
   ]
  },
  {
   "cell_type": "markdown",
   "metadata": {},
   "source": [
    "For some use cases, you may need to query this report graph, e.g., to identify data quality issues in the data graph."
   ]
  },
  {
   "cell_type": "markdown",
   "metadata": {},
   "source": [
    "---\n",
    "## Validating RDF graphs with `kglab`"
   ]
  },
  {
   "cell_type": "markdown",
   "metadata": {},
   "source": [
    "Now let's try this again, using the `kglab` abstraction layer.\n",
    "First we'll load our recipe graph developed in the earlier examples, which has been serialized to `dat/recipes.ttl` in Turtle format:"
   ]
  },
  {
   "cell_type": "code",
   "execution_count": 7,
   "metadata": {},
   "outputs": [],
   "source": [
    "from os.path import dirname\n",
    "import kglab\n",
    "import os\n",
    "\n",
    "namespaces = {\n",
    "    \"nom\":  \"http://example.org/#\",\n",
    "    \"wtm\":  \"http://purl.org/heals/food/\",\n",
    "    \"ind\":  \"http://purl.org/heals/ingredient/\",\n",
    "    \"skos\": \"http://www.w3.org/2004/02/skos/core#\",\n",
    "    }\n",
    "\n",
    "kg = kglab.KnowledgeGraph(\n",
    "    name = \"A recipe KG example based on Food.com\",\n",
    "    base_uri = \"https://www.food.com/recipe/\",\n",
    "    namespaces = namespaces,\n",
    "    )\n",
    "\n",
    "kg.load_rdf(dirname(os.getcwd()) + \"/dat/recipes.ttl\") ;"
   ]
  },
  {
   "cell_type": "markdown",
   "metadata": {},
   "source": [
    "Next we define a SHACL shape graph to provide *requirements* for our recipes KG:"
   ]
  },
  {
   "cell_type": "code",
   "execution_count": 8,
   "metadata": {},
   "outputs": [],
   "source": [
    "shape_graph = \"\"\"\n",
    "@prefix sh:   <http://www.w3.org/ns/shacl#> .\n",
    "@prefix xsd:  <http://www.w3.org/2001/XMLSchema#> .\n",
    "@prefix nom:  <http://example.org/#> .\n",
    "@prefix wtm:  <http://purl.org/heals/food/> .\n",
    "@prefix ind:  <http://purl.org/heals/ingredient/> .\n",
    "@prefix skos: <http://www.w3.org/2004/02/skos/core#> .\n",
    "\n",
    "nom:RecipeShape\n",
    "    a sh:NodeShape ;\n",
    "    sh:targetClass wtm:Recipe ;\n",
    "    sh:property [\n",
    "        sh:path wtm:hasIngredient ;\n",
    "        sh:node wtm:Ingredient ;\n",
    "        sh:minCount 3 ;\n",
    "    ] ;\n",
    "    sh:property [\n",
    "        sh:path skos:definition ;\n",
    "        sh:datatype xsd:string ;\n",
    "        sh:maxLength 50 ;\n",
    "    ] .\n",
    "\"\"\""
   ]
  },
  {
   "cell_type": "markdown",
   "metadata": {},
   "source": [
    "Now let's run the SHACL validation through the `kglab` integration for the `pySHACL` library.\n",
    "Note that providing a shape graph through the `shacl_graph` parameter is optional.\n",
    "Alternatively, RDF statements in the SHACL shape graph could have been included in our `dat/recipes.ttl` file."
   ]
  },
  {
   "cell_type": "code",
   "execution_count": 9,
   "metadata": {},
   "outputs": [
    {
     "name": "stderr",
     "output_type": "stream",
     "text": [
      "Usage of abort_on_error is deprecated. Use abort_on_first instead.\n",
      "Constraint Violation in MaxLengthConstraintComponent (http://www.w3.org/ns/shacl#MaxLengthConstraintComponent):\n",
      "\tSeverity: sh:Violation\n",
      "\tSource Shape: [ sh:datatype xsd:string ; sh:maxLength Literal(\"50\", datatype=xsd:integer) ; sh:path skos:definition ]\n",
      "\tFocus Node: <https://www.food.com/recipe/261361>\n",
      "\tValue Node: Literal(\"german dumplings  spaetzle or kniffles  for soup or saute\")\n",
      "\tResult Path: skos:definition\n",
      "\tMessage: String length not <= Literal(\"50\", datatype=xsd:integer)\n",
      "\n",
      "Constraint Violation in MaxLengthConstraintComponent (http://www.w3.org/ns/shacl#MaxLengthConstraintComponent):\n",
      "\tSeverity: sh:Violation\n",
      "\tSource Shape: [ sh:datatype xsd:string ; sh:maxLength Literal(\"50\", datatype=xsd:integer) ; sh:path skos:definition ]\n",
      "\tFocus Node: <https://www.food.com/recipe/137158>\n",
      "\tValue Node: Literal(\"pikkuleipienperustaikina  finnish butter cookie dough\")\n",
      "\tResult Path: skos:definition\n",
      "\tMessage: String length not <= Literal(\"50\", datatype=xsd:integer)\n",
      "\n",
      "Constraint Violation in MaxLengthConstraintComponent (http://www.w3.org/ns/shacl#MaxLengthConstraintComponent):\n",
      "\tSeverity: sh:Violation\n",
      "\tSource Shape: [ sh:datatype xsd:string ; sh:maxLength Literal(\"50\", datatype=xsd:integer) ; sh:path skos:definition ]\n",
      "\tFocus Node: <https://www.food.com/recipe/61108>\n",
      "\tValue Node: Literal(\"german pancakes  from the mennonite treasury of recipes\")\n",
      "\tResult Path: skos:definition\n",
      "\tMessage: String length not <= Literal(\"50\", datatype=xsd:integer)\n",
      "\n",
      "Constraint Violation in MaxLengthConstraintComponent (http://www.w3.org/ns/shacl#MaxLengthConstraintComponent):\n",
      "\tSeverity: sh:Violation\n",
      "\tSource Shape: [ sh:datatype xsd:string ; sh:maxLength Literal(\"50\", datatype=xsd:integer) ; sh:path skos:definition ]\n",
      "\tFocus Node: <https://www.food.com/recipe/279314>\n",
      "\tValue Node: Literal(\"choux pastry  for profiteroles  cream puffs or eclairs\")\n",
      "\tResult Path: skos:definition\n",
      "\tMessage: String length not <= Literal(\"50\", datatype=xsd:integer)\n",
      "\n"
     ]
    }
   ],
   "source": [
    "conforms, report_graph, report_text = kg.validate(\n",
    "    shacl_graph=shape_graph,\n",
    "    shacl_graph_format=\"ttl\"\n",
    ")"
   ]
  },
  {
   "cell_type": "markdown",
   "metadata": {},
   "source": [
    "Let's print the report text, which should be approximately what was in the logged output:"
   ]
  },
  {
   "cell_type": "code",
   "execution_count": 10,
   "metadata": {},
   "outputs": [
    {
     "name": "stdout",
     "output_type": "stream",
     "text": [
      "Validation Report\n",
      "Conforms: False\n",
      "Results (4):\n",
      "Constraint Violation in MaxLengthConstraintComponent (http://www.w3.org/ns/shacl#MaxLengthConstraintComponent):\n",
      "\tSeverity: sh:Violation\n",
      "\tSource Shape: [ sh:datatype xsd:string ; sh:maxLength Literal(\"50\", datatype=xsd:integer) ; sh:path skos:definition ]\n",
      "\tFocus Node: <https://www.food.com/recipe/261361>\n",
      "\tValue Node: Literal(\"german dumplings  spaetzle or kniffles  for soup or saute\")\n",
      "\tResult Path: skos:definition\n",
      "\tMessage: String length not <= Literal(\"50\", datatype=xsd:integer)\n",
      "Constraint Violation in MaxLengthConstraintComponent (http://www.w3.org/ns/shacl#MaxLengthConstraintComponent):\n",
      "\tSeverity: sh:Violation\n",
      "\tSource Shape: [ sh:datatype xsd:string ; sh:maxLength Literal(\"50\", datatype=xsd:integer) ; sh:path skos:definition ]\n",
      "\tFocus Node: <https://www.food.com/recipe/137158>\n",
      "\tValue Node: Literal(\"pikkuleipienperustaikina  finnish butter cookie dough\")\n",
      "\tResult Path: skos:definition\n",
      "\tMessage: String length not <= Literal(\"50\", datatype=xsd:integer)\n",
      "Constraint Violation in MaxLengthConstraintComponent (http://www.w3.org/ns/shacl#MaxLengthConstraintComponent):\n",
      "\tSeverity: sh:Violation\n",
      "\tSource Shape: [ sh:datatype xsd:string ; sh:maxLength Literal(\"50\", datatype=xsd:integer) ; sh:path skos:definition ]\n",
      "\tFocus Node: <https://www.food.com/recipe/61108>\n",
      "\tValue Node: Literal(\"german pancakes  from the mennonite treasury of recipes\")\n",
      "\tResult Path: skos:definition\n",
      "\tMessage: String length not <= Literal(\"50\", datatype=xsd:integer)\n",
      "Constraint Violation in MaxLengthConstraintComponent (http://www.w3.org/ns/shacl#MaxLengthConstraintComponent):\n",
      "\tSeverity: sh:Violation\n",
      "\tSource Shape: [ sh:datatype xsd:string ; sh:maxLength Literal(\"50\", datatype=xsd:integer) ; sh:path skos:definition ]\n",
      "\tFocus Node: <https://www.food.com/recipe/279314>\n",
      "\tValue Node: Literal(\"choux pastry  for profiteroles  cream puffs or eclairs\")\n",
      "\tResult Path: skos:definition\n",
      "\tMessage: String length not <= Literal(\"50\", datatype=xsd:integer)\n",
      "\n"
     ]
    }
   ],
   "source": [
    "print(report_text)"
   ]
  },
  {
   "cell_type": "markdown",
   "metadata": {},
   "source": [
    "As a wrapper on `pySHACL`, the `kglab` integration returns `report_graph` as another `KnowledgeGraph` object.\n",
    "Let's run a SPARQL query on that to determine programmatically which elements of our recipe KG are violating the SHACL constraint rules:"
   ]
  },
  {
   "cell_type": "code",
   "execution_count": 11,
   "metadata": {
    "scrolled": true
   },
   "outputs": [
    {
     "data": {
      "text/html": [
       "<div>\n",
       "<style scoped>\n",
       "    .dataframe tbody tr th:only-of-type {\n",
       "        vertical-align: middle;\n",
       "    }\n",
       "\n",
       "    .dataframe tbody tr th {\n",
       "        vertical-align: top;\n",
       "    }\n",
       "\n",
       "    .dataframe thead th {\n",
       "        text-align: right;\n",
       "    }\n",
       "</style>\n",
       "<table border=\"1\" class=\"dataframe\">\n",
       "  <thead>\n",
       "    <tr style=\"text-align: right;\">\n",
       "      <th></th>\n",
       "      <th>id</th>\n",
       "      <th>focus</th>\n",
       "      <th>path</th>\n",
       "      <th>value</th>\n",
       "      <th>constraint</th>\n",
       "      <th>message</th>\n",
       "    </tr>\n",
       "  </thead>\n",
       "  <tbody>\n",
       "    <tr>\n",
       "      <th>0</th>\n",
       "      <td>_:n3e261bc5685149ffab113fd5b6f0bebfb2</td>\n",
       "      <td>&lt;https://www.food.com/recipe/137158&gt;</td>\n",
       "      <td>skos:definition</td>\n",
       "      <td>pikkuleipienperustaikina  finnish butter cooki...</td>\n",
       "      <td>sh:MaxLengthConstraintComponent</td>\n",
       "      <td>String length not &lt;= Literal(\"50\", datatype=xs...</td>\n",
       "    </tr>\n",
       "    <tr>\n",
       "      <th>1</th>\n",
       "      <td>_:n3e261bc5685149ffab113fd5b6f0bebfb4</td>\n",
       "      <td>&lt;https://www.food.com/recipe/61108&gt;</td>\n",
       "      <td>skos:definition</td>\n",
       "      <td>german pancakes  from the mennonite treasury o...</td>\n",
       "      <td>sh:MaxLengthConstraintComponent</td>\n",
       "      <td>String length not &lt;= Literal(\"50\", datatype=xs...</td>\n",
       "    </tr>\n",
       "    <tr>\n",
       "      <th>2</th>\n",
       "      <td>_:n3e261bc5685149ffab113fd5b6f0bebfb5</td>\n",
       "      <td>&lt;https://www.food.com/recipe/279314&gt;</td>\n",
       "      <td>skos:definition</td>\n",
       "      <td>choux pastry  for profiteroles  cream puffs or...</td>\n",
       "      <td>sh:MaxLengthConstraintComponent</td>\n",
       "      <td>String length not &lt;= Literal(\"50\", datatype=xs...</td>\n",
       "    </tr>\n",
       "    <tr>\n",
       "      <th>3</th>\n",
       "      <td>_:n3e261bc5685149ffab113fd5b6f0bebfb6</td>\n",
       "      <td>&lt;https://www.food.com/recipe/261361&gt;</td>\n",
       "      <td>skos:definition</td>\n",
       "      <td>german dumplings  spaetzle or kniffles  for so...</td>\n",
       "      <td>sh:MaxLengthConstraintComponent</td>\n",
       "      <td>String length not &lt;= Literal(\"50\", datatype=xs...</td>\n",
       "    </tr>\n",
       "  </tbody>\n",
       "</table>\n",
       "</div>"
      ],
      "text/plain": [
       "                                      id  \\\n",
       "0  _:n3e261bc5685149ffab113fd5b6f0bebfb2   \n",
       "1  _:n3e261bc5685149ffab113fd5b6f0bebfb4   \n",
       "2  _:n3e261bc5685149ffab113fd5b6f0bebfb5   \n",
       "3  _:n3e261bc5685149ffab113fd5b6f0bebfb6   \n",
       "\n",
       "                                  focus             path  \\\n",
       "0  <https://www.food.com/recipe/137158>  skos:definition   \n",
       "1   <https://www.food.com/recipe/61108>  skos:definition   \n",
       "2  <https://www.food.com/recipe/279314>  skos:definition   \n",
       "3  <https://www.food.com/recipe/261361>  skos:definition   \n",
       "\n",
       "                                               value  \\\n",
       "0  pikkuleipienperustaikina  finnish butter cooki...   \n",
       "1  german pancakes  from the mennonite treasury o...   \n",
       "2  choux pastry  for profiteroles  cream puffs or...   \n",
       "3  german dumplings  spaetzle or kniffles  for so...   \n",
       "\n",
       "                        constraint  \\\n",
       "0  sh:MaxLengthConstraintComponent   \n",
       "1  sh:MaxLengthConstraintComponent   \n",
       "2  sh:MaxLengthConstraintComponent   \n",
       "3  sh:MaxLengthConstraintComponent   \n",
       "\n",
       "                                             message  \n",
       "0  String length not <= Literal(\"50\", datatype=xs...  \n",
       "1  String length not <= Literal(\"50\", datatype=xs...  \n",
       "2  String length not <= Literal(\"50\", datatype=xs...  \n",
       "3  String length not <= Literal(\"50\", datatype=xs...  "
      ]
     },
     "execution_count": 11,
     "metadata": {},
     "output_type": "execute_result"
    }
   ],
   "source": [
    "import pandas as pd\n",
    "\n",
    "sparql = \"\"\"\n",
    "SELECT ?id ?focus ?path ?value ?constraint ?message\n",
    "  WHERE {\n",
    "    ?id rdf:type sh:ValidationResult .\n",
    "    ?id sh:focusNode ?focus .\n",
    "    ?id sh:resultPath ?path .\n",
    "    ?id sh:value ?value .\n",
    "    ?id sh:resultMessage ?message .\n",
    "    ?id sh:sourceConstraintComponent ?constraint\n",
    "  }\n",
    "\"\"\"\n",
    "\n",
    "df = report_graph.query_as_df(sparql)\n",
    "df"
   ]
  },
  {
   "cell_type": "markdown",
   "metadata": {},
   "source": [
    "Let's visualize the `report_graph` as well, with the SHACL rule nodes highlighted in red, and the violations in orange:"
   ]
  },
  {
   "cell_type": "code",
   "execution_count": 12,
   "metadata": {},
   "outputs": [
    {
     "data": {
      "text/html": [
       "\n",
       "        <iframe\n",
       "            width=\"500px\"\n",
       "            height=\"500px\"\n",
       "            src=\"tmp.fig05.html\"\n",
       "            frameborder=\"0\"\n",
       "            allowfullscreen\n",
       "        ></iframe>\n",
       "        "
      ],
      "text/plain": [
       "<IPython.lib.display.IFrame at 0x7ff1bf7be190>"
      ]
     },
     "execution_count": 12,
     "metadata": {},
     "output_type": "execute_result"
    }
   ],
   "source": [
    "VIS_STYLE = {\n",
    "    \"sh\": {\n",
    "        \"color\": \"red\",\n",
    "        \"size\": 20,\n",
    "    },\n",
    "    \"_\":{\n",
    "        \"color\": \"orange\",\n",
    "        \"size\": 30,\n",
    "    },\n",
    "}\n",
    "\n",
    "subgraph = kglab.FrameND(report_graph)\n",
    "pyvis_graph = subgraph.build_pyvis_graph(notebook=True, style=VIS_STYLE)\n",
    "\n",
    "pyvis_graph.force_atlas_2based()\n",
    "pyvis_graph.show(\"tmp.fig05.html\")"
   ]
  },
  {
   "cell_type": "markdown",
   "metadata": {},
   "source": [
    "In practice, you may need to run *inference* (`RDFS`, `OWL`, `SKOS`, etc.) prior to running a SHACL validation, to add RDF statements to the data graph before applying the shape constraints.\n",
    "We'll cover that topic later.\n",
    "\n",
    "In summary, SHACL provides an excellent approach for:\n",
    "\n",
    "  * auditing work\n",
    "  * ensuring data quality when working with KGs\n",
    "  * *inference*, since the data graph elements which violate rules could in turn be annotated\n",
    "  * building applications for *human-in-the-loop* aka *machine teaching*"
   ]
  },
  {
   "cell_type": "markdown",
   "metadata": {},
   "source": [
    "---\n",
    "\n",
    "## Exercises"
   ]
  },
  {
   "cell_type": "markdown",
   "metadata": {},
   "source": [
    "**Exercise 1:**\n",
    "\n",
    "Fix the errors in the first example by modifying its *data graph*, i.e., its ABox.\n",
    "Can you get it to a state were the returned flag `conforms` is true?"
   ]
  },
  {
   "cell_type": "markdown",
   "metadata": {},
   "source": [
    "**Exercise 2:**\n",
    "\n",
    "Extend the SHACL *shape graph* for our recipe KG to validate that each recipe has a non-zero cooking time?\n",
    "How large must the maximum cooking time be set to avoid violations?"
   ]
  }
 ],
 "metadata": {
  "kernelspec": {
   "display_name": "Python 3.10.6 64-bit",
   "language": "python",
   "name": "python3"
  },
  "language_info": {
   "codemirror_mode": {
    "name": "ipython",
    "version": 3
   },
   "file_extension": ".py",
   "mimetype": "text/x-python",
   "name": "python",
   "nbconvert_exporter": "python",
   "pygments_lexer": "ipython3",
   "version": "3.10.6"
  },
  "vscode": {
   "interpreter": {
    "hash": "916dbcbb3f70747c44a77c7bcd40155683ae19c65e1c03b4aa3499c5328201f1"
   }
  }
 },
 "nbformat": 4,
 "nbformat_minor": 4
}
