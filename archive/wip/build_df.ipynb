{
 "cells": [
  {
   "cell_type": "code",
   "execution_count": 1,
   "metadata": {},
   "outputs": [],
   "source": [
    "# for use in tutorial and development; do not include this `sys.path` change in production:\n",
    "import sys ; sys.path.insert(0, \"../\")\n",
    "import os ; from os.path import dirname"
   ]
  },
  {
   "cell_type": "code",
   "execution_count": 2,
   "metadata": {},
   "outputs": [
    {
     "data": {
      "text/plain": [
       "<kglab.kglab.KnowledgeGraph at 0x1043294d0>"
      ]
     },
     "execution_count": 2,
     "metadata": {},
     "output_type": "execute_result"
    }
   ],
   "source": [
    "import kglab\n",
    "\n",
    "namespaces = {\n",
    "    \"foaf\": \"http://xmlns.com/foaf/0.1/\",\n",
    "    \"gorm\": \"http://example.org/sagas#\",\n",
    "    \"rel\":  \"http://purl.org/vocab/relationship/\",\n",
    "    }\n",
    "\n",
    "kg = kglab.KnowledgeGraph(\n",
    "    name = \"Happy Vikings KG example for SKOS/OWL inference\",\n",
    "    namespaces=namespaces,\n",
    "    )\n",
    "\n",
    "kg.load_rdf(dirname(os.getcwd()) + \"/dat/gorm.ttl\")"
   ]
  },
  {
   "cell_type": "code",
   "execution_count": 3,
   "metadata": {
    "scrolled": true
   },
   "outputs": [
    {
     "name": "stdout",
     "output_type": "stream",
     "text": [
      "@prefix foaf: <http://xmlns.com/foaf/0.1/> .\n",
      "@prefix gorm: <http://example.org/sagas#> .\n",
      "@prefix owl: <http://www.w3.org/2002/07/owl#> .\n",
      "@prefix rdfs: <http://www.w3.org/2000/01/rdf-schema#> .\n",
      "@prefix skos: <http://www.w3.org/2004/02/skos/core#> .\n",
      "\n",
      "gorm:Astrid a gorm:Viking ;\n",
      "    gorm:childOf gorm:Bodil,\n",
      "        gorm:Leif ;\n",
      "    foaf:topic_interest gorm:Fighting .\n",
      "\n",
      "gorm:childOf rdfs:domain gorm:Viking ;\n",
      "    rdfs:range gorm:Viking ;\n",
      "    owl:inverseOf gorm:ancestorOf .\n",
      "\n",
      "gorm:spouseOf a owl:SymmetricProperty ;\n",
      "    rdfs:domain gorm:Viking ;\n",
      "    rdfs:range gorm:Viking .\n",
      "\n",
      "gorm:Berserkr a foaf:Thing ;\n",
      "    skos:broader gorm:Fighting .\n",
      "\n",
      "gorm:Bjorn a gorm:Viking ;\n",
      "    gorm:childOf gorm:Gorm ;\n",
      "    foaf:topic_interest gorm:Pilaging .\n",
      "\n",
      "gorm:Bodil a gorm:Viking ;\n",
      "    gorm:spouseOf gorm:Leif .\n",
      "\n",
      "gorm:Gorm a gorm:Viking ;\n",
      "    foaf:topic_interest gorm:Berserkr .\n",
      "\n",
      "gorm:Pilaging a foaf:Thing ;\n",
      "    skos:broader gorm:Fighting .\n",
      "\n",
      "gorm:Leif a gorm:Viking ;\n",
      "    gorm:childOf gorm:Bjorn .\n",
      "\n",
      "gorm:Fighting a foaf:Thing .\n",
      "\n",
      "gorm:Viking a foaf:Person .\n",
      "\n",
      "\n"
     ]
    }
   ],
   "source": [
    "text = kg.save_rdf_text()\n",
    "print(text)"
   ]
  },
  {
   "cell_type": "code",
   "execution_count": 4,
   "metadata": {},
   "outputs": [
    {
     "data": {
      "text/html": [
       "<div>\n",
       "<style scoped>\n",
       "    .dataframe tbody tr th:only-of-type {\n",
       "        vertical-align: middle;\n",
       "    }\n",
       "\n",
       "    .dataframe tbody tr th {\n",
       "        vertical-align: top;\n",
       "    }\n",
       "\n",
       "    .dataframe thead th {\n",
       "        text-align: right;\n",
       "    }\n",
       "</style>\n",
       "<table border=\"1\" class=\"dataframe\">\n",
       "  <thead>\n",
       "    <tr style=\"text-align: right;\">\n",
       "      <th></th>\n",
       "      <th>child</th>\n",
       "      <th>viking</th>\n",
       "    </tr>\n",
       "  </thead>\n",
       "  <tbody>\n",
       "    <tr>\n",
       "      <th>0</th>\n",
       "      <td>gorm:Leif</td>\n",
       "      <td>gorm:Bjorn</td>\n",
       "    </tr>\n",
       "    <tr>\n",
       "      <th>1</th>\n",
       "      <td>gorm:Astrid</td>\n",
       "      <td>gorm:Bodil</td>\n",
       "    </tr>\n",
       "    <tr>\n",
       "      <th>2</th>\n",
       "      <td>gorm:Bjorn</td>\n",
       "      <td>gorm:Gorm</td>\n",
       "    </tr>\n",
       "    <tr>\n",
       "      <th>3</th>\n",
       "      <td>gorm:Astrid</td>\n",
       "      <td>gorm:Leif</td>\n",
       "    </tr>\n",
       "  </tbody>\n",
       "</table>\n",
       "</div>"
      ],
      "text/plain": [
       "         child      viking\n",
       "0    gorm:Leif  gorm:Bjorn\n",
       "1  gorm:Astrid  gorm:Bodil\n",
       "2   gorm:Bjorn   gorm:Gorm\n",
       "3  gorm:Astrid   gorm:Leif"
      ]
     },
     "execution_count": 4,
     "metadata": {},
     "output_type": "execute_result"
    }
   ],
   "source": [
    "sparql = \"\"\"\n",
    "SELECT ?child ?viking\n",
    "  WHERE {\n",
    "      ?child gorm:childOf ?viking\n",
    "  }\n",
    "  ORDER BY ASC(?viking)\n",
    "  \"\"\"\n",
    "\n",
    "df = kg.query_as_df(sparql)\n",
    "df"
   ]
  },
  {
   "cell_type": "code",
   "execution_count": 5,
   "metadata": {},
   "outputs": [],
   "source": [
    "import networkx as nx\n",
    "\n",
    "# IFF cuGraph\n",
    "#import cugraph as nx\n",
    "\n",
    "subgraph = kglab.SubgraphMatrix(kg, sparql, src_dst=[\"child\", \"viking\"])\n",
    "nx_graph = subgraph.build_nx_graph(nx.DiGraph(), bipartite=True)"
   ]
  },
  {
   "cell_type": "code",
   "execution_count": 6,
   "metadata": {},
   "outputs": [
    {
     "data": {
      "text/plain": [
       "{0: 0.15938145155157013,\n",
       " 1: 0.247320578151483,\n",
       " 2: 0.11184682438205981,\n",
       " 3: 0.15938145155157013,\n",
       " 4: 0.322069694363317}"
      ]
     },
     "execution_count": 6,
     "metadata": {},
     "output_type": "execute_result"
    }
   ],
   "source": [
    "raw_dog = nx.pagerank(nx_graph)\n",
    "raw_dog"
   ]
  },
  {
   "cell_type": "code",
   "execution_count": 7,
   "metadata": {},
   "outputs": [
    {
     "data": {
      "text/html": [
       "<div>\n",
       "<style scoped>\n",
       "    .dataframe tbody tr th:only-of-type {\n",
       "        vertical-align: middle;\n",
       "    }\n",
       "\n",
       "    .dataframe tbody tr th {\n",
       "        vertical-align: top;\n",
       "    }\n",
       "\n",
       "    .dataframe thead th {\n",
       "        text-align: right;\n",
       "    }\n",
       "</style>\n",
       "<table border=\"1\" class=\"dataframe\">\n",
       "  <thead>\n",
       "    <tr style=\"text-align: right;\">\n",
       "      <th></th>\n",
       "      <th>src</th>\n",
       "      <th>dst</th>\n",
       "    </tr>\n",
       "  </thead>\n",
       "  <tbody>\n",
       "    <tr>\n",
       "      <th>0</th>\n",
       "      <td>0</td>\n",
       "      <td>1</td>\n",
       "    </tr>\n",
       "    <tr>\n",
       "      <th>1</th>\n",
       "      <td>2</td>\n",
       "      <td>3</td>\n",
       "    </tr>\n",
       "    <tr>\n",
       "      <th>2</th>\n",
       "      <td>1</td>\n",
       "      <td>4</td>\n",
       "    </tr>\n",
       "    <tr>\n",
       "      <th>3</th>\n",
       "      <td>2</td>\n",
       "      <td>0</td>\n",
       "    </tr>\n",
       "  </tbody>\n",
       "</table>\n",
       "</div>"
      ],
      "text/plain": [
       "   src  dst\n",
       "0    0    1\n",
       "1    2    3\n",
       "2    1    4\n",
       "3    2    0"
      ]
     },
     "execution_count": 7,
     "metadata": {},
     "output_type": "execute_result"
    }
   ],
   "source": [
    "df = subgraph.build_df()\n",
    "df"
   ]
  },
  {
   "cell_type": "code",
   "execution_count": 8,
   "metadata": {},
   "outputs": [
    {
     "data": {
      "text/plain": [
       "networkx.classes.digraph.DiGraph"
      ]
     },
     "execution_count": 8,
     "metadata": {},
     "output_type": "execute_result"
    }
   ],
   "source": [
    "import networkx as nx\n",
    "\n",
    "# IFF cuGraph\n",
    "#df = df.to_pandas()\n",
    "\n",
    "G = nx.from_pandas_edgelist(\n",
    "        df,\n",
    "        source=\"src\",\n",
    "        target=\"dst\",\n",
    "        create_using=nx.DiGraph(),\n",
    "    )\n",
    "\n",
    "type(G)"
   ]
  },
  {
   "cell_type": "code",
   "execution_count": 9,
   "metadata": {},
   "outputs": [
    {
     "data": {
      "text/plain": [
       "{0: 0.15938145155157013,\n",
       " 1: 0.247320578151483,\n",
       " 2: 0.11184682438205981,\n",
       " 3: 0.15938145155157013,\n",
       " 4: 0.322069694363317}"
      ]
     },
     "execution_count": 9,
     "metadata": {},
     "output_type": "execute_result"
    }
   ],
   "source": [
    "results = nx.pagerank(G)\n",
    "results"
   ]
  },
  {
   "cell_type": "code",
   "execution_count": 10,
   "metadata": {},
   "outputs": [
    {
     "data": {
      "text/plain": [
       "[0.1118, 0.1594, 0.1594, 0.2473, 0.3221]"
      ]
     },
     "execution_count": 10,
     "metadata": {},
     "output_type": "execute_result"
    }
   ],
   "source": [
    "v0 = raw_dog.values()\n",
    "\n",
    "# IFF cuGraph\n",
    "#v0 = raw_dog.to_pandas().to_dict()[\"pagerank\"].values()\n",
    "\n",
    "v0 = sorted(list(map(lambda x: round(x, 4), v0)))\n",
    "v0"
   ]
  },
  {
   "cell_type": "code",
   "execution_count": 11,
   "metadata": {},
   "outputs": [
    {
     "data": {
      "text/plain": [
       "[0.1118, 0.1594, 0.1594, 0.2473, 0.3221]"
      ]
     },
     "execution_count": 11,
     "metadata": {},
     "output_type": "execute_result"
    }
   ],
   "source": [
    "v1 = sorted(list(map(lambda x: round(x, 4), results.values())))\n",
    "v1"
   ]
  },
  {
   "cell_type": "code",
   "execution_count": 12,
   "metadata": {},
   "outputs": [],
   "source": [
    "assert v0 == v1"
   ]
  }
 ],
 "metadata": {
  "kernelspec": {
   "display_name": "Python 3",
   "language": "python",
   "name": "python3"
  },
  "language_info": {
   "codemirror_mode": {
    "name": "ipython",
    "version": 3
   },
   "file_extension": ".py",
   "mimetype": "text/x-python",
   "name": "python",
   "nbconvert_exporter": "python",
   "pygments_lexer": "ipython3",
   "version": "3.7.4"
  }
 },
 "nbformat": 4,
 "nbformat_minor": 4
}
