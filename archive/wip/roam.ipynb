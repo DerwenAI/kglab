{
 "cells": [
  {
   "cell_type": "code",
   "execution_count": 1,
   "metadata": {},
   "outputs": [],
   "source": [
    "# for use in tutorial and development; do not include this `sys.path` change in production:\n",
    "import sys ; sys.path.insert(0, \"../\")\n",
    "import os ; from os.path import dirname"
   ]
  },
  {
   "cell_type": "markdown",
   "metadata": {},
   "source": [
    "# RoamResearch Import"
   ]
  },
  {
   "cell_type": "markdown",
   "metadata": {},
   "source": [
    "Export from <https://roamresearch.com/#/app/paconathan/search> as JSON into the file `roam.json`"
   ]
  },
  {
   "cell_type": "code",
   "execution_count": 2,
   "metadata": {},
   "outputs": [
    {
     "data": {
      "text/plain": [
       "['N4ouilfeF', '48_s_8sI3', '05-06-2021']"
      ]
     },
     "execution_count": 2,
     "metadata": {},
     "output_type": "execute_result"
    }
   ],
   "source": [
    "import kglab\n",
    "import pathlib\n",
    "\n",
    "kg = kglab.KnowledgeGraph()\n",
    "kg.import_roam(pathlib.Path(dirname(os.getcwd())) / \"/dat/roam.json\")"
   ]
  },
  {
   "cell_type": "code",
   "execution_count": 3,
   "metadata": {},
   "outputs": [
    {
     "name": "stdout",
     "output_type": "stream",
     "text": [
      "edges: 217 nodes: 46\n"
     ]
    }
   ],
   "source": [
    "measure = kglab.Measure()\n",
    "measure.measure_graph(kg)\n",
    "\n",
    "print(f\"edges: {measure.get_edge_count()} nodes: {measure.get_node_count()}\")"
   ]
  },
  {
   "cell_type": "code",
   "execution_count": 4,
   "metadata": {},
   "outputs": [
    {
     "data": {
      "text/html": [
       "\n",
       "        <iframe\n",
       "            width=\"500px\"\n",
       "            height=\"500px\"\n",
       "            src=\"tmp.roam.html\"\n",
       "            frameborder=\"0\"\n",
       "            allowfullscreen\n",
       "        ></iframe>\n",
       "        "
      ],
      "text/plain": [
       "<IPython.lib.display.IFrame at 0x145b2bf50>"
      ]
     },
     "execution_count": 4,
     "metadata": {},
     "output_type": "execute_result"
    }
   ],
   "source": [
    "VIS_STYLE = {\n",
    "    \"roam\": {\n",
    "        \"color\": \"orange\",\n",
    "        \"size\": 40,\n",
    "    },\n",
    "    \"ind\":{\n",
    "        \"color\": \"blue\",\n",
    "        \"size\": 30,\n",
    "    },\n",
    "}\n",
    "\n",
    "subgraph = kglab.SubgraphTensor(kg)\n",
    "pyvis_graph = subgraph.build_pyvis_graph(notebook=True, style=VIS_STYLE)\n",
    "\n",
    "pyvis_graph.force_atlas_2based()\n",
    "pyvis_graph.show(\"tmp.roam.html\")"
   ]
  },
  {
   "cell_type": "code",
   "execution_count": 5,
   "metadata": {},
   "outputs": [],
   "source": [
    "sparql = \"\"\"\n",
    "    SELECT ?roam_id ?definition\n",
    "    WHERE {\n",
    "        ?roam_id skos:definition ?definition .\n",
    "    }\n",
    "    ORDER BY DESC(?roam_id)\n",
    "\"\"\""
   ]
  },
  {
   "cell_type": "code",
   "execution_count": 6,
   "metadata": {
    "scrolled": true
   },
   "outputs": [
    {
     "data": {
      "text/html": [
       "<div>\n",
       "<style scoped>\n",
       "    .dataframe tbody tr th:only-of-type {\n",
       "        vertical-align: middle;\n",
       "    }\n",
       "\n",
       "    .dataframe tbody tr th {\n",
       "        vertical-align: top;\n",
       "    }\n",
       "\n",
       "    .dataframe thead th {\n",
       "        text-align: right;\n",
       "    }\n",
       "</style>\n",
       "<table border=\"1\" class=\"dataframe\">\n",
       "  <thead>\n",
       "    <tr style=\"text-align: right;\">\n",
       "      <th></th>\n",
       "      <th>roam_id</th>\n",
       "      <th>definition</th>\n",
       "    </tr>\n",
       "  </thead>\n",
       "  <tbody>\n",
       "    <tr>\n",
       "      <th>0</th>\n",
       "      <td>roam:saEEDIdqr</td>\n",
       "      <td>[Black Elderberry](https://www.calflora.org/ap...</td>\n",
       "    </tr>\n",
       "    <tr>\n",
       "      <th>1</th>\n",
       "      <td>roam:or6_T76sk</td>\n",
       "      <td>__Anytime Crepes__ on Food.com</td>\n",
       "    </tr>\n",
       "    <tr>\n",
       "      <th>2</th>\n",
       "      <td>roam:lF8bVV_A7</td>\n",
       "      <td>Ideas for using native forage</td>\n",
       "    </tr>\n",
       "    <tr>\n",
       "      <th>3</th>\n",
       "      <td>roam:kYSwYpMp6</td>\n",
       "      <td>[Slow Food Russian River](http://www.slowfoodr...</td>\n",
       "    </tr>\n",
       "    <tr>\n",
       "      <th>4</th>\n",
       "      <td>roam:jk9v5Thmj</td>\n",
       "      <td>[Prickly Pear](https://www.calflora.org/app/ta...</td>\n",
       "    </tr>\n",
       "    <tr>\n",
       "      <th>5</th>\n",
       "      <td>roam:hqiPGNMJw</td>\n",
       "      <td>Native Food Traditions</td>\n",
       "    </tr>\n",
       "    <tr>\n",
       "      <th>6</th>\n",
       "      <td>roam:fqfABAFwe</td>\n",
       "      <td>Substitute [acorn flour](((8gNmLxlJk)))</td>\n",
       "    </tr>\n",
       "    <tr>\n",
       "      <th>7</th>\n",
       "      <td>roam:f7P9LxOro</td>\n",
       "      <td>https://foragerchef.com/acorn-flour-crepes/</td>\n",
       "    </tr>\n",
       "    <tr>\n",
       "      <th>8</th>\n",
       "      <td>roam:cv2WSao6k</td>\n",
       "      <td>see also [Gourmet Sleuth](https://www.gourmets...</td>\n",
       "    </tr>\n",
       "    <tr>\n",
       "      <th>9</th>\n",
       "      <td>roam:bPaI0nTkH</td>\n",
       "      <td>Native Flora</td>\n",
       "    </tr>\n",
       "    <tr>\n",
       "      <th>10</th>\n",
       "      <td>roam:bKd7tiN7m</td>\n",
       "      <td>[Elderberry jam](((saEEDIdqr)))</td>\n",
       "    </tr>\n",
       "    <tr>\n",
       "      <th>11</th>\n",
       "      <td>roam:ZfEldF56u</td>\n",
       "      <td>[Wero Restaurant](https://ffcp.s3.amazonaws.co...</td>\n",
       "    </tr>\n",
       "    <tr>\n",
       "      <th>12</th>\n",
       "      <td>roam:XjSlZ2Duy</td>\n",
       "      <td>[Calfora Observation Search](https://www.calfl...</td>\n",
       "    </tr>\n",
       "    <tr>\n",
       "      <th>13</th>\n",
       "      <td>roam:XTxxfFsc9</td>\n",
       "      <td>[Fry Bread Shop](https://www.restaurantji.com/...</td>\n",
       "    </tr>\n",
       "    <tr>\n",
       "      <th>14</th>\n",
       "      <td>roam:XHKkbsLpB</td>\n",
       "      <td>3:1 wheat/acorn ratio</td>\n",
       "    </tr>\n",
       "    <tr>\n",
       "      <th>15</th>\n",
       "      <td>roam:V-D2NyrZf</td>\n",
       "      <td>[Coast Miwok](https://en.wikipedia.org/wiki/Co...</td>\n",
       "    </tr>\n",
       "    <tr>\n",
       "      <th>16</th>\n",
       "      <td>roam:UlICbpKh_</td>\n",
       "      <td>[@wahpepahskitchen](https://www.instagram.com/...</td>\n",
       "    </tr>\n",
       "    <tr>\n",
       "      <th>17</th>\n",
       "      <td>roam:TmyZl8QrS</td>\n",
       "      <td>[\"Acorn Awareness\"](https://madelocalmagazine....</td>\n",
       "    </tr>\n",
       "    <tr>\n",
       "      <th>18</th>\n",
       "      <td>roam:QqAYFKQi-</td>\n",
       "      <td>licensed seaweed forage</td>\n",
       "    </tr>\n",
       "    <tr>\n",
       "      <th>19</th>\n",
       "      <td>roam:Opasp2t0Q</td>\n",
       "      <td>[Manzanita](https://www.calflora.org/app/taxon...</td>\n",
       "    </tr>\n",
       "  </tbody>\n",
       "</table>\n",
       "</div>"
      ],
      "text/plain": [
       "           roam_id                                         definition\n",
       "0   roam:saEEDIdqr  [Black Elderberry](https://www.calflora.org/ap...\n",
       "1   roam:or6_T76sk                     __Anytime Crepes__ on Food.com\n",
       "2   roam:lF8bVV_A7                      Ideas for using native forage\n",
       "3   roam:kYSwYpMp6  [Slow Food Russian River](http://www.slowfoodr...\n",
       "4   roam:jk9v5Thmj  [Prickly Pear](https://www.calflora.org/app/ta...\n",
       "5   roam:hqiPGNMJw                             Native Food Traditions\n",
       "6   roam:fqfABAFwe            Substitute [acorn flour](((8gNmLxlJk)))\n",
       "7   roam:f7P9LxOro        https://foragerchef.com/acorn-flour-crepes/\n",
       "8   roam:cv2WSao6k  see also [Gourmet Sleuth](https://www.gourmets...\n",
       "9   roam:bPaI0nTkH                                       Native Flora\n",
       "10  roam:bKd7tiN7m                    [Elderberry jam](((saEEDIdqr)))\n",
       "11  roam:ZfEldF56u  [Wero Restaurant](https://ffcp.s3.amazonaws.co...\n",
       "12  roam:XjSlZ2Duy  [Calfora Observation Search](https://www.calfl...\n",
       "13  roam:XTxxfFsc9  [Fry Bread Shop](https://www.restaurantji.com/...\n",
       "14  roam:XHKkbsLpB                              3:1 wheat/acorn ratio\n",
       "15  roam:V-D2NyrZf  [Coast Miwok](https://en.wikipedia.org/wiki/Co...\n",
       "16  roam:UlICbpKh_  [@wahpepahskitchen](https://www.instagram.com/...\n",
       "17  roam:TmyZl8QrS  [\"Acorn Awareness\"](https://madelocalmagazine....\n",
       "18  roam:QqAYFKQi-                            licensed seaweed forage\n",
       "19  roam:Opasp2t0Q  [Manzanita](https://www.calflora.org/app/taxon..."
      ]
     },
     "execution_count": 6,
     "metadata": {},
     "output_type": "execute_result"
    }
   ],
   "source": [
    "import pandas as pd\n",
    "pd.set_option(\"max_rows\", None)\n",
    "\n",
    "df = kg.query_as_df(sparql)\n",
    "df.head(20)"
   ]
  }
 ],
 "metadata": {
  "kernelspec": {
   "display_name": "Python 3",
   "language": "python",
   "name": "python3"
  },
  "language_info": {
   "codemirror_mode": {
    "name": "ipython",
    "version": 3
   },
   "file_extension": ".py",
   "mimetype": "text/x-python",
   "name": "python",
   "nbconvert_exporter": "python",
   "pygments_lexer": "ipython3",
   "version": "3.7.4"
  }
 },
 "nbformat": 4,
 "nbformat_minor": 4
}
