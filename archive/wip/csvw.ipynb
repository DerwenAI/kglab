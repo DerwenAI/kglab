{
 "cells": [
  {
   "cell_type": "code",
   "execution_count": 1,
   "metadata": {},
   "outputs": [],
   "source": [
    "# for use in tutorial and development; do not include this `sys.path` change in production:\n",
    "import sys ; sys.path.insert(0, \"../\")"
   ]
  },
  {
   "cell_type": "markdown",
   "metadata": {},
   "source": [
    "## CSV on the Web implementation with `csvwlib`"
   ]
  },
  {
   "cell_type": "code",
   "execution_count": 2,
   "metadata": {},
   "outputs": [
    {
     "data": {
      "text/html": [
       "<div>\n",
       "<style scoped>\n",
       "    .dataframe tbody tr th:only-of-type {\n",
       "        vertical-align: middle;\n",
       "    }\n",
       "\n",
       "    .dataframe tbody tr th {\n",
       "        vertical-align: top;\n",
       "    }\n",
       "\n",
       "    .dataframe thead th {\n",
       "        text-align: right;\n",
       "    }\n",
       "</style>\n",
       "<table border=\"1\" class=\"dataframe\">\n",
       "  <thead>\n",
       "    <tr style=\"text-align: right;\">\n",
       "      <th></th>\n",
       "      <th>GID</th>\n",
       "      <th>On Street</th>\n",
       "      <th>Species</th>\n",
       "      <th>Trim Cycle</th>\n",
       "      <th>Inventory Date</th>\n",
       "    </tr>\n",
       "  </thead>\n",
       "  <tbody>\n",
       "    <tr>\n",
       "      <th>0</th>\n",
       "      <td>1</td>\n",
       "      <td>ADDISON AV</td>\n",
       "      <td>Celtis australis</td>\n",
       "      <td>Large Tree Routine Prune</td>\n",
       "      <td>10/18/2010</td>\n",
       "    </tr>\n",
       "    <tr>\n",
       "      <th>1</th>\n",
       "      <td>2</td>\n",
       "      <td>EMERSON ST</td>\n",
       "      <td>Liquidambar styraciflua</td>\n",
       "      <td>Large Tree Routine Prune</td>\n",
       "      <td>6/2/2010</td>\n",
       "    </tr>\n",
       "  </tbody>\n",
       "</table>\n",
       "</div>"
      ],
      "text/plain": [
       "   GID   On Street                  Species                Trim Cycle  \\\n",
       "0    1  ADDISON AV         Celtis australis  Large Tree Routine Prune   \n",
       "1    2  EMERSON ST  Liquidambar styraciflua  Large Tree Routine Prune   \n",
       "\n",
       "  Inventory Date  \n",
       "0     10/18/2010  \n",
       "1       6/2/2010  "
      ]
     },
     "execution_count": 2,
     "metadata": {},
     "output_type": "execute_result"
    }
   ],
   "source": [
    "import pandas as pd\n",
    "import urlpath\n",
    "\n",
    "url = urlpath.URL(\"http://w3c.github.io/csvw/tests/tree-ops.csv\")\n",
    "df = pd.read_csv(url)\n",
    "df"
   ]
  },
  {
   "cell_type": "code",
   "execution_count": 3,
   "metadata": {},
   "outputs": [
    {
     "data": {
      "text/plain": [
       "<kglab.kglab.KnowledgeGraph at 0x120244050>"
      ]
     },
     "execution_count": 3,
     "metadata": {},
     "output_type": "execute_result"
    }
   ],
   "source": [
    "import kglab\n",
    "\n",
    "kg = kglab.KnowledgeGraph()\n",
    "kg.load_csv(\"http://w3c.github.io/csvw/tests/tree-ops.csv\")\n",
    "#kg.load_rdf(\"csvw.ttl\", format=\"ttl\")"
   ]
  },
  {
   "cell_type": "code",
   "execution_count": 4,
   "metadata": {},
   "outputs": [
    {
     "name": "stdout",
     "output_type": "stream",
     "text": [
      "@prefix : <http://w3c.github.io/csvw/tests/tree-ops.csv#> .\n",
      "@prefix ns1: <http://w3c.github.io/csvw/tests/tree-ops.csv#Inventory%> .\n",
      "@prefix ns2: <http://w3c.github.io/csvw/tests/tree-ops.csv#On%> .\n",
      "@prefix ns3: <http://w3c.github.io/csvw/tests/tree-ops.csv#Trim%> .\n",
      "\n",
      "[] :GID \"1\" ;\n",
      "    ns1:20Date \"10/18/2010\" ;\n",
      "    ns2:20Street \"ADDISON AV\" ;\n",
      "    :Species \"Celtis australis\" ;\n",
      "    ns3:20Cycle \"Large Tree Routine Prune\" .\n",
      "\n",
      "[] :GID \"2\" ;\n",
      "    ns1:20Date \"6/2/2010\" ;\n",
      "    ns2:20Street \"EMERSON ST\" ;\n",
      "    :Species \"Liquidambar styraciflua\" ;\n",
      "    ns3:20Cycle \"Large Tree Routine Prune\" .\n",
      "\n",
      "\n"
     ]
    }
   ],
   "source": [
    "rdf = kg.save_rdf_text(format=\"ttl\")\n",
    "print(rdf)"
   ]
  },
  {
   "cell_type": "code",
   "execution_count": 6,
   "metadata": {},
   "outputs": [
    {
     "data": {
      "text/html": [
       "\n",
       "        <iframe\n",
       "            width=\"500px\"\n",
       "            height=\"500px\"\n",
       "            src=\"tmp.fig03.html\"\n",
       "            frameborder=\"0\"\n",
       "            allowfullscreen\n",
       "        ></iframe>\n",
       "        "
      ],
      "text/plain": [
       "<IPython.lib.display.IFrame at 0x12acd3890>"
      ]
     },
     "execution_count": 6,
     "metadata": {},
     "output_type": "execute_result"
    }
   ],
   "source": [
    "subgraph = kglab.SubgraphTensor(kg)\n",
    "pyvis_graph = subgraph.build_pyvis_graph(notebook=True)\n",
    "\n",
    "pyvis_graph.force_atlas_2based()\n",
    "pyvis_graph.show(\"tmp.fig03.html\")"
   ]
  },
  {
   "cell_type": "markdown",
   "metadata": {},
   "source": [
    "---\n",
    "\n",
    "## RDF Property Reification examples\n",
    "\n",
    "See:\n",
    "\n",
    "  * <https://www.w3.org/wiki/RdfReification>\n",
    "  * <https://www.w3.org/wiki/PropertyReificationVocabulary>\n",
    "  * <https://www.w3.org/2007/02/turtle/primer/#L3155>\n",
    "  * <https://www.slideshare.net/ntkimvinh7/www2014-singleton-propertyfinal>"
   ]
  },
  {
   "cell_type": "code",
   "execution_count": 7,
   "metadata": {},
   "outputs": [],
   "source": [
    "kg = kglab.KnowledgeGraph(\n",
    "    namespaces = {\n",
    "        \"ex\": \"http://example.com#\",\n",
    "        \"rdf\": \"http://www.w3.org/1999/02/22-rdf-syntax-ns#\",\n",
    "    },\n",
    "    )"
   ]
  },
  {
   "cell_type": "code",
   "execution_count": 8,
   "metadata": {},
   "outputs": [],
   "source": [
    "rdf = \"\"\"\n",
    "@prefix ex: <http://example.com#> .\n",
    "@prefix rdf: <http://www.w3.org/1999/02/22-rdf-syntax-ns#>.\n",
    "\n",
    "ex:John ex:believes [\n",
    "  a rdf:Statement;\n",
    "  rdf:subject ex:earth ;\n",
    "  rdf:predicate ex:shape ;\n",
    "  rdf:object ex:round\n",
    "  ] .\n",
    "\"\"\""
   ]
  },
  {
   "cell_type": "code",
   "execution_count": 9,
   "metadata": {},
   "outputs": [
    {
     "data": {
      "text/plain": [
       "<kglab.kglab.KnowledgeGraph at 0x12ac24e10>"
      ]
     },
     "execution_count": 9,
     "metadata": {},
     "output_type": "execute_result"
    }
   ],
   "source": [
    "kg.load_rdf_text(rdf)"
   ]
  },
  {
   "cell_type": "code",
   "execution_count": 10,
   "metadata": {},
   "outputs": [
    {
     "data": {
      "text/plain": [
       "{'dct': 'http://purl.org/dc/terms/',\n",
       " 'owl': 'http://www.w3.org/2002/07/owl#',\n",
       " 'prov': 'http://www.w3.org/ns/prov#',\n",
       " 'rdfs': 'http://www.w3.org/2000/01/rdf-schema#',\n",
       " 'schema': 'http://schema.org/',\n",
       " 'sh': 'http://www.w3.org/ns/shacl#',\n",
       " 'skos': 'http://www.w3.org/2004/02/skos/core#',\n",
       " 'xsd': 'http://www.w3.org/2001/XMLSchema#',\n",
       " 'ex': 'http://example.com#',\n",
       " 'rdf': 'http://www.w3.org/1999/02/22-rdf-syntax-ns#'}"
      ]
     },
     "execution_count": 10,
     "metadata": {},
     "output_type": "execute_result"
    }
   ],
   "source": [
    "kg.get_ns_dict()"
   ]
  },
  {
   "cell_type": "code",
   "execution_count": 11,
   "metadata": {},
   "outputs": [],
   "source": [
    "sparql = \"\"\"\n",
    "    SELECT ?subject ?x ?what ?how\n",
    "    WHERE {\n",
    "        ?subject ex:believes ?x .\n",
    "        ?x rdf:subject ?what .\n",
    "        ?x rdf:object ?how .\n",
    "    }\n",
    "    \"\"\""
   ]
  },
  {
   "cell_type": "code",
   "execution_count": 12,
   "metadata": {},
   "outputs": [
    {
     "data": {
      "text/html": [
       "<div>\n",
       "<style scoped>\n",
       "    .dataframe tbody tr th:only-of-type {\n",
       "        vertical-align: middle;\n",
       "    }\n",
       "\n",
       "    .dataframe tbody tr th {\n",
       "        vertical-align: top;\n",
       "    }\n",
       "\n",
       "    .dataframe thead th {\n",
       "        text-align: right;\n",
       "    }\n",
       "</style>\n",
       "<table border=\"1\" class=\"dataframe\">\n",
       "  <thead>\n",
       "    <tr style=\"text-align: right;\">\n",
       "      <th></th>\n",
       "      <th>subject</th>\n",
       "      <th>x</th>\n",
       "      <th>what</th>\n",
       "      <th>how</th>\n",
       "    </tr>\n",
       "  </thead>\n",
       "  <tbody>\n",
       "    <tr>\n",
       "      <th>0</th>\n",
       "      <td>ex:John</td>\n",
       "      <td>_:ub2bL4C21</td>\n",
       "      <td>ex:earth</td>\n",
       "      <td>ex:round</td>\n",
       "    </tr>\n",
       "  </tbody>\n",
       "</table>\n",
       "</div>"
      ],
      "text/plain": [
       "   subject            x      what       how\n",
       "0  ex:John  _:ub2bL4C21  ex:earth  ex:round"
      ]
     },
     "execution_count": 12,
     "metadata": {},
     "output_type": "execute_result"
    }
   ],
   "source": [
    "df = kg.query_as_df(sparql)\n",
    "df"
   ]
  }
 ],
 "metadata": {
  "kernelspec": {
   "display_name": "Python 3",
   "language": "python",
   "name": "python3"
  },
  "language_info": {
   "codemirror_mode": {
    "name": "ipython",
    "version": 3
   },
   "file_extension": ".py",
   "mimetype": "text/x-python",
   "name": "python",
   "nbconvert_exporter": "python",
   "pygments_lexer": "ipython3",
   "version": "3.7.4"
  }
 },
 "nbformat": 4,
 "nbformat_minor": 4
}
