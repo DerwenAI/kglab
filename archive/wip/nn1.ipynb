{
 "cells": [
  {
   "cell_type": "markdown",
   "metadata": {},
   "source": [
    "# Word2Vec Skipgram impl. in PyTorch\n",
    "\n",
    "[\"Word2Vec in Pytorch - Continuous Bag of Words and Skipgrams: Pytorch implementation\"](https://srijithr.gitlab.io/post/word2vec/)  \n",
    "Srijith Rajamohan (2018-09-09)\n",
    "\n",
    "which was adapted from <https://pytorch.org/tutorials/beginner/nlp/word_embeddings_tutorial.html#an-example-n-gram-language-modeling>"
   ]
  },
  {
   "cell_type": "code",
   "execution_count": 1,
   "metadata": {
    "scrolled": true
   },
   "outputs": [],
   "source": [
    "import torch\n",
    "import torch.nn as nn\n",
    "import torch.nn.functional as F\n",
    "import torch.optim as optim\n",
    "\n",
    "import numpy as np\n",
    "import urllib.request\n",
    "\n",
    "from nltk.tokenize import RegexpTokenizer\n",
    "from nltk.corpus import stopwords\n",
    "from nltk import word_tokenize\n",
    "\n",
    "import sklearn\n",
    "from sklearn.cluster import KMeans\n",
    "from sklearn.metrics.pairwise import euclidean_distances"
   ]
  },
  {
   "cell_type": "code",
   "execution_count": 2,
   "metadata": {},
   "outputs": [],
   "source": [
    "def get_key (word_id):\n",
    "    for key, val in word_to_ix.items():\n",
    "        if val == word_id:\n",
    "            print(key)\n",
    "\n",
    "\n",
    "def cluster_embeddings (filename, nclusters):\n",
    "    X = np.load(filename)\n",
    "    kmeans = KMeans(n_clusters=nclusters, random_state=0).fit(X)\n",
    "    center = kmeans.cluster_centers_\n",
    "    distances = euclidean_distances(X, center)\n",
    "\n",
    "    for i in np.arange(0, distances.shape[1]):\n",
    "        word_id = np.argmin(distances[:, i])\n",
    "        print(word_id)\n",
    "        get_key(word_id)\n",
    "\n",
    "\n",
    "def read_data (file_path):\n",
    "    tokenizer = RegexpTokenizer(r'\\w+')\n",
    "    data = urllib.request.urlopen(file_path)\n",
    "    data = data.read().decode('utf8')\n",
    "    \n",
    "    tokenized_data = word_tokenize(data)\n",
    "    stop_words = set(stopwords.words('english'))\n",
    "    stop_words.update(['.', ',', ':', ';', '(', ')', '#', '--', '...', '\"'])\n",
    "    \n",
    "    cleaned_words = [ i for i in tokenized_data if i not in stop_words ]\n",
    "    return(cleaned_words)"
   ]
  },
  {
   "cell_type": "code",
   "execution_count": 3,
   "metadata": {},
   "outputs": [],
   "source": [
    "CONTEXT_SIZE = 3\n",
    "EMBEDDING_DIM = 10\n",
    "\n",
    "torch.manual_seed(1)\n",
    "\n",
    "test_sentence = \"\"\"Empathy for the poor may not come easily to people who never experienced it. They may blame the victims and insist their predicament can be overcome through determination and hard work.\n",
    "But they may not realize that extreme poverty can be psychologically and physically incapacitating — a perpetual cycle of bad diets, health care and education exacerbated by the shaming and self-fulfilling prophecies that define it in the public imagination.\n",
    "Gordon Parks — perhaps more than any artist — saw poverty as “the most savage of all human afflictions” and realized the power of empathy to help us understand it. It was neither an abstract problem nor political symbol, but something he endured growing up destitute in rural Kansas and having spent years documenting poverty throughout the world, including the United States.\n",
    "That sensitivity informed “Freedom’s Fearful Foe: Poverty,” his celebrated photo essay published in Life magazine in June 1961. He took readers into the lives of a Brazilian boy, Flavio da Silva, and his family, who lived in the ramshackle Catacumba favela in the hills outside Rio de Janeiro. These stark photographs are the subject of a new book, “Gordon Parks: The Flavio Story” (Steidl/The Gordon Parks Foundation), which accompanies a traveling exhibition co-organized by the Ryerson Image Centre in Toronto, where it opens this week, and the J. Paul Getty Museum. Edited with texts by the exhibition’s co-curators, Paul Roth and Amanda Maddox, the book also includes a recent interview with Mr. da Silva and essays by Beatriz Jaguaribe, Maria Alice Rezende de Carvalho and Sérgio Burgi.\n",
    "\"\"\".split()"
   ]
  },
  {
   "cell_type": "code",
   "execution_count": 4,
   "metadata": {
    "scrolled": true
   },
   "outputs": [
    {
     "name": "stdout",
     "output_type": "stream",
     "text": [
      "[('Empathy', ['for', 'the', 'poor']), ('for', ['the', 'poor', 'may']), ('the', ['poor', 'may', 'not']), ('poor', ['may', 'not', 'come']), ('may', ['not', 'come', 'easily']), ('not', ['come', 'easily', 'to']), ('come', ['easily', 'to', 'people']), ('easily', ['to', 'people', 'who']), ('to', ['people', 'who', 'never']), ('people', ['who', 'never', 'experienced']), ('who', ['never', 'experienced', 'it.']), ('never', ['experienced', 'it.', 'They']), ('experienced', ['it.', 'They', 'may']), ('it.', ['They', 'may', 'blame']), ('They', ['may', 'blame', 'the']), ('may', ['blame', 'the', 'victims']), ('blame', ['the', 'victims', 'and']), ('the', ['victims', 'and', 'insist']), ('victims', ['and', 'insist', 'their']), ('and', ['insist', 'their', 'predicament']), ('insist', ['their', 'predicament', 'can']), ('their', ['predicament', 'can', 'be']), ('predicament', ['can', 'be', 'overcome']), ('can', ['be', 'overcome', 'through']), ('be', ['overcome', 'through', 'determination']), ('overcome', ['through', 'determination', 'and']), ('through', ['determination', 'and', 'hard']), ('determination', ['and', 'hard', 'work.']), ('and', ['hard', 'work.', 'But']), ('hard', ['work.', 'But', 'they']), ('work.', ['But', 'they', 'may']), ('But', ['they', 'may', 'not']), ('they', ['may', 'not', 'realize']), ('may', ['not', 'realize', 'that']), ('not', ['realize', 'that', 'extreme']), ('realize', ['that', 'extreme', 'poverty']), ('that', ['extreme', 'poverty', 'can']), ('extreme', ['poverty', 'can', 'be']), ('poverty', ['can', 'be', 'psychologically']), ('can', ['be', 'psychologically', 'and']), ('be', ['psychologically', 'and', 'physically']), ('psychologically', ['and', 'physically', 'incapacitating']), ('and', ['physically', 'incapacitating', '—']), ('physically', ['incapacitating', '—', 'a']), ('incapacitating', ['—', 'a', 'perpetual']), ('—', ['a', 'perpetual', 'cycle']), ('a', ['perpetual', 'cycle', 'of']), ('perpetual', ['cycle', 'of', 'bad']), ('cycle', ['of', 'bad', 'diets,']), ('of', ['bad', 'diets,', 'health']), ('bad', ['diets,', 'health', 'care']), ('diets,', ['health', 'care', 'and']), ('health', ['care', 'and', 'education']), ('care', ['and', 'education', 'exacerbated']), ('and', ['education', 'exacerbated', 'by']), ('education', ['exacerbated', 'by', 'the']), ('exacerbated', ['by', 'the', 'shaming']), ('by', ['the', 'shaming', 'and']), ('the', ['shaming', 'and', 'self-fulfilling']), ('shaming', ['and', 'self-fulfilling', 'prophecies']), ('and', ['self-fulfilling', 'prophecies', 'that']), ('self-fulfilling', ['prophecies', 'that', 'define']), ('prophecies', ['that', 'define', 'it']), ('that', ['define', 'it', 'in']), ('define', ['it', 'in', 'the']), ('it', ['in', 'the', 'public']), ('in', ['the', 'public', 'imagination.']), ('the', ['public', 'imagination.', 'Gordon']), ('public', ['imagination.', 'Gordon', 'Parks']), ('imagination.', ['Gordon', 'Parks', '—']), ('Gordon', ['Parks', '—', 'perhaps']), ('Parks', ['—', 'perhaps', 'more']), ('—', ['perhaps', 'more', 'than']), ('perhaps', ['more', 'than', 'any']), ('more', ['than', 'any', 'artist']), ('than', ['any', 'artist', '—']), ('any', ['artist', '—', 'saw']), ('artist', ['—', 'saw', 'poverty']), ('—', ['saw', 'poverty', 'as']), ('saw', ['poverty', 'as', '“the']), ('poverty', ['as', '“the', 'most']), ('as', ['“the', 'most', 'savage']), ('“the', ['most', 'savage', 'of']), ('most', ['savage', 'of', 'all']), ('savage', ['of', 'all', 'human']), ('of', ['all', 'human', 'afflictions”']), ('all', ['human', 'afflictions”', 'and']), ('human', ['afflictions”', 'and', 'realized']), ('afflictions”', ['and', 'realized', 'the']), ('and', ['realized', 'the', 'power']), ('realized', ['the', 'power', 'of']), ('the', ['power', 'of', 'empathy']), ('power', ['of', 'empathy', 'to']), ('of', ['empathy', 'to', 'help']), ('empathy', ['to', 'help', 'us']), ('to', ['help', 'us', 'understand']), ('help', ['us', 'understand', 'it.']), ('us', ['understand', 'it.', 'It']), ('understand', ['it.', 'It', 'was']), ('it.', ['It', 'was', 'neither']), ('It', ['was', 'neither', 'an']), ('was', ['neither', 'an', 'abstract']), ('neither', ['an', 'abstract', 'problem']), ('an', ['abstract', 'problem', 'nor']), ('abstract', ['problem', 'nor', 'political']), ('problem', ['nor', 'political', 'symbol,']), ('nor', ['political', 'symbol,', 'but']), ('political', ['symbol,', 'but', 'something']), ('symbol,', ['but', 'something', 'he']), ('but', ['something', 'he', 'endured']), ('something', ['he', 'endured', 'growing']), ('he', ['endured', 'growing', 'up']), ('endured', ['growing', 'up', 'destitute']), ('growing', ['up', 'destitute', 'in']), ('up', ['destitute', 'in', 'rural']), ('destitute', ['in', 'rural', 'Kansas']), ('in', ['rural', 'Kansas', 'and']), ('rural', ['Kansas', 'and', 'having']), ('Kansas', ['and', 'having', 'spent']), ('and', ['having', 'spent', 'years']), ('having', ['spent', 'years', 'documenting']), ('spent', ['years', 'documenting', 'poverty']), ('years', ['documenting', 'poverty', 'throughout']), ('documenting', ['poverty', 'throughout', 'the']), ('poverty', ['throughout', 'the', 'world,']), ('throughout', ['the', 'world,', 'including']), ('the', ['world,', 'including', 'the']), ('world,', ['including', 'the', 'United']), ('including', ['the', 'United', 'States.']), ('the', ['United', 'States.', 'That']), ('United', ['States.', 'That', 'sensitivity']), ('States.', ['That', 'sensitivity', 'informed']), ('That', ['sensitivity', 'informed', '“Freedom’s']), ('sensitivity', ['informed', '“Freedom’s', 'Fearful']), ('informed', ['“Freedom’s', 'Fearful', 'Foe:']), ('“Freedom’s', ['Fearful', 'Foe:', 'Poverty,”']), ('Fearful', ['Foe:', 'Poverty,”', 'his']), ('Foe:', ['Poverty,”', 'his', 'celebrated']), ('Poverty,”', ['his', 'celebrated', 'photo']), ('his', ['celebrated', 'photo', 'essay']), ('celebrated', ['photo', 'essay', 'published']), ('photo', ['essay', 'published', 'in']), ('essay', ['published', 'in', 'Life']), ('published', ['in', 'Life', 'magazine']), ('in', ['Life', 'magazine', 'in']), ('Life', ['magazine', 'in', 'June']), ('magazine', ['in', 'June', '1961.']), ('in', ['June', '1961.', 'He']), ('June', ['1961.', 'He', 'took']), ('1961.', ['He', 'took', 'readers']), ('He', ['took', 'readers', 'into']), ('took', ['readers', 'into', 'the']), ('readers', ['into', 'the', 'lives']), ('into', ['the', 'lives', 'of']), ('the', ['lives', 'of', 'a']), ('lives', ['of', 'a', 'Brazilian']), ('of', ['a', 'Brazilian', 'boy,']), ('a', ['Brazilian', 'boy,', 'Flavio']), ('Brazilian', ['boy,', 'Flavio', 'da']), ('boy,', ['Flavio', 'da', 'Silva,']), ('Flavio', ['da', 'Silva,', 'and']), ('da', ['Silva,', 'and', 'his']), ('Silva,', ['and', 'his', 'family,']), ('and', ['his', 'family,', 'who']), ('his', ['family,', 'who', 'lived']), ('family,', ['who', 'lived', 'in']), ('who', ['lived', 'in', 'the']), ('lived', ['in', 'the', 'ramshackle']), ('in', ['the', 'ramshackle', 'Catacumba']), ('the', ['ramshackle', 'Catacumba', 'favela']), ('ramshackle', ['Catacumba', 'favela', 'in']), ('Catacumba', ['favela', 'in', 'the']), ('favela', ['in', 'the', 'hills']), ('in', ['the', 'hills', 'outside']), ('the', ['hills', 'outside', 'Rio']), ('hills', ['outside', 'Rio', 'de']), ('outside', ['Rio', 'de', 'Janeiro.']), ('Rio', ['de', 'Janeiro.', 'These']), ('de', ['Janeiro.', 'These', 'stark']), ('Janeiro.', ['These', 'stark', 'photographs']), ('These', ['stark', 'photographs', 'are']), ('stark', ['photographs', 'are', 'the']), ('photographs', ['are', 'the', 'subject']), ('are', ['the', 'subject', 'of']), ('the', ['subject', 'of', 'a']), ('subject', ['of', 'a', 'new']), ('of', ['a', 'new', 'book,']), ('a', ['new', 'book,', '“Gordon']), ('new', ['book,', '“Gordon', 'Parks:']), ('book,', ['“Gordon', 'Parks:', 'The']), ('“Gordon', ['Parks:', 'The', 'Flavio']), ('Parks:', ['The', 'Flavio', 'Story”']), ('The', ['Flavio', 'Story”', '(Steidl/The']), ('Flavio', ['Story”', '(Steidl/The', 'Gordon']), ('Story”', ['(Steidl/The', 'Gordon', 'Parks']), ('(Steidl/The', ['Gordon', 'Parks', 'Foundation),']), ('Gordon', ['Parks', 'Foundation),', 'which']), ('Parks', ['Foundation),', 'which', 'accompanies']), ('Foundation),', ['which', 'accompanies', 'a']), ('which', ['accompanies', 'a', 'traveling']), ('accompanies', ['a', 'traveling', 'exhibition']), ('a', ['traveling', 'exhibition', 'co-organized']), ('traveling', ['exhibition', 'co-organized', 'by']), ('exhibition', ['co-organized', 'by', 'the']), ('co-organized', ['by', 'the', 'Ryerson']), ('by', ['the', 'Ryerson', 'Image']), ('the', ['Ryerson', 'Image', 'Centre']), ('Ryerson', ['Image', 'Centre', 'in']), ('Image', ['Centre', 'in', 'Toronto,']), ('Centre', ['in', 'Toronto,', 'where']), ('in', ['Toronto,', 'where', 'it']), ('Toronto,', ['where', 'it', 'opens']), ('where', ['it', 'opens', 'this']), ('it', ['opens', 'this', 'week,']), ('opens', ['this', 'week,', 'and']), ('this', ['week,', 'and', 'the']), ('week,', ['and', 'the', 'J.']), ('and', ['the', 'J.', 'Paul']), ('the', ['J.', 'Paul', 'Getty']), ('J.', ['Paul', 'Getty', 'Museum.']), ('Paul', ['Getty', 'Museum.', 'Edited']), ('Getty', ['Museum.', 'Edited', 'with']), ('Museum.', ['Edited', 'with', 'texts']), ('Edited', ['with', 'texts', 'by']), ('with', ['texts', 'by', 'the']), ('texts', ['by', 'the', 'exhibition’s']), ('by', ['the', 'exhibition’s', 'co-curators,']), ('the', ['exhibition’s', 'co-curators,', 'Paul']), ('exhibition’s', ['co-curators,', 'Paul', 'Roth']), ('co-curators,', ['Paul', 'Roth', 'and']), ('Paul', ['Roth', 'and', 'Amanda']), ('Roth', ['and', 'Amanda', 'Maddox,']), ('and', ['Amanda', 'Maddox,', 'the']), ('Amanda', ['Maddox,', 'the', 'book']), ('Maddox,', ['the', 'book', 'also']), ('the', ['book', 'also', 'includes']), ('book', ['also', 'includes', 'a']), ('also', ['includes', 'a', 'recent']), ('includes', ['a', 'recent', 'interview']), ('a', ['recent', 'interview', 'with']), ('recent', ['interview', 'with', 'Mr.']), ('interview', ['with', 'Mr.', 'da']), ('with', ['Mr.', 'da', 'Silva']), ('Mr.', ['da', 'Silva', 'and']), ('da', ['Silva', 'and', 'essays']), ('Silva', ['and', 'essays', 'by']), ('and', ['essays', 'by', 'Beatriz']), ('essays', ['by', 'Beatriz', 'Jaguaribe,']), ('by', ['Beatriz', 'Jaguaribe,', 'Maria']), ('Beatriz', ['Jaguaribe,', 'Maria', 'Alice']), ('Jaguaribe,', ['Maria', 'Alice', 'Rezende']), ('Maria', ['Alice', 'Rezende', 'de']), ('Alice', ['Rezende', 'de', 'Carvalho']), ('Rezende', ['de', 'Carvalho', 'and']), ('de', ['Carvalho', 'and', 'Sérgio']), ('Carvalho', ['and', 'Sérgio', 'Burgi.'])]\n"
     ]
    }
   ],
   "source": [
    "# we should tokenize the input, but we will ignore that for now\n",
    "# build a list of tuples.  Each tuple is ([ word_i-2, word_i-1 ], target word)\n",
    "\n",
    "#test_sentence = read_data('https://www.gutenberg.org/files/57884/57884-0.txt')\n",
    "\n",
    "ngrams = []\n",
    "\n",
    "for i in range(len(test_sentence) - CONTEXT_SIZE):\n",
    "    tup = [test_sentence[j] for j in np.arange(i + 1 , i + CONTEXT_SIZE + 1) ]\n",
    "    ngrams.append((test_sentence[i],tup))\n",
    "\n",
    "# print the first 3, just so you can see what they look like\n",
    "print(ngrams)"
   ]
  },
  {
   "cell_type": "code",
   "execution_count": 5,
   "metadata": {
    "scrolled": true
   },
   "outputs": [
    {
     "name": "stdout",
     "output_type": "stream",
     "text": [
      "Length of vocabulary 195\n"
     ]
    },
    {
     "data": {
      "text/plain": [
       "{'hills': 0,\n",
       " 'imagination.': 1,\n",
       " 'bad': 2,\n",
       " 'any': 3,\n",
       " 'Flavio': 4,\n",
       " 'Museum.': 5,\n",
       " 'Life': 6,\n",
       " 'blame': 7,\n",
       " 'Image': 8,\n",
       " 'cycle': 9,\n",
       " 'family,': 10,\n",
       " '“Gordon': 11,\n",
       " 'most': 12,\n",
       " 'savage': 13,\n",
       " 'artist': 14,\n",
       " 'lived': 15,\n",
       " 'are': 16,\n",
       " 'Mr.': 17,\n",
       " 'Foe:': 18,\n",
       " 'It': 19,\n",
       " 'psychologically': 20,\n",
       " 'Jaguaribe,': 21,\n",
       " 'endured': 22,\n",
       " 'who': 23,\n",
       " 'He': 24,\n",
       " 'nor': 25,\n",
       " 'opens': 26,\n",
       " 'Rezende': 27,\n",
       " 'may': 28,\n",
       " 'he': 29,\n",
       " 'Fearful': 30,\n",
       " 'care': 31,\n",
       " 'interview': 32,\n",
       " 'saw': 33,\n",
       " 'help': 34,\n",
       " 'can': 35,\n",
       " 'perhaps': 36,\n",
       " 'Janeiro.': 37,\n",
       " 'Paul': 38,\n",
       " 'Maddox,': 39,\n",
       " 'than': 40,\n",
       " 'poverty': 41,\n",
       " 'self-fulfilling': 42,\n",
       " 'rural': 43,\n",
       " 'but': 44,\n",
       " 'Brazilian': 45,\n",
       " 'Maria': 46,\n",
       " 'insist': 47,\n",
       " 'extreme': 48,\n",
       " 'June': 49,\n",
       " 'Silva': 50,\n",
       " 'Getty': 51,\n",
       " 'the': 52,\n",
       " 'easily': 53,\n",
       " 'Empathy': 54,\n",
       " 'come': 55,\n",
       " 'which': 56,\n",
       " 'an': 57,\n",
       " 'photographs': 58,\n",
       " 'shaming': 59,\n",
       " 'of': 60,\n",
       " '“the': 61,\n",
       " 'afflictions”': 62,\n",
       " 'perpetual': 63,\n",
       " 'exhibition’s': 64,\n",
       " 'up': 65,\n",
       " 'Parks:': 66,\n",
       " 'Foundation),': 67,\n",
       " 'by': 68,\n",
       " 'was': 69,\n",
       " 'recent': 70,\n",
       " 'Roth': 71,\n",
       " 'and': 72,\n",
       " 'as': 73,\n",
       " 'Sérgio': 74,\n",
       " 'book,': 75,\n",
       " 'that': 76,\n",
       " 'into': 77,\n",
       " 'his': 78,\n",
       " 'prophecies': 79,\n",
       " 'empathy': 80,\n",
       " 'States.': 81,\n",
       " 'de': 82,\n",
       " 'celebrated': 83,\n",
       " 'magazine': 84,\n",
       " 'growing': 85,\n",
       " 'essay': 86,\n",
       " 'human': 87,\n",
       " 'informed': 88,\n",
       " 'their': 89,\n",
       " 'diets,': 90,\n",
       " 'abstract': 91,\n",
       " 'this': 92,\n",
       " 'week,': 93,\n",
       " 'includes': 94,\n",
       " 'hard': 95,\n",
       " 'That': 96,\n",
       " 'da': 97,\n",
       " 'including': 98,\n",
       " 'incapacitating': 99,\n",
       " 'United': 100,\n",
       " 'problem': 101,\n",
       " 'accompanies': 102,\n",
       " 'more': 103,\n",
       " 'years': 104,\n",
       " 'co-organized': 105,\n",
       " 'Catacumba': 106,\n",
       " 'The': 107,\n",
       " 'traveling': 108,\n",
       " 'Edited': 109,\n",
       " 'something': 110,\n",
       " 'a': 111,\n",
       " 'Beatriz': 112,\n",
       " 'Silva,': 113,\n",
       " 'lives': 114,\n",
       " 'with': 115,\n",
       " 'experienced': 116,\n",
       " 'physically': 117,\n",
       " 'in': 118,\n",
       " '—': 119,\n",
       " 'published': 120,\n",
       " 'documenting': 121,\n",
       " 'they': 122,\n",
       " 'ramshackle': 123,\n",
       " 'Poverty,”': 124,\n",
       " 'J.': 125,\n",
       " 'symbol,': 126,\n",
       " 'boy,': 127,\n",
       " 'These': 128,\n",
       " 'realize': 129,\n",
       " 'Centre': 130,\n",
       " 'having': 131,\n",
       " 'never': 132,\n",
       " 'Gordon': 133,\n",
       " 'victims': 134,\n",
       " 'neither': 135,\n",
       " 'throughout': 136,\n",
       " 'not': 137,\n",
       " 'Carvalho': 138,\n",
       " 'sensitivity': 139,\n",
       " '(Steidl/The': 140,\n",
       " 'poor': 141,\n",
       " 'it': 142,\n",
       " 'exacerbated': 143,\n",
       " 'subject': 144,\n",
       " 'education': 145,\n",
       " 'Rio': 146,\n",
       " 'health': 147,\n",
       " 'texts': 148,\n",
       " 'photo': 149,\n",
       " 'through': 150,\n",
       " 'destitute': 151,\n",
       " 'predicament': 152,\n",
       " 'Amanda': 153,\n",
       " 'realized': 154,\n",
       " 'power': 155,\n",
       " 'political': 156,\n",
       " 'outside': 157,\n",
       " 'world,': 158,\n",
       " 'also': 159,\n",
       " 'Burgi.': 160,\n",
       " 'it.': 161,\n",
       " 'But': 162,\n",
       " '1961.': 163,\n",
       " 'new': 164,\n",
       " 'essays': 165,\n",
       " 'define': 166,\n",
       " 'determination': 167,\n",
       " 'They': 168,\n",
       " 'for': 169,\n",
       " 'Alice': 170,\n",
       " 'Kansas': 171,\n",
       " 'book': 172,\n",
       " 'people': 173,\n",
       " 'stark': 174,\n",
       " 'Parks': 175,\n",
       " 'exhibition': 176,\n",
       " 'be': 177,\n",
       " 'all': 178,\n",
       " 'work.': 179,\n",
       " 'readers': 180,\n",
       " 'public': 181,\n",
       " 'spent': 182,\n",
       " 'understand': 183,\n",
       " 'us': 184,\n",
       " 'overcome': 185,\n",
       " 'Toronto,': 186,\n",
       " 'to': 187,\n",
       " 'favela': 188,\n",
       " 'co-curators,': 189,\n",
       " '“Freedom’s': 190,\n",
       " 'took': 191,\n",
       " 'Ryerson': 192,\n",
       " 'where': 193,\n",
       " 'Story”': 194}"
      ]
     },
     "execution_count": 5,
     "metadata": {},
     "output_type": "execute_result"
    }
   ],
   "source": [
    "vocab = set(test_sentence)\n",
    "print(\"Length of vocabulary\", len(vocab))\n",
    "\n",
    "word_to_ix = {word: i for i, word in enumerate(vocab)}\n",
    "word_to_ix"
   ]
  },
  {
   "cell_type": "code",
   "execution_count": 6,
   "metadata": {},
   "outputs": [],
   "source": [
    "class SkipgramModeler (nn.Module):\n",
    "\n",
    "    def __init__(self, vocab_size, embedding_dim, context_size):\n",
    "        super(SkipgramModeler, self).__init__()\n",
    "        self.embeddings = nn.Embedding(vocab_size, embedding_dim)\n",
    "        self.linear1 = nn.Linear(embedding_dim, 128)\n",
    "        self.linear2 = nn.Linear(128, context_size * vocab_size)\n",
    "        #self.parameters['context_size'] = context_size\n",
    "\n",
    "        \n",
    "    def forward (self, inputs):\n",
    "        embeds = self.embeddings(inputs).view((1, -1))  # -1 implies size inferred for that index from the size of the data\n",
    "        #print(np.mean(np.mean(self.linear2.weight.data.numpy())))\n",
    "        \n",
    "        out1 = F.relu(self.linear1(embeds)) # output of first layer\n",
    "        out2 = self.linear2(out1)           # output of second layer\n",
    "        #print(embeds)\n",
    "        \n",
    "        log_probs = F.log_softmax(out2, dim=1).view(CONTEXT_SIZE,-1)\n",
    "        return log_probs\n",
    "\n",
    "    \n",
    "    def predict (self, input):\n",
    "        context_idxs = torch.tensor([word_to_ix[input]], dtype=torch.long)\n",
    "        res = self.forward(context_idxs)\n",
    "        res_arg = torch.argmax(res)\n",
    "        res_val, res_ind = res.sort(descending=True)\n",
    "        indices = [res_ind[i][0] for i in np.arange(0, 3)]\n",
    "        \n",
    "        for arg in indices:\n",
    "            print( [ (key, val) for key,val in word_to_ix.items() if val == arg ])\n",
    "\n",
    "\n",
    "    def freeze_layer (self, layer):\n",
    "        for name, child in model.named_children():\n",
    "            print(name, child)\n",
    "            \n",
    "            if name == layer:\n",
    "                for names, params in child.named_parameters():\n",
    "                    print(names, params)\n",
    "                    print(params.size())\n",
    "                    params.requires_grad = False\n",
    "\n",
    "                    \n",
    "    def print_layer_parameters (self):\n",
    "        for name, child in model.named_children():\n",
    "                print(name, child)\n",
    "                \n",
    "                for names,params in child.named_parameters():\n",
    "                    print(names, params)\n",
    "                    print(params.size())\n",
    "\n",
    "                    \n",
    "    def write_embedding_to_file (self, filename):\n",
    "        for i in self.embeddings.parameters():\n",
    "            weights = i.data.numpy()\n",
    "            \n",
    "        np.save(filename, weights)"
   ]
  },
  {
   "cell_type": "code",
   "execution_count": 7,
   "metadata": {
    "scrolled": true
   },
   "outputs": [
    {
     "name": "stderr",
     "output_type": "stream",
     "text": [
      "  0%|          | 0/550 [00:00<?, ?it/s]"
     ]
    },
    {
     "name": "stdout",
     "output_type": "stream",
     "text": [
      "[('insist', 47)]\n",
      "[('Janeiro.', 37)]\n",
      "[('determination', 167)]\n"
     ]
    },
    {
     "name": "stderr",
     "output_type": "stream",
     "text": [
      "  0%|          | 1/550 [00:00<01:43,  5.29it/s]"
     ]
    },
    {
     "name": "stdout",
     "output_type": "stream",
     "text": [
      "1639.6772470474243\n",
      "[('insist', 47)]\n",
      "[('Janeiro.', 37)]\n",
      "[('determination', 167)]\n"
     ]
    },
    {
     "name": "stderr",
     "output_type": "stream",
     "text": [
      "  0%|          | 2/550 [00:00<01:38,  5.58it/s]"
     ]
    },
    {
     "name": "stdout",
     "output_type": "stream",
     "text": [
      "1637.1417908668518\n",
      "[('insist', 47)]\n",
      "[('Janeiro.', 37)]\n",
      "[('determination', 167)]\n"
     ]
    },
    {
     "name": "stderr",
     "output_type": "stream",
     "text": [
      "  1%|          | 4/550 [00:00<01:38,  5.54it/s]"
     ]
    },
    {
     "name": "stdout",
     "output_type": "stream",
     "text": [
      "1634.6223502159119\n",
      "[('insist', 47)]\n",
      "[('Janeiro.', 37)]\n",
      "[('determination', 167)]\n",
      "1632.1186184883118\n",
      "[('insist', 47)]\n",
      "[('Janeiro.', 37)]\n",
      "[('determination', 167)]\n"
     ]
    },
    {
     "name": "stderr",
     "output_type": "stream",
     "text": [
      "  1%|          | 6/550 [00:01<01:32,  5.89it/s]"
     ]
    },
    {
     "name": "stdout",
     "output_type": "stream",
     "text": [
      "1629.6288952827454\n",
      "[('insist', 47)]\n",
      "[('Janeiro.', 37)]\n",
      "[('determination', 167)]\n",
      "1627.152027130127\n",
      "[('insist', 47)]\n",
      "[('Janeiro.', 37)]\n",
      "[('determination', 167)]\n"
     ]
    },
    {
     "name": "stderr",
     "output_type": "stream",
     "text": [
      "  1%|▏         | 8/550 [00:01<01:31,  5.91it/s]"
     ]
    },
    {
     "name": "stdout",
     "output_type": "stream",
     "text": [
      "1624.6881618499756\n",
      "[('insist', 47)]\n",
      "[('Janeiro.', 37)]\n",
      "[('determination', 167)]\n",
      "1622.2366709709167\n",
      "[('insist', 47)]\n",
      "[('Janeiro.', 37)]\n",
      "[('determination', 167)]\n"
     ]
    },
    {
     "name": "stderr",
     "output_type": "stream",
     "text": [
      "  2%|▏         | 10/550 [00:01<01:31,  5.91it/s]"
     ]
    },
    {
     "name": "stdout",
     "output_type": "stream",
     "text": [
      "1619.7962737083435\n",
      "[('the', 52)]\n",
      "[('Janeiro.', 37)]\n",
      "[('determination', 167)]\n",
      "1617.3662886619568\n",
      "[('the', 52)]\n",
      "[('Janeiro.', 37)]\n",
      "[('determination', 167)]\n"
     ]
    },
    {
     "name": "stderr",
     "output_type": "stream",
     "text": [
      "  2%|▏         | 12/550 [00:02<01:30,  5.93it/s]"
     ]
    },
    {
     "name": "stdout",
     "output_type": "stream",
     "text": [
      "1614.9466996192932\n",
      "[('the', 52)]\n",
      "[('Janeiro.', 37)]\n",
      "[('determination', 167)]\n",
      "1612.5362882614136\n",
      "[('the', 52)]\n",
      "[('Janeiro.', 37)]\n",
      "[('of', 60)]\n"
     ]
    },
    {
     "name": "stderr",
     "output_type": "stream",
     "text": [
      "  3%|▎         | 14/550 [00:02<01:34,  5.69it/s]"
     ]
    },
    {
     "name": "stdout",
     "output_type": "stream",
     "text": [
      "1610.134575843811\n",
      "[('the', 52)]\n",
      "[('Janeiro.', 37)]\n",
      "[('of', 60)]\n",
      "1607.7412104606628\n",
      "[('the', 52)]\n",
      "[('Janeiro.', 37)]\n",
      "[('of', 60)]\n"
     ]
    },
    {
     "name": "stderr",
     "output_type": "stream",
     "text": [
      "  3%|▎         | 16/550 [00:02<01:25,  6.25it/s]"
     ]
    },
    {
     "name": "stdout",
     "output_type": "stream",
     "text": [
      "1605.3553233146667\n",
      "[('the', 52)]\n",
      "[('the', 52)]\n",
      "[('of', 60)]\n",
      "1602.976535320282\n",
      "[('the', 52)]\n",
      "[('the', 52)]\n",
      "[('of', 60)]\n"
     ]
    },
    {
     "name": "stderr",
     "output_type": "stream",
     "text": [
      "  3%|▎         | 18/550 [00:02<01:19,  6.69it/s]"
     ]
    },
    {
     "name": "stdout",
     "output_type": "stream",
     "text": [
      "1600.6045107841492\n",
      "[('the', 52)]\n",
      "[('the', 52)]\n",
      "[('of', 60)]\n",
      "1598.2389945983887\n",
      "[('the', 52)]\n",
      "[('the', 52)]\n",
      "[('of', 60)]\n"
     ]
    },
    {
     "name": "stderr",
     "output_type": "stream",
     "text": [
      "  4%|▎         | 20/550 [00:03<01:16,  6.91it/s]"
     ]
    },
    {
     "name": "stdout",
     "output_type": "stream",
     "text": [
      "1595.879695892334\n",
      "[('the', 52)]\n",
      "[('the', 52)]\n",
      "[('of', 60)]\n",
      "1593.5264229774475\n",
      "[('the', 52)]\n",
      "[('the', 52)]\n",
      "[('of', 60)]\n"
     ]
    },
    {
     "name": "stderr",
     "output_type": "stream",
     "text": [
      "  4%|▍         | 22/550 [00:03<01:16,  6.95it/s]"
     ]
    },
    {
     "name": "stdout",
     "output_type": "stream",
     "text": [
      "1591.1780953407288\n",
      "[('the', 52)]\n",
      "[('the', 52)]\n",
      "[('of', 60)]\n",
      "1588.8352317810059\n",
      "[('the', 52)]\n",
      "[('the', 52)]\n",
      "[('of', 60)]\n"
     ]
    },
    {
     "name": "stderr",
     "output_type": "stream",
     "text": [
      "  4%|▍         | 24/550 [00:03<01:14,  7.07it/s]"
     ]
    },
    {
     "name": "stdout",
     "output_type": "stream",
     "text": [
      "1586.4979453086853\n",
      "[('the', 52)]\n",
      "[('the', 52)]\n",
      "[('of', 60)]\n",
      "1584.1655139923096\n",
      "[('the', 52)]\n",
      "[('the', 52)]\n",
      "[('of', 60)]\n"
     ]
    },
    {
     "name": "stderr",
     "output_type": "stream",
     "text": [
      "  5%|▍         | 26/550 [00:04<01:14,  7.05it/s]"
     ]
    },
    {
     "name": "stdout",
     "output_type": "stream",
     "text": [
      "1581.837727546692\n",
      "[('the', 52)]\n",
      "[('the', 52)]\n",
      "[('and', 72)]\n",
      "1579.5144319534302\n",
      "[('the', 52)]\n",
      "[('the', 52)]\n",
      "[('and', 72)]\n"
     ]
    },
    {
     "name": "stderr",
     "output_type": "stream",
     "text": [
      "  5%|▌         | 28/550 [00:04<01:16,  6.87it/s]"
     ]
    },
    {
     "name": "stdout",
     "output_type": "stream",
     "text": [
      "1577.1959824562073\n",
      "[('the', 52)]\n",
      "[('the', 52)]\n",
      "[('and', 72)]\n",
      "1574.881070613861\n",
      "[('the', 52)]\n",
      "[('the', 52)]\n",
      "[('and', 72)]\n"
     ]
    },
    {
     "name": "stderr",
     "output_type": "stream",
     "text": [
      "  5%|▌         | 30/550 [00:04<01:19,  6.55it/s]"
     ]
    },
    {
     "name": "stdout",
     "output_type": "stream",
     "text": [
      "1572.5700750350952\n",
      "[('the', 52)]\n",
      "[('the', 52)]\n",
      "[('and', 72)]\n",
      "1570.2630009651184\n",
      "[('the', 52)]\n",
      "[('the', 52)]\n",
      "[('and', 72)]\n"
     ]
    },
    {
     "name": "stderr",
     "output_type": "stream",
     "text": [
      "  6%|▌         | 32/550 [00:05<01:14,  6.94it/s]"
     ]
    },
    {
     "name": "stdout",
     "output_type": "stream",
     "text": [
      "1567.959918498993\n",
      "[('the', 52)]\n",
      "[('the', 52)]\n",
      "[('and', 72)]\n",
      "1565.6613411903381\n",
      "[('the', 52)]\n",
      "[('the', 52)]\n",
      "[('and', 72)]\n"
     ]
    },
    {
     "name": "stderr",
     "output_type": "stream",
     "text": [
      "  6%|▌         | 34/550 [00:05<01:12,  7.09it/s]"
     ]
    },
    {
     "name": "stdout",
     "output_type": "stream",
     "text": [
      "1563.368242740631\n",
      "[('the', 52)]\n",
      "[('the', 52)]\n",
      "[('and', 72)]\n",
      "1561.0792393684387\n",
      "[('the', 52)]\n",
      "[('the', 52)]\n",
      "[('and', 72)]\n"
     ]
    },
    {
     "name": "stderr",
     "output_type": "stream",
     "text": [
      "  7%|▋         | 36/550 [00:05<01:12,  7.08it/s]"
     ]
    },
    {
     "name": "stdout",
     "output_type": "stream",
     "text": [
      "1558.7947516441345\n",
      "[('the', 52)]\n",
      "[('the', 52)]\n",
      "[('and', 72)]\n",
      "1556.514805316925\n",
      "[('the', 52)]\n",
      "[('the', 52)]\n",
      "[('and', 72)]\n"
     ]
    },
    {
     "name": "stderr",
     "output_type": "stream",
     "text": [
      "  7%|▋         | 38/550 [00:05<01:11,  7.20it/s]"
     ]
    },
    {
     "name": "stdout",
     "output_type": "stream",
     "text": [
      "1554.2402091026306\n",
      "[('the', 52)]\n",
      "[('the', 52)]\n",
      "[('and', 72)]\n",
      "1551.9705729484558\n",
      "[('the', 52)]\n",
      "[('the', 52)]\n",
      "[('and', 72)]\n"
     ]
    },
    {
     "name": "stderr",
     "output_type": "stream",
     "text": [
      "  7%|▋         | 40/550 [00:06<01:09,  7.32it/s]"
     ]
    },
    {
     "name": "stdout",
     "output_type": "stream",
     "text": [
      "1549.706805229187\n",
      "[('the', 52)]\n",
      "[('the', 52)]\n",
      "[('and', 72)]\n",
      "1547.4493703842163\n",
      "[('the', 52)]\n",
      "[('the', 52)]\n",
      "[('and', 72)]\n"
     ]
    },
    {
     "name": "stderr",
     "output_type": "stream",
     "text": [
      "  8%|▊         | 42/550 [00:06<01:09,  7.31it/s]"
     ]
    },
    {
     "name": "stdout",
     "output_type": "stream",
     "text": [
      "1545.1975727081299\n",
      "[('the', 52)]\n",
      "[('the', 52)]\n",
      "[('and', 72)]\n",
      "1542.9509921073914\n",
      "[('the', 52)]\n",
      "[('the', 52)]\n",
      "[('and', 72)]\n"
     ]
    },
    {
     "name": "stderr",
     "output_type": "stream",
     "text": [
      "  8%|▊         | 44/550 [00:06<01:11,  7.11it/s]"
     ]
    },
    {
     "name": "stdout",
     "output_type": "stream",
     "text": [
      "1540.7107028961182\n",
      "[('the', 52)]\n",
      "[('the', 52)]\n",
      "[('and', 72)]\n",
      "1538.4758858680725\n",
      "[('the', 52)]\n",
      "[('the', 52)]\n",
      "[('and', 72)]\n"
     ]
    },
    {
     "name": "stderr",
     "output_type": "stream",
     "text": [
      "  8%|▊         | 46/550 [00:06<01:09,  7.21it/s]"
     ]
    },
    {
     "name": "stdout",
     "output_type": "stream",
     "text": [
      "1536.2476181983948\n",
      "[('the', 52)]\n",
      "[('the', 52)]\n",
      "[('and', 72)]\n",
      "1534.026617527008\n",
      "[('the', 52)]\n",
      "[('the', 52)]\n",
      "[('and', 72)]\n"
     ]
    },
    {
     "name": "stderr",
     "output_type": "stream",
     "text": [
      "  9%|▊         | 48/550 [00:07<01:09,  7.25it/s]"
     ]
    },
    {
     "name": "stdout",
     "output_type": "stream",
     "text": [
      "1531.8129830360413\n",
      "[('the', 52)]\n",
      "[('the', 52)]\n",
      "[('and', 72)]\n",
      "1529.606632232666\n",
      "[('the', 52)]\n",
      "[('the', 52)]\n",
      "[('and', 72)]\n"
     ]
    },
    {
     "name": "stderr",
     "output_type": "stream",
     "text": [
      "  9%|▉         | 50/550 [00:07<01:21,  6.12it/s]"
     ]
    },
    {
     "name": "stdout",
     "output_type": "stream",
     "text": [
      "1527.4076008796692\n",
      "[('the', 52)]\n",
      "[('the', 52)]\n",
      "[('and', 72)]\n",
      "1525.2164945602417\n",
      "[('the', 52)]\n",
      "[('the', 52)]\n",
      "[('and', 72)]\n"
     ]
    },
    {
     "name": "stderr",
     "output_type": "stream",
     "text": [
      "  9%|▉         | 52/550 [00:07<01:14,  6.67it/s]"
     ]
    },
    {
     "name": "stdout",
     "output_type": "stream",
     "text": [
      "1523.0339984893799\n",
      "[('the', 52)]\n",
      "[('the', 52)]\n",
      "[('and', 72)]\n",
      "1520.8597917556763\n",
      "[('the', 52)]\n",
      "[('the', 52)]\n",
      "[('and', 72)]\n"
     ]
    },
    {
     "name": "stderr",
     "output_type": "stream",
     "text": [
      " 10%|▉         | 54/550 [00:08<01:10,  6.99it/s]"
     ]
    },
    {
     "name": "stdout",
     "output_type": "stream",
     "text": [
      "1518.693835735321\n",
      "[('the', 52)]\n",
      "[('the', 52)]\n",
      "[('and', 72)]\n",
      "1516.5357785224915\n",
      "[('the', 52)]\n",
      "[('the', 52)]\n",
      "[('and', 72)]\n"
     ]
    },
    {
     "name": "stderr",
     "output_type": "stream",
     "text": [
      " 10%|█         | 56/550 [00:08<01:10,  7.04it/s]"
     ]
    },
    {
     "name": "stdout",
     "output_type": "stream",
     "text": [
      "1514.3851780891418\n",
      "[('the', 52)]\n",
      "[('the', 52)]\n",
      "[('and', 72)]\n",
      "1512.2416715621948\n",
      "[('the', 52)]\n",
      "[('the', 52)]\n",
      "[('and', 72)]\n"
     ]
    },
    {
     "name": "stderr",
     "output_type": "stream",
     "text": [
      " 11%|█         | 58/550 [00:08<01:09,  7.08it/s]"
     ]
    },
    {
     "name": "stdout",
     "output_type": "stream",
     "text": [
      "1510.1060891151428\n",
      "[('the', 52)]\n",
      "[('the', 52)]\n",
      "[('and', 72)]\n",
      "1507.9789609909058\n",
      "[('the', 52)]\n",
      "[('the', 52)]\n",
      "[('and', 72)]\n"
     ]
    },
    {
     "name": "stderr",
     "output_type": "stream",
     "text": [
      " 11%|█         | 60/550 [00:09<01:08,  7.20it/s]"
     ]
    },
    {
     "name": "stdout",
     "output_type": "stream",
     "text": [
      "1505.8588967323303\n",
      "[('the', 52)]\n",
      "[('the', 52)]\n",
      "[('and', 72)]\n",
      "1503.7457766532898\n",
      "[('the', 52)]\n",
      "[('the', 52)]\n",
      "[('and', 72)]\n"
     ]
    },
    {
     "name": "stderr",
     "output_type": "stream",
     "text": [
      " 11%|█▏        | 62/550 [00:09<01:09,  6.98it/s]"
     ]
    },
    {
     "name": "stdout",
     "output_type": "stream",
     "text": [
      "1501.639009475708\n",
      "[('the', 52)]\n",
      "[('the', 52)]\n",
      "[('and', 72)]\n",
      "1499.539900302887\n",
      "[('the', 52)]\n",
      "[('the', 52)]\n",
      "[('and', 72)]\n"
     ]
    },
    {
     "name": "stderr",
     "output_type": "stream",
     "text": [
      " 12%|█▏        | 64/550 [00:09<01:16,  6.35it/s]"
     ]
    },
    {
     "name": "stdout",
     "output_type": "stream",
     "text": [
      "1497.446825504303\n",
      "[('the', 52)]\n",
      "[('the', 52)]\n",
      "[('and', 72)]\n",
      "1495.3600101470947\n",
      "[('the', 52)]\n",
      "[('the', 52)]\n",
      "[('and', 72)]\n"
     ]
    },
    {
     "name": "stderr",
     "output_type": "stream",
     "text": [
      " 12%|█▏        | 66/550 [00:09<01:19,  6.10it/s]"
     ]
    },
    {
     "name": "stdout",
     "output_type": "stream",
     "text": [
      "1493.2794480323792\n",
      "[('the', 52)]\n",
      "[('the', 52)]\n",
      "[('and', 72)]\n",
      "1491.204153060913\n",
      "[('the', 52)]\n",
      "[('the', 52)]\n",
      "[('and', 72)]\n"
     ]
    },
    {
     "name": "stderr",
     "output_type": "stream",
     "text": [
      " 12%|█▏        | 68/550 [00:10<01:20,  5.98it/s]"
     ]
    },
    {
     "name": "stdout",
     "output_type": "stream",
     "text": [
      "1489.1336297988892\n",
      "[('the', 52)]\n",
      "[('the', 52)]\n",
      "[('and', 72)]\n",
      "1487.0670080184937\n",
      "[('the', 52)]\n",
      "[('the', 52)]\n",
      "[('and', 72)]\n"
     ]
    },
    {
     "name": "stderr",
     "output_type": "stream",
     "text": [
      " 13%|█▎        | 70/550 [00:10<01:19,  6.06it/s]"
     ]
    },
    {
     "name": "stdout",
     "output_type": "stream",
     "text": [
      "1485.003927230835\n",
      "[('the', 52)]\n",
      "[('the', 52)]\n",
      "[('and', 72)]\n",
      "1482.9441361427307\n",
      "[('the', 52)]\n",
      "[('the', 52)]\n",
      "[('and', 72)]\n"
     ]
    },
    {
     "name": "stderr",
     "output_type": "stream",
     "text": [
      " 13%|█▎        | 72/550 [00:10<01:12,  6.58it/s]"
     ]
    },
    {
     "name": "stdout",
     "output_type": "stream",
     "text": [
      "1480.8872776031494\n",
      "[('the', 52)]\n",
      "[('the', 52)]\n",
      "[('and', 72)]\n",
      "1478.8330616950989\n",
      "[('the', 52)]\n",
      "[('the', 52)]\n",
      "[('and', 72)]\n"
     ]
    },
    {
     "name": "stderr",
     "output_type": "stream",
     "text": [
      " 13%|█▎        | 74/550 [00:11<01:10,  6.80it/s]"
     ]
    },
    {
     "name": "stdout",
     "output_type": "stream",
     "text": [
      "1476.781174659729\n",
      "[('the', 52)]\n",
      "[('the', 52)]\n",
      "[('and', 72)]\n",
      "1474.7312393188477\n",
      "[('the', 52)]\n",
      "[('the', 52)]\n",
      "[('and', 72)]\n"
     ]
    },
    {
     "name": "stderr",
     "output_type": "stream",
     "text": [
      " 14%|█▍        | 76/550 [00:11<01:10,  6.74it/s]"
     ]
    },
    {
     "name": "stdout",
     "output_type": "stream",
     "text": [
      "1472.6826434135437\n",
      "[('the', 52)]\n",
      "[('the', 52)]\n",
      "[('and', 72)]\n",
      "1470.6344084739685\n",
      "[('the', 52)]\n",
      "[('the', 52)]\n",
      "[('and', 72)]\n"
     ]
    },
    {
     "name": "stderr",
     "output_type": "stream",
     "text": [
      " 14%|█▍        | 78/550 [00:11<01:10,  6.70it/s]"
     ]
    },
    {
     "name": "stdout",
     "output_type": "stream",
     "text": [
      "1468.585632801056\n",
      "[('the', 52)]\n",
      "[('the', 52)]\n",
      "[('and', 72)]\n",
      "1466.5360894203186\n",
      "[('the', 52)]\n",
      "[('the', 52)]\n",
      "[('and', 72)]\n"
     ]
    },
    {
     "name": "stderr",
     "output_type": "stream",
     "text": [
      " 15%|█▍        | 80/550 [00:12<01:07,  6.93it/s]"
     ]
    },
    {
     "name": "stdout",
     "output_type": "stream",
     "text": [
      "1464.484441280365\n",
      "[('the', 52)]\n",
      "[('the', 52)]\n",
      "[('and', 72)]\n",
      "1462.4309856891632\n",
      "[('the', 52)]\n",
      "[('the', 52)]\n",
      "[('and', 72)]\n"
     ]
    },
    {
     "name": "stderr",
     "output_type": "stream",
     "text": [
      " 15%|█▍        | 82/550 [00:12<01:06,  7.06it/s]"
     ]
    },
    {
     "name": "stdout",
     "output_type": "stream",
     "text": [
      "1460.3752851486206\n",
      "[('the', 52)]\n",
      "[('the', 52)]\n",
      "[('and', 72)]\n",
      "1458.3175747394562\n",
      "[('the', 52)]\n",
      "[('the', 52)]\n",
      "[('and', 72)]\n"
     ]
    },
    {
     "name": "stderr",
     "output_type": "stream",
     "text": [
      " 15%|█▌        | 83/550 [00:12<01:11,  6.55it/s]"
     ]
    },
    {
     "name": "stdout",
     "output_type": "stream",
     "text": [
      "1456.256225347519\n",
      "[('the', 52)]\n",
      "[('the', 52)]\n",
      "[('and', 72)]\n"
     ]
    },
    {
     "name": "stderr",
     "output_type": "stream",
     "text": [
      " 15%|█▌        | 84/550 [00:12<01:21,  5.71it/s]"
     ]
    },
    {
     "name": "stdout",
     "output_type": "stream",
     "text": [
      "1454.1915447711945\n",
      "[('the', 52)]\n",
      "[('the', 52)]\n",
      "[('and', 72)]\n"
     ]
    },
    {
     "name": "stderr",
     "output_type": "stream",
     "text": [
      " 16%|█▌        | 86/550 [00:13<01:22,  5.59it/s]"
     ]
    },
    {
     "name": "stdout",
     "output_type": "stream",
     "text": [
      "1452.1227085590363\n",
      "[('the', 52)]\n",
      "[('the', 52)]\n",
      "[('and', 72)]\n",
      "1450.0500240325928\n",
      "[('the', 52)]\n",
      "[('the', 52)]\n",
      "[('and', 72)]\n"
     ]
    },
    {
     "name": "stderr",
     "output_type": "stream",
     "text": [
      " 16%|█▌        | 88/550 [00:13<01:21,  5.69it/s]"
     ]
    },
    {
     "name": "stdout",
     "output_type": "stream",
     "text": [
      "1447.9719569683075\n",
      "[('the', 52)]\n",
      "[('the', 52)]\n",
      "[('and', 72)]\n",
      "1445.8886530399323\n",
      "[('the', 52)]\n",
      "[('the', 52)]\n",
      "[('and', 72)]\n"
     ]
    },
    {
     "name": "stderr",
     "output_type": "stream",
     "text": [
      " 16%|█▋        | 90/550 [00:13<01:20,  5.72it/s]"
     ]
    },
    {
     "name": "stdout",
     "output_type": "stream",
     "text": [
      "1443.799810886383\n",
      "[('the', 52)]\n",
      "[('the', 52)]\n",
      "[('and', 72)]\n",
      "1441.704915046692\n",
      "[('the', 52)]\n",
      "[('the', 52)]\n",
      "[('and', 72)]\n"
     ]
    },
    {
     "name": "stderr",
     "output_type": "stream",
     "text": [
      " 17%|█▋        | 92/550 [00:14<01:18,  5.86it/s]"
     ]
    },
    {
     "name": "stdout",
     "output_type": "stream",
     "text": [
      "1439.6043014526367\n",
      "[('the', 52)]\n",
      "[('the', 52)]\n",
      "[('and', 72)]\n",
      "1437.4975113868713\n",
      "[('the', 52)]\n",
      "[('the', 52)]\n",
      "[('and', 72)]\n"
     ]
    },
    {
     "name": "stderr",
     "output_type": "stream",
     "text": [
      " 17%|█▋        | 94/550 [00:14<01:16,  5.97it/s]"
     ]
    },
    {
     "name": "stdout",
     "output_type": "stream",
     "text": [
      "1435.384479045868\n",
      "[('the', 52)]\n",
      "[('the', 52)]\n",
      "[('and', 72)]\n",
      "1433.2641382217407\n",
      "[('the', 52)]\n",
      "[('the', 52)]\n",
      "[('and', 72)]\n"
     ]
    },
    {
     "name": "stderr",
     "output_type": "stream",
     "text": [
      " 17%|█▋        | 96/550 [00:14<01:11,  6.39it/s]"
     ]
    },
    {
     "name": "stdout",
     "output_type": "stream",
     "text": [
      "1431.1364517211914\n",
      "[('the', 52)]\n",
      "[('the', 52)]\n",
      "[('and', 72)]\n",
      "1429.0014057159424\n",
      "[('the', 52)]\n",
      "[('the', 52)]\n",
      "[('and', 72)]\n"
     ]
    },
    {
     "name": "stderr",
     "output_type": "stream",
     "text": [
      " 18%|█▊        | 98/550 [00:15<01:07,  6.68it/s]"
     ]
    },
    {
     "name": "stdout",
     "output_type": "stream",
     "text": [
      "1426.8584997653961\n",
      "[('the', 52)]\n",
      "[('the', 52)]\n",
      "[('and', 72)]\n",
      "1424.7083535194397\n",
      "[('the', 52)]\n",
      "[('the', 52)]\n",
      "[('and', 72)]\n"
     ]
    },
    {
     "name": "stderr",
     "output_type": "stream",
     "text": [
      " 18%|█▊        | 100/550 [00:15<01:04,  6.93it/s]"
     ]
    },
    {
     "name": "stdout",
     "output_type": "stream",
     "text": [
      "1422.5505847930908\n",
      "[('the', 52)]\n",
      "[('the', 52)]\n",
      "[('and', 72)]\n",
      "1420.3841705322266\n",
      "[('the', 52)]\n",
      "[('the', 52)]\n",
      "[('and', 72)]\n"
     ]
    },
    {
     "name": "stderr",
     "output_type": "stream",
     "text": [
      " 19%|█▊        | 102/550 [00:15<01:05,  6.87it/s]"
     ]
    },
    {
     "name": "stdout",
     "output_type": "stream",
     "text": [
      "1418.2089416980743\n",
      "[('the', 52)]\n",
      "[('the', 52)]\n",
      "[('and', 72)]\n",
      "1416.0251212120056\n",
      "[('the', 52)]\n",
      "[('the', 52)]\n",
      "[('and', 72)]\n"
     ]
    },
    {
     "name": "stderr",
     "output_type": "stream",
     "text": [
      " 19%|█▉        | 104/550 [00:15<01:03,  6.98it/s]"
     ]
    },
    {
     "name": "stdout",
     "output_type": "stream",
     "text": [
      "1413.833172082901\n",
      "[('the', 52)]\n",
      "[('the', 52)]\n",
      "[('and', 72)]\n",
      "1411.6322045326233\n",
      "[('the', 52)]\n",
      "[('the', 52)]\n",
      "[('and', 72)]\n"
     ]
    },
    {
     "name": "stderr",
     "output_type": "stream",
     "text": [
      " 19%|█▉        | 106/550 [00:16<01:04,  6.85it/s]"
     ]
    },
    {
     "name": "stdout",
     "output_type": "stream",
     "text": [
      "1409.4215152263641\n",
      "[('the', 52)]\n",
      "[('the', 52)]\n",
      "[('and', 72)]\n",
      "1407.2017517089844\n",
      "[('the', 52)]\n",
      "[('the', 52)]\n",
      "[('and', 72)]\n"
     ]
    },
    {
     "name": "stderr",
     "output_type": "stream",
     "text": [
      " 20%|█▉        | 108/550 [00:16<01:03,  6.94it/s]"
     ]
    },
    {
     "name": "stdout",
     "output_type": "stream",
     "text": [
      "1404.9727387428284\n",
      "[('the', 52)]\n",
      "[('the', 52)]\n",
      "[('and', 72)]\n",
      "1402.7347881793976\n",
      "[('the', 52)]\n",
      "[('the', 52)]\n",
      "[('and', 72)]\n"
     ]
    },
    {
     "name": "stderr",
     "output_type": "stream",
     "text": [
      " 20%|██        | 110/550 [00:16<01:03,  6.93it/s]"
     ]
    },
    {
     "name": "stdout",
     "output_type": "stream",
     "text": [
      "1400.4875447750092\n",
      "[('the', 52)]\n",
      "[('the', 52)]\n",
      "[('and', 72)]\n",
      "1398.230859041214\n",
      "[('the', 52)]\n",
      "[('the', 52)]\n",
      "[('and', 72)]\n"
     ]
    },
    {
     "name": "stderr",
     "output_type": "stream",
     "text": [
      " 20%|██        | 112/550 [00:17<01:02,  6.98it/s]"
     ]
    },
    {
     "name": "stdout",
     "output_type": "stream",
     "text": [
      "1395.9642491340637\n",
      "[('the', 52)]\n",
      "[('the', 52)]\n",
      "[('and', 72)]\n",
      "1393.6872463226318\n",
      "[('the', 52)]\n",
      "[('the', 52)]\n",
      "[('and', 72)]\n"
     ]
    },
    {
     "name": "stderr",
     "output_type": "stream",
     "text": [
      " 21%|██        | 114/550 [00:17<01:05,  6.66it/s]"
     ]
    },
    {
     "name": "stdout",
     "output_type": "stream",
     "text": [
      "1391.3999202251434\n",
      "[('the', 52)]\n",
      "[('the', 52)]\n",
      "[('and', 72)]\n",
      "1389.1029212474823\n",
      "[('the', 52)]\n",
      "[('the', 52)]\n",
      "[('and', 72)]\n"
     ]
    },
    {
     "name": "stderr",
     "output_type": "stream",
     "text": [
      " 21%|██        | 116/550 [00:17<01:04,  6.78it/s]"
     ]
    },
    {
     "name": "stdout",
     "output_type": "stream",
     "text": [
      "1386.7954545021057\n",
      "[('the', 52)]\n",
      "[('the', 52)]\n",
      "[('and', 72)]\n",
      "1384.4769859313965\n",
      "[('the', 52)]\n",
      "[('the', 52)]\n",
      "[('and', 72)]\n"
     ]
    },
    {
     "name": "stderr",
     "output_type": "stream",
     "text": [
      " 21%|██▏       | 118/550 [00:17<01:02,  6.96it/s]"
     ]
    },
    {
     "name": "stdout",
     "output_type": "stream",
     "text": [
      "1382.1475057601929\n",
      "[('the', 52)]\n",
      "[('the', 52)]\n",
      "[('and', 72)]\n",
      "1379.8074054718018\n",
      "[('the', 52)]\n",
      "[('the', 52)]\n",
      "[('and', 72)]\n"
     ]
    },
    {
     "name": "stderr",
     "output_type": "stream",
     "text": [
      " 22%|██▏       | 120/550 [00:18<01:00,  7.09it/s]"
     ]
    },
    {
     "name": "stdout",
     "output_type": "stream",
     "text": [
      "1377.4556920528412\n",
      "[('the', 52)]\n",
      "[('the', 52)]\n",
      "[('and', 72)]\n",
      "1375.0931441783905\n",
      "[('the', 52)]\n",
      "[('the', 52)]\n",
      "[('and', 72)]\n"
     ]
    },
    {
     "name": "stderr",
     "output_type": "stream",
     "text": [
      " 22%|██▏       | 122/550 [00:18<01:01,  7.00it/s]"
     ]
    },
    {
     "name": "stdout",
     "output_type": "stream",
     "text": [
      "1372.719574213028\n",
      "[('the', 52)]\n",
      "[('the', 52)]\n",
      "[('and', 72)]\n",
      "1370.3356177806854\n",
      "[('the', 52)]\n",
      "[('the', 52)]\n",
      "[('and', 72)]\n"
     ]
    },
    {
     "name": "stderr",
     "output_type": "stream",
     "text": [
      " 23%|██▎       | 124/550 [00:18<01:04,  6.65it/s]"
     ]
    },
    {
     "name": "stdout",
     "output_type": "stream",
     "text": [
      "1367.9400746822357\n",
      "[('the', 52)]\n",
      "[('the', 52)]\n",
      "[('and', 72)]\n",
      "1365.533753156662\n",
      "[('the', 52)]\n",
      "[('the', 52)]\n",
      "[('and', 72)]\n"
     ]
    },
    {
     "name": "stderr",
     "output_type": "stream",
     "text": [
      " 23%|██▎       | 126/550 [00:19<01:04,  6.61it/s]"
     ]
    },
    {
     "name": "stdout",
     "output_type": "stream",
     "text": [
      "1363.1155219078064\n",
      "[('the', 52)]\n",
      "[('the', 52)]\n",
      "[('and', 72)]\n",
      "1360.6860325336456\n",
      "[('the', 52)]\n",
      "[('the', 52)]\n",
      "[('and', 72)]\n"
     ]
    },
    {
     "name": "stderr",
     "output_type": "stream",
     "text": [
      " 23%|██▎       | 128/550 [00:19<01:01,  6.86it/s]"
     ]
    },
    {
     "name": "stdout",
     "output_type": "stream",
     "text": [
      "1358.2450823783875\n",
      "[('the', 52)]\n",
      "[('the', 52)]\n",
      "[('and', 72)]\n",
      "1355.7935156822205\n",
      "[('the', 52)]\n",
      "[('the', 52)]\n",
      "[('and', 72)]\n"
     ]
    },
    {
     "name": "stderr",
     "output_type": "stream",
     "text": [
      " 24%|██▎       | 130/550 [00:19<01:03,  6.61it/s]"
     ]
    },
    {
     "name": "stdout",
     "output_type": "stream",
     "text": [
      "1353.3302030563354\n",
      "[('the', 52)]\n",
      "[('the', 52)]\n",
      "[('and', 72)]\n",
      "1350.8553204536438\n",
      "[('the', 52)]\n",
      "[('the', 52)]\n",
      "[('and', 72)]\n"
     ]
    },
    {
     "name": "stderr",
     "output_type": "stream",
     "text": [
      " 24%|██▍       | 132/550 [00:20<01:01,  6.80it/s]"
     ]
    },
    {
     "name": "stdout",
     "output_type": "stream",
     "text": [
      "1348.3682310581207\n",
      "[('the', 52)]\n",
      "[('the', 52)]\n",
      "[('and', 72)]\n",
      "1345.8697757720947\n",
      "[('the', 52)]\n",
      "[('the', 52)]\n",
      "[('and', 72)]\n"
     ]
    },
    {
     "name": "stderr",
     "output_type": "stream",
     "text": [
      " 24%|██▍       | 134/550 [00:20<01:01,  6.76it/s]"
     ]
    },
    {
     "name": "stdout",
     "output_type": "stream",
     "text": [
      "1343.359939813614\n",
      "[('the', 52)]\n",
      "[('the', 52)]\n",
      "[('and', 72)]\n",
      "1340.8387343883514\n",
      "[('the', 52)]\n",
      "[('the', 52)]\n",
      "[('and', 72)]\n"
     ]
    },
    {
     "name": "stderr",
     "output_type": "stream",
     "text": [
      " 25%|██▍       | 136/550 [00:20<01:01,  6.69it/s]"
     ]
    },
    {
     "name": "stdout",
     "output_type": "stream",
     "text": [
      "1338.3064095973969\n",
      "[('the', 52)]\n",
      "[('the', 52)]\n",
      "[('and', 72)]\n",
      "1335.7632389068604\n",
      "[('the', 52)]\n",
      "[('the', 52)]\n",
      "[('and', 72)]\n"
     ]
    },
    {
     "name": "stderr",
     "output_type": "stream",
     "text": [
      " 25%|██▌       | 138/550 [00:21<01:06,  6.18it/s]"
     ]
    },
    {
     "name": "stdout",
     "output_type": "stream",
     "text": [
      "1333.2083389759064\n",
      "[('the', 52)]\n",
      "[('the', 52)]\n",
      "[('and', 72)]\n",
      "1330.6418011188507\n",
      "[('the', 52)]\n",
      "[('the', 52)]\n",
      "[('and', 72)]\n"
     ]
    },
    {
     "name": "stderr",
     "output_type": "stream",
     "text": [
      " 25%|██▌       | 140/550 [00:21<01:05,  6.22it/s]"
     ]
    },
    {
     "name": "stdout",
     "output_type": "stream",
     "text": [
      "1328.063554763794\n",
      "[('the', 52)]\n",
      "[('the', 52)]\n",
      "[('and', 72)]\n",
      "1325.4736588001251\n",
      "[('the', 52)]\n",
      "[('the', 52)]\n",
      "[('and', 72)]\n"
     ]
    },
    {
     "name": "stderr",
     "output_type": "stream",
     "text": [
      " 26%|██▌       | 142/550 [00:21<01:03,  6.43it/s]"
     ]
    },
    {
     "name": "stdout",
     "output_type": "stream",
     "text": [
      "1322.871357679367\n",
      "[('the', 52)]\n",
      "[('the', 52)]\n",
      "[('and', 72)]\n",
      "1320.2574298381805\n",
      "[('the', 52)]\n",
      "[('the', 52)]\n",
      "[('and', 72)]\n"
     ]
    },
    {
     "name": "stderr",
     "output_type": "stream",
     "text": [
      " 26%|██▌       | 144/550 [00:21<01:00,  6.75it/s]"
     ]
    },
    {
     "name": "stdout",
     "output_type": "stream",
     "text": [
      "1317.631254196167\n",
      "[('the', 52)]\n",
      "[('the', 52)]\n",
      "[('and', 72)]\n",
      "1314.9934749603271\n",
      "[('the', 52)]\n",
      "[('the', 52)]\n",
      "[('and', 72)]\n"
     ]
    },
    {
     "name": "stderr",
     "output_type": "stream",
     "text": [
      " 27%|██▋       | 146/550 [00:22<00:59,  6.76it/s]"
     ]
    },
    {
     "name": "stdout",
     "output_type": "stream",
     "text": [
      "1312.3430087566376\n",
      "[('the', 52)]\n",
      "[('the', 52)]\n",
      "[('and', 72)]\n",
      "1309.6822164058685\n",
      "[('the', 52)]\n",
      "[('the', 52)]\n",
      "[('and', 72)]\n"
     ]
    },
    {
     "name": "stderr",
     "output_type": "stream",
     "text": [
      " 27%|██▋       | 148/550 [00:22<00:59,  6.76it/s]"
     ]
    },
    {
     "name": "stdout",
     "output_type": "stream",
     "text": [
      "1307.0084447860718\n",
      "[('the', 52)]\n",
      "[('the', 52)]\n",
      "[('and', 72)]\n",
      "1304.3238265514374\n",
      "[('the', 52)]\n",
      "[('the', 52)]\n",
      "[('and', 72)]\n"
     ]
    },
    {
     "name": "stderr",
     "output_type": "stream",
     "text": [
      " 27%|██▋       | 150/550 [00:22<01:00,  6.58it/s]"
     ]
    },
    {
     "name": "stdout",
     "output_type": "stream",
     "text": [
      "1301.6272435188293\n",
      "[('the', 52)]\n",
      "[('the', 52)]\n",
      "[('and', 72)]\n",
      "1298.919687986374\n",
      "[('the', 52)]\n",
      "[('the', 52)]\n",
      "[('and', 72)]\n"
     ]
    },
    {
     "name": "stderr",
     "output_type": "stream",
     "text": [
      " 28%|██▊       | 152/550 [00:23<00:58,  6.84it/s]"
     ]
    },
    {
     "name": "stdout",
     "output_type": "stream",
     "text": [
      "1296.200582742691\n",
      "[('the', 52)]\n",
      "[('the', 52)]\n",
      "[('in', 118)]\n",
      "1293.4694106578827\n",
      "[('the', 52)]\n",
      "[('the', 52)]\n",
      "[('in', 118)]\n"
     ]
    },
    {
     "name": "stderr",
     "output_type": "stream",
     "text": [
      " 28%|██▊       | 154/550 [00:23<00:57,  6.84it/s]"
     ]
    },
    {
     "name": "stdout",
     "output_type": "stream",
     "text": [
      "1290.7271156311035\n",
      "[('the', 52)]\n",
      "[('the', 52)]\n",
      "[('in', 118)]\n",
      "1287.9734427928925\n",
      "[('the', 52)]\n",
      "[('the', 52)]\n",
      "[('in', 118)]\n"
     ]
    },
    {
     "name": "stderr",
     "output_type": "stream",
     "text": [
      " 28%|██▊       | 156/550 [00:23<00:57,  6.86it/s]"
     ]
    },
    {
     "name": "stdout",
     "output_type": "stream",
     "text": [
      "1285.2078363895416\n",
      "[('the', 52)]\n",
      "[('the', 52)]\n",
      "[('in', 118)]\n",
      "1282.4314651489258\n",
      "[('the', 52)]\n",
      "[('the', 52)]\n",
      "[('in', 118)]\n"
     ]
    },
    {
     "name": "stderr",
     "output_type": "stream",
     "text": [
      " 29%|██▊       | 158/550 [00:23<00:59,  6.61it/s]"
     ]
    },
    {
     "name": "stdout",
     "output_type": "stream",
     "text": [
      "1279.6433198451996\n",
      "[('the', 52)]\n",
      "[('the', 52)]\n",
      "[('in', 118)]\n",
      "1276.8432824611664\n",
      "[('the', 52)]\n",
      "[('the', 52)]\n",
      "[('in', 118)]\n"
     ]
    },
    {
     "name": "stderr",
     "output_type": "stream",
     "text": [
      " 29%|██▉       | 160/550 [00:24<00:56,  6.87it/s]"
     ]
    },
    {
     "name": "stdout",
     "output_type": "stream",
     "text": [
      "1274.0327830314636\n",
      "[('the', 52)]\n",
      "[('the', 52)]\n",
      "[('in', 118)]\n",
      "1271.2116947174072\n",
      "[('the', 52)]\n",
      "[('the', 52)]\n",
      "[('in', 118)]\n"
     ]
    },
    {
     "name": "stderr",
     "output_type": "stream",
     "text": [
      " 29%|██▉       | 162/550 [00:24<00:56,  6.82it/s]"
     ]
    },
    {
     "name": "stdout",
     "output_type": "stream",
     "text": [
      "1268.3805375099182\n",
      "[('the', 52)]\n",
      "[('the', 52)]\n",
      "[('in', 118)]\n",
      "1265.5397462844849\n",
      "[('the', 52)]\n",
      "[('the', 52)]\n",
      "[('in', 118)]\n"
     ]
    },
    {
     "name": "stderr",
     "output_type": "stream",
     "text": [
      " 30%|██▉       | 164/550 [00:24<00:55,  6.99it/s]"
     ]
    },
    {
     "name": "stdout",
     "output_type": "stream",
     "text": [
      "1262.6873836517334\n",
      "[('the', 52)]\n",
      "[('the', 52)]\n",
      "[('in', 118)]\n",
      "1259.8242537975311\n",
      "[('the', 52)]\n",
      "[('the', 52)]\n",
      "[('in', 118)]\n"
     ]
    },
    {
     "name": "stderr",
     "output_type": "stream",
     "text": [
      " 30%|███       | 166/550 [00:25<00:55,  6.86it/s]"
     ]
    },
    {
     "name": "stdout",
     "output_type": "stream",
     "text": [
      "1256.951253414154\n",
      "[('the', 52)]\n",
      "[('the', 52)]\n",
      "[('in', 118)]\n",
      "1254.0663452148438\n",
      "[('the', 52)]\n",
      "[('the', 52)]\n",
      "[('in', 118)]\n"
     ]
    },
    {
     "name": "stderr",
     "output_type": "stream",
     "text": [
      " 31%|███       | 168/550 [00:25<00:58,  6.53it/s]"
     ]
    },
    {
     "name": "stdout",
     "output_type": "stream",
     "text": [
      "1251.1710996627808\n",
      "[('the', 52)]\n",
      "[('the', 52)]\n",
      "[('in', 118)]\n",
      "1248.265438079834\n",
      "[('the', 52)]\n",
      "[('the', 52)]\n",
      "[('in', 118)]\n"
     ]
    },
    {
     "name": "stderr",
     "output_type": "stream",
     "text": [
      " 31%|███       | 170/550 [00:25<00:57,  6.57it/s]"
     ]
    },
    {
     "name": "stdout",
     "output_type": "stream",
     "text": [
      "1245.3493597507477\n",
      "[('the', 52)]\n",
      "[('the', 52)]\n",
      "[('in', 118)]\n",
      "1242.4236872196198\n",
      "[('the', 52)]\n",
      "[('the', 52)]\n",
      "[('in', 118)]\n"
     ]
    },
    {
     "name": "stderr",
     "output_type": "stream",
     "text": [
      " 31%|███▏      | 172/550 [00:26<00:58,  6.47it/s]"
     ]
    },
    {
     "name": "stdout",
     "output_type": "stream",
     "text": [
      "1239.4877252578735\n",
      "[('the', 52)]\n",
      "[('the', 52)]\n",
      "[('in', 118)]\n",
      "1236.5420429706573\n",
      "[('the', 52)]\n",
      "[('the', 52)]\n",
      "[('in', 118)]\n"
     ]
    },
    {
     "name": "stderr",
     "output_type": "stream",
     "text": [
      " 32%|███▏      | 174/550 [00:26<01:03,  5.96it/s]"
     ]
    },
    {
     "name": "stdout",
     "output_type": "stream",
     "text": [
      "1233.5871186256409\n",
      "[('the', 52)]\n",
      "[('the', 52)]\n",
      "[('in', 118)]\n",
      "1230.6229469776154\n",
      "[('the', 52)]\n",
      "[('the', 52)]\n",
      "[('in', 118)]\n"
     ]
    },
    {
     "name": "stderr",
     "output_type": "stream",
     "text": [
      " 32%|███▏      | 176/550 [00:26<01:11,  5.26it/s]"
     ]
    },
    {
     "name": "stdout",
     "output_type": "stream",
     "text": [
      "1227.6486022472382\n",
      "[('the', 52)]\n",
      "[('the', 52)]\n",
      "[('in', 118)]\n",
      "1224.6663422584534\n",
      "[('the', 52)]\n",
      "[('the', 52)]\n",
      "[('in', 118)]\n"
     ]
    },
    {
     "name": "stderr",
     "output_type": "stream",
     "text": [
      " 32%|███▏      | 178/550 [00:27<01:03,  5.89it/s]"
     ]
    },
    {
     "name": "stdout",
     "output_type": "stream",
     "text": [
      "1221.6745436191559\n",
      "[('the', 52)]\n",
      "[('the', 52)]\n",
      "[('in', 118)]\n",
      "1218.6728358268738\n",
      "[('the', 52)]\n",
      "[('the', 52)]\n",
      "[('in', 118)]\n"
     ]
    },
    {
     "name": "stderr",
     "output_type": "stream",
     "text": [
      " 33%|███▎      | 180/550 [00:27<00:59,  6.21it/s]"
     ]
    },
    {
     "name": "stdout",
     "output_type": "stream",
     "text": [
      "1215.6633667945862\n",
      "[('the', 52)]\n",
      "[('the', 52)]\n",
      "[('in', 118)]\n",
      "1212.6439769268036\n",
      "[('the', 52)]\n",
      "[('the', 52)]\n",
      "[('in', 118)]\n"
     ]
    },
    {
     "name": "stderr",
     "output_type": "stream",
     "text": [
      " 33%|███▎      | 182/550 [00:27<01:00,  6.12it/s]"
     ]
    },
    {
     "name": "stdout",
     "output_type": "stream",
     "text": [
      "1209.6171946525574\n",
      "[('the', 52)]\n",
      "[('the', 52)]\n",
      "[('in', 118)]\n",
      "1206.581386566162\n",
      "[('the', 52)]\n",
      "[('the', 52)]\n",
      "[('in', 118)]\n"
     ]
    },
    {
     "name": "stderr",
     "output_type": "stream",
     "text": [
      " 33%|███▎      | 184/550 [00:28<00:59,  6.14it/s]"
     ]
    },
    {
     "name": "stdout",
     "output_type": "stream",
     "text": [
      "1203.5382010936737\n",
      "[('the', 52)]\n",
      "[('the', 52)]\n",
      "[('in', 118)]\n",
      "1200.4863393306732\n",
      "[('the', 52)]\n",
      "[('the', 52)]\n",
      "[('in', 118)]\n"
     ]
    },
    {
     "name": "stderr",
     "output_type": "stream",
     "text": [
      " 34%|███▍      | 186/550 [00:28<00:55,  6.57it/s]"
     ]
    },
    {
     "name": "stdout",
     "output_type": "stream",
     "text": [
      "1197.4265794754028\n",
      "[('the', 52)]\n",
      "[('the', 52)]\n",
      "[('in', 118)]\n",
      "1194.3591876029968\n",
      "[('the', 52)]\n",
      "[('the', 52)]\n",
      "[('in', 118)]\n"
     ]
    },
    {
     "name": "stderr",
     "output_type": "stream",
     "text": [
      " 34%|███▍      | 188/550 [00:28<00:54,  6.69it/s]"
     ]
    },
    {
     "name": "stdout",
     "output_type": "stream",
     "text": [
      "1191.2840085029602\n",
      "[('the', 52)]\n",
      "[('the', 52)]\n",
      "[('in', 118)]\n",
      "1188.201911687851\n",
      "[('the', 52)]\n",
      "[('the', 52)]\n",
      "[('in', 118)]\n"
     ]
    },
    {
     "name": "stderr",
     "output_type": "stream",
     "text": [
      " 35%|███▍      | 190/550 [00:29<00:54,  6.59it/s]"
     ]
    },
    {
     "name": "stdout",
     "output_type": "stream",
     "text": [
      "1185.1128430366516\n",
      "[('the', 52)]\n",
      "[('the', 52)]\n",
      "[('in', 118)]\n",
      "1182.0173635482788\n",
      "[('the', 52)]\n",
      "[('the', 52)]\n",
      "[('in', 118)]\n"
     ]
    },
    {
     "name": "stderr",
     "output_type": "stream",
     "text": [
      " 35%|███▍      | 192/550 [00:29<00:54,  6.57it/s]"
     ]
    },
    {
     "name": "stdout",
     "output_type": "stream",
     "text": [
      "1178.9159338474274\n",
      "[('the', 52)]\n",
      "[('the', 52)]\n",
      "[('in', 118)]\n",
      "1175.8079965114594\n",
      "[('the', 52)]\n",
      "[('the', 52)]\n",
      "[('in', 118)]\n"
     ]
    },
    {
     "name": "stderr",
     "output_type": "stream",
     "text": [
      " 35%|███▌      | 194/550 [00:29<00:53,  6.68it/s]"
     ]
    },
    {
     "name": "stdout",
     "output_type": "stream",
     "text": [
      "1172.6937093734741\n",
      "[('the', 52)]\n",
      "[('the', 52)]\n",
      "[('in', 118)]\n",
      "1169.572346687317\n",
      "[('the', 52)]\n",
      "[('the', 52)]\n",
      "[('in', 118)]\n"
     ]
    },
    {
     "name": "stderr",
     "output_type": "stream",
     "text": [
      " 36%|███▌      | 196/550 [00:29<00:51,  6.84it/s]"
     ]
    },
    {
     "name": "stdout",
     "output_type": "stream",
     "text": [
      "1166.4454214572906\n",
      "[('the', 52)]\n",
      "[('the', 52)]\n",
      "[('in', 118)]\n",
      "1163.3120739459991\n",
      "[('the', 52)]\n",
      "[('the', 52)]\n",
      "[('in', 118)]\n"
     ]
    },
    {
     "name": "stderr",
     "output_type": "stream",
     "text": [
      " 36%|███▌      | 198/550 [00:30<00:51,  6.83it/s]"
     ]
    },
    {
     "name": "stdout",
     "output_type": "stream",
     "text": [
      "1160.1727888584137\n",
      "[('the', 52)]\n",
      "[('the', 52)]\n",
      "[('in', 118)]\n",
      "1157.0274894237518\n",
      "[('the', 52)]\n",
      "[('the', 52)]\n",
      "[('in', 118)]\n"
     ]
    },
    {
     "name": "stderr",
     "output_type": "stream",
     "text": [
      " 36%|███▋      | 200/550 [00:30<00:51,  6.80it/s]"
     ]
    },
    {
     "name": "stdout",
     "output_type": "stream",
     "text": [
      "1153.8767583370209\n",
      "[('the', 52)]\n",
      "[('the', 52)]\n",
      "[('in', 118)]\n",
      "1150.7219631671906\n",
      "[('the', 52)]\n",
      "[('the', 52)]\n",
      "[('in', 118)]\n"
     ]
    },
    {
     "name": "stderr",
     "output_type": "stream",
     "text": [
      " 37%|███▋      | 202/550 [00:30<00:52,  6.59it/s]"
     ]
    },
    {
     "name": "stdout",
     "output_type": "stream",
     "text": [
      "1147.5612814426422\n",
      "[('the', 52)]\n",
      "[('the', 52)]\n",
      "[('in', 118)]\n",
      "1144.3960931301117\n",
      "[('the', 52)]\n",
      "[('the', 52)]\n",
      "[('in', 118)]\n"
     ]
    },
    {
     "name": "stderr",
     "output_type": "stream",
     "text": [
      " 37%|███▋      | 204/550 [00:31<00:51,  6.76it/s]"
     ]
    },
    {
     "name": "stdout",
     "output_type": "stream",
     "text": [
      "1141.2260830402374\n",
      "[('the', 52)]\n",
      "[('the', 52)]\n",
      "[('in', 118)]\n",
      "1138.0516183376312\n",
      "[('the', 52)]\n",
      "[('the', 52)]\n",
      "[('in', 118)]\n"
     ]
    },
    {
     "name": "stderr",
     "output_type": "stream",
     "text": [
      " 37%|███▋      | 206/550 [00:31<00:55,  6.15it/s]"
     ]
    },
    {
     "name": "stdout",
     "output_type": "stream",
     "text": [
      "1134.8730611801147\n",
      "[('the', 52)]\n",
      "[('the', 52)]\n",
      "[('in', 118)]\n",
      "1131.6908332109451\n"
     ]
    },
    {
     "name": "stderr",
     "output_type": "stream",
     "text": [
      " 38%|███▊      | 207/550 [00:31<00:55,  6.20it/s]"
     ]
    },
    {
     "name": "stdout",
     "output_type": "stream",
     "text": [
      "[('the', 52)]\n",
      "[('the', 52)]\n",
      "[('in', 118)]\n",
      "1128.5056773424149\n",
      "[('the', 52)]\n",
      "[('the', 52)]\n",
      "[('in', 118)]\n"
     ]
    },
    {
     "name": "stderr",
     "output_type": "stream",
     "text": [
      " 38%|███▊      | 209/550 [00:32<01:01,  5.59it/s]"
     ]
    },
    {
     "name": "stdout",
     "output_type": "stream",
     "text": [
      "1125.3157769441605\n",
      "[('the', 52)]\n",
      "[('the', 52)]\n",
      "[('in', 118)]\n",
      "1122.1234382390976\n",
      "[('the', 52)]\n",
      "[('the', 52)]\n",
      "[('in', 118)]\n"
     ]
    },
    {
     "name": "stderr",
     "output_type": "stream",
     "text": [
      " 38%|███▊      | 210/550 [00:32<01:02,  5.47it/s]"
     ]
    },
    {
     "name": "stdout",
     "output_type": "stream",
     "text": [
      "1118.9283360242844\n",
      "[('the', 52)]\n",
      "[('the', 52)]\n",
      "[('in', 118)]\n"
     ]
    },
    {
     "name": "stderr",
     "output_type": "stream",
     "text": [
      " 39%|███▊      | 212/550 [00:32<01:04,  5.27it/s]"
     ]
    },
    {
     "name": "stdout",
     "output_type": "stream",
     "text": [
      "1115.7303484678268\n",
      "[('the', 52)]\n",
      "[('the', 52)]\n",
      "[('in', 118)]\n",
      "1112.5299155712128\n",
      "[('the', 52)]\n",
      "[('the', 52)]\n",
      "[('in', 118)]\n"
     ]
    },
    {
     "name": "stderr",
     "output_type": "stream",
     "text": [
      " 39%|███▉      | 214/550 [00:32<00:58,  5.72it/s]"
     ]
    },
    {
     "name": "stdout",
     "output_type": "stream",
     "text": [
      "1109.3264189958572\n",
      "[('the', 52)]\n",
      "[('the', 52)]\n",
      "[('in', 118)]\n",
      "1106.1217197179794\n",
      "[('the', 52)]\n",
      "[('the', 52)]\n",
      "[('in', 118)]\n"
     ]
    },
    {
     "name": "stderr",
     "output_type": "stream",
     "text": [
      " 39%|███▉      | 216/550 [00:33<00:52,  6.33it/s]"
     ]
    },
    {
     "name": "stdout",
     "output_type": "stream",
     "text": [
      "1102.9145497083664\n",
      "[('the', 52)]\n",
      "[('the', 52)]\n",
      "[('in', 118)]\n",
      "1099.7059482336044\n",
      "[('the', 52)]\n",
      "[('the', 52)]\n",
      "[('in', 118)]\n"
     ]
    },
    {
     "name": "stderr",
     "output_type": "stream",
     "text": [
      " 39%|███▉      | 217/550 [00:33<00:53,  6.24it/s]"
     ]
    },
    {
     "name": "stdout",
     "output_type": "stream",
     "text": [
      "1096.4961413145065\n",
      "[('the', 52)]\n",
      "[('the', 52)]\n",
      "[('in', 118)]\n"
     ]
    },
    {
     "name": "stderr",
     "output_type": "stream",
     "text": [
      " 40%|███▉      | 219/550 [00:33<00:58,  5.61it/s]"
     ]
    },
    {
     "name": "stdout",
     "output_type": "stream",
     "text": [
      "1093.2857022285461\n",
      "[('the', 52)]\n",
      "[('the', 52)]\n",
      "[('in', 118)]\n",
      "1090.073247909546\n",
      "[('the', 52)]\n",
      "[('the', 52)]\n",
      "[('in', 118)]\n"
     ]
    },
    {
     "name": "stderr",
     "output_type": "stream",
     "text": [
      " 40%|████      | 221/550 [00:34<00:55,  5.94it/s]"
     ]
    },
    {
     "name": "stdout",
     "output_type": "stream",
     "text": [
      "1086.860314130783\n",
      "[('the', 52)]\n",
      "[('the', 52)]\n",
      "[('in', 118)]\n",
      "1083.6472427845001\n",
      "[('the', 52)]\n",
      "[('the', 52)]\n",
      "[('in', 118)]\n"
     ]
    },
    {
     "name": "stderr",
     "output_type": "stream",
     "text": [
      " 41%|████      | 223/550 [00:34<00:51,  6.41it/s]"
     ]
    },
    {
     "name": "stdout",
     "output_type": "stream",
     "text": [
      "1080.4329279661179\n",
      "[('the', 52)]\n",
      "[('the', 52)]\n",
      "[('in', 118)]\n",
      "1077.2189759016037\n",
      "[('the', 52)]\n",
      "[('the', 52)]\n",
      "[('in', 118)]\n"
     ]
    },
    {
     "name": "stderr",
     "output_type": "stream",
     "text": [
      " 41%|████      | 225/550 [00:34<00:48,  6.69it/s]"
     ]
    },
    {
     "name": "stdout",
     "output_type": "stream",
     "text": [
      "1074.0049411058426\n",
      "[('the', 52)]\n",
      "[('the', 52)]\n",
      "[('in', 118)]\n",
      "1070.7918092012405\n",
      "[('the', 52)]\n",
      "[('the', 52)]\n",
      "[('in', 118)]\n"
     ]
    },
    {
     "name": "stderr",
     "output_type": "stream",
     "text": [
      " 41%|████▏     | 227/550 [00:34<00:46,  6.97it/s]"
     ]
    },
    {
     "name": "stdout",
     "output_type": "stream",
     "text": [
      "1067.579917192459\n",
      "[('the', 52)]\n",
      "[('the', 52)]\n",
      "[('in', 118)]\n",
      "1064.3686097860336\n",
      "[('the', 52)]\n",
      "[('the', 52)]\n",
      "[('in', 118)]\n"
     ]
    },
    {
     "name": "stderr",
     "output_type": "stream",
     "text": [
      " 42%|████▏     | 229/550 [00:35<00:45,  7.02it/s]"
     ]
    },
    {
     "name": "stdout",
     "output_type": "stream",
     "text": [
      "1061.1590379476547\n",
      "[('the', 52)]\n",
      "[('the', 52)]\n",
      "[('in', 118)]\n",
      "1057.949615240097\n",
      "[('the', 52)]\n",
      "[('the', 52)]\n",
      "[('in', 118)]\n"
     ]
    },
    {
     "name": "stderr",
     "output_type": "stream",
     "text": [
      " 42%|████▏     | 231/550 [00:35<00:45,  6.96it/s]"
     ]
    },
    {
     "name": "stdout",
     "output_type": "stream",
     "text": [
      "1054.742962360382\n",
      "[('the', 52)]\n",
      "[('the', 52)]\n",
      "[('in', 118)]\n",
      "1051.537687420845\n",
      "[('the', 52)]\n",
      "[('the', 52)]\n",
      "[('in', 118)]\n"
     ]
    },
    {
     "name": "stderr",
     "output_type": "stream",
     "text": [
      " 42%|████▏     | 233/550 [00:35<00:46,  6.86it/s]"
     ]
    },
    {
     "name": "stdout",
     "output_type": "stream",
     "text": [
      "1048.334130525589\n",
      "[('the', 52)]\n",
      "[('the', 52)]\n",
      "[('in', 118)]\n",
      "1045.1327985525131\n",
      "[('the', 52)]\n",
      "[('the', 52)]\n",
      "[('in', 118)]\n"
     ]
    },
    {
     "name": "stderr",
     "output_type": "stream",
     "text": [
      " 43%|████▎     | 235/550 [00:36<00:47,  6.61it/s]"
     ]
    },
    {
     "name": "stdout",
     "output_type": "stream",
     "text": [
      "1041.9334530830383\n",
      "[('the', 52)]\n",
      "[('the', 52)]\n",
      "[('in', 118)]\n",
      "1038.7361396551132\n",
      "[('the', 52)]\n",
      "[('the', 52)]\n",
      "[('in', 118)]\n"
     ]
    },
    {
     "name": "stderr",
     "output_type": "stream",
     "text": [
      " 43%|████▎     | 237/550 [00:36<00:51,  6.05it/s]"
     ]
    },
    {
     "name": "stdout",
     "output_type": "stream",
     "text": [
      "1035.5423793792725\n",
      "[('the', 52)]\n",
      "[('the', 52)]\n",
      "[('in', 118)]\n",
      "1032.3510134220123\n",
      "[('the', 52)]\n",
      "[('the', 52)]\n",
      "[('in', 118)]\n"
     ]
    },
    {
     "name": "stderr",
     "output_type": "stream",
     "text": [
      " 43%|████▎     | 239/550 [00:36<00:52,  5.91it/s]"
     ]
    },
    {
     "name": "stdout",
     "output_type": "stream",
     "text": [
      "1029.1628484725952\n",
      "[('the', 52)]\n",
      "[('the', 52)]\n",
      "[('in', 118)]\n",
      "1025.9788709878922\n",
      "[('the', 52)]\n",
      "[('the', 52)]\n",
      "[('in', 118)]\n"
     ]
    },
    {
     "name": "stderr",
     "output_type": "stream",
     "text": [
      " 44%|████▍     | 241/550 [00:37<00:53,  5.80it/s]"
     ]
    },
    {
     "name": "stdout",
     "output_type": "stream",
     "text": [
      "1022.7980035543442\n",
      "[('the', 52)]\n",
      "[('the', 52)]\n",
      "[('in', 118)]\n",
      "1019.6221174001694\n",
      "[('the', 52)]\n",
      "[('the', 52)]\n",
      "[('in', 118)]\n"
     ]
    },
    {
     "name": "stderr",
     "output_type": "stream",
     "text": [
      " 44%|████▍     | 243/550 [00:37<00:54,  5.60it/s]"
     ]
    },
    {
     "name": "stdout",
     "output_type": "stream",
     "text": [
      "1016.4491087198257\n",
      "[('the', 52)]\n",
      "[('the', 52)]\n",
      "[('in', 118)]\n",
      "1013.281452536583\n",
      "[('the', 52)]\n",
      "[('the', 52)]\n",
      "[('in', 118)]\n"
     ]
    },
    {
     "name": "stderr",
     "output_type": "stream",
     "text": [
      " 45%|████▍     | 245/550 [00:37<00:52,  5.82it/s]"
     ]
    },
    {
     "name": "stdout",
     "output_type": "stream",
     "text": [
      "1010.1177259683609\n",
      "[('the', 52)]\n",
      "[('the', 52)]\n",
      "[('in', 118)]\n",
      "1006.9587349891663\n",
      "[('the', 52)]\n",
      "[('the', 52)]\n",
      "[('in', 118)]\n"
     ]
    },
    {
     "name": "stderr",
     "output_type": "stream",
     "text": [
      " 45%|████▍     | 247/550 [00:38<00:52,  5.81it/s]"
     ]
    },
    {
     "name": "stdout",
     "output_type": "stream",
     "text": [
      "1003.8046860694885\n",
      "[('the', 52)]\n",
      "[('the', 52)]\n",
      "[('in', 118)]\n",
      "1000.6558417081833\n",
      "[('the', 52)]\n",
      "[('the', 52)]\n",
      "[('in', 118)]\n"
     ]
    },
    {
     "name": "stderr",
     "output_type": "stream",
     "text": [
      " 45%|████▌     | 249/550 [00:38<00:49,  6.03it/s]"
     ]
    },
    {
     "name": "stdout",
     "output_type": "stream",
     "text": [
      "997.5109280347824\n",
      "[('the', 52)]\n",
      "[('the', 52)]\n",
      "[('in', 118)]\n",
      "994.3728630542755\n",
      "[('the', 52)]\n",
      "[('the', 52)]\n",
      "[('in', 118)]\n"
     ]
    },
    {
     "name": "stderr",
     "output_type": "stream",
     "text": [
      " 46%|████▌     | 251/550 [00:38<00:47,  6.29it/s]"
     ]
    },
    {
     "name": "stdout",
     "output_type": "stream",
     "text": [
      "991.2397418022156\n",
      "[('the', 52)]\n",
      "[('the', 52)]\n",
      "[('incapacitating', 99)]\n",
      "988.1121612787247\n",
      "[('the', 52)]\n",
      "[('the', 52)]\n",
      "[('incapacitating', 99)]\n"
     ]
    },
    {
     "name": "stderr",
     "output_type": "stream",
     "text": [
      " 46%|████▌     | 253/550 [00:39<00:46,  6.34it/s]"
     ]
    },
    {
     "name": "stdout",
     "output_type": "stream",
     "text": [
      "984.9904319047928\n",
      "[('the', 52)]\n",
      "[('the', 52)]\n",
      "[('incapacitating', 99)]\n",
      "981.8754708766937\n",
      "[('the', 52)]\n",
      "[('the', 52)]\n",
      "[('incapacitating', 99)]\n"
     ]
    },
    {
     "name": "stderr",
     "output_type": "stream",
     "text": [
      " 46%|████▋     | 255/550 [00:39<00:47,  6.18it/s]"
     ]
    },
    {
     "name": "stdout",
     "output_type": "stream",
     "text": [
      "978.7663576602936\n",
      "[('the', 52)]\n",
      "[('the', 52)]\n",
      "[('incapacitating', 99)]\n",
      "975.6633088588715\n",
      "[('the', 52)]\n",
      "[('the', 52)]\n",
      "[('incapacitating', 99)]\n"
     ]
    },
    {
     "name": "stderr",
     "output_type": "stream",
     "text": [
      " 47%|████▋     | 257/550 [00:39<00:45,  6.46it/s]"
     ]
    },
    {
     "name": "stdout",
     "output_type": "stream",
     "text": [
      "972.567620754242\n",
      "[('the', 52)]\n",
      "[('the', 52)]\n",
      "[('incapacitating', 99)]\n",
      "969.4785896539688\n",
      "[('the', 52)]\n",
      "[('the', 52)]\n",
      "[('incapacitating', 99)]\n"
     ]
    },
    {
     "name": "stderr",
     "output_type": "stream",
     "text": [
      " 47%|████▋     | 259/550 [00:40<00:46,  6.29it/s]"
     ]
    },
    {
     "name": "stdout",
     "output_type": "stream",
     "text": [
      "966.3959482908249\n",
      "[('the', 52)]\n",
      "[('the', 52)]\n",
      "[('incapacitating', 99)]\n",
      "963.321529507637\n",
      "[('the', 52)]\n",
      "[('the', 52)]\n",
      "[('incapacitating', 99)]\n"
     ]
    },
    {
     "name": "stderr",
     "output_type": "stream",
     "text": [
      " 47%|████▋     | 261/550 [00:40<00:47,  6.10it/s]"
     ]
    },
    {
     "name": "stdout",
     "output_type": "stream",
     "text": [
      "960.2536271810532\n",
      "[('the', 52)]\n",
      "[('the', 52)]\n",
      "[('incapacitating', 99)]\n",
      "957.193779706955\n",
      "[('the', 52)]\n",
      "[('the', 52)]\n",
      "[('incapacitating', 99)]\n"
     ]
    },
    {
     "name": "stderr",
     "output_type": "stream",
     "text": [
      " 48%|████▊     | 263/550 [00:40<00:45,  6.34it/s]"
     ]
    },
    {
     "name": "stdout",
     "output_type": "stream",
     "text": [
      "954.1415382623672\n",
      "[('the', 52)]\n",
      "[('the', 52)]\n",
      "[('incapacitating', 99)]\n",
      "951.0971856117249\n",
      "[('the', 52)]\n",
      "[('the', 52)]\n",
      "[('incapacitating', 99)]\n"
     ]
    },
    {
     "name": "stderr",
     "output_type": "stream",
     "text": [
      " 48%|████▊     | 265/550 [00:41<00:42,  6.71it/s]"
     ]
    },
    {
     "name": "stdout",
     "output_type": "stream",
     "text": [
      "948.0611652135849\n",
      "[('the', 52)]\n",
      "[('the', 52)]\n",
      "[('incapacitating', 99)]\n",
      "945.0326237678528\n",
      "[('the', 52)]\n",
      "[('the', 52)]\n",
      "[('incapacitating', 99)]\n"
     ]
    },
    {
     "name": "stderr",
     "output_type": "stream",
     "text": [
      " 49%|████▊     | 267/550 [00:41<00:41,  6.81it/s]"
     ]
    },
    {
     "name": "stdout",
     "output_type": "stream",
     "text": [
      "942.0133680105209\n",
      "[('the', 52)]\n",
      "[('the', 52)]\n",
      "[('incapacitating', 99)]\n",
      "939.002260684967\n",
      "[('the', 52)]\n",
      "[('the', 52)]\n",
      "[('incapacitating', 99)]\n"
     ]
    },
    {
     "name": "stderr",
     "output_type": "stream",
     "text": [
      " 49%|████▉     | 269/550 [00:41<00:47,  5.87it/s]"
     ]
    },
    {
     "name": "stdout",
     "output_type": "stream",
     "text": [
      "936.0005006790161\n",
      "[('and', 72)]\n",
      "[('the', 52)]\n",
      "[('incapacitating', 99)]\n",
      "933.0064669847488\n",
      "[('and', 72)]\n",
      "[('the', 52)]\n",
      "[('incapacitating', 99)]\n"
     ]
    },
    {
     "name": "stderr",
     "output_type": "stream",
     "text": [
      " 49%|████▉     | 271/550 [00:42<00:47,  5.84it/s]"
     ]
    },
    {
     "name": "stdout",
     "output_type": "stream",
     "text": [
      "930.0228099822998\n",
      "[('and', 72)]\n",
      "[('the', 52)]\n",
      "[('incapacitating', 99)]\n",
      "927.0469795465469\n",
      "[('and', 72)]\n",
      "[('the', 52)]\n",
      "[('incapacitating', 99)]\n"
     ]
    },
    {
     "name": "stderr",
     "output_type": "stream",
     "text": [
      " 50%|████▉     | 273/550 [00:42<00:44,  6.20it/s]"
     ]
    },
    {
     "name": "stdout",
     "output_type": "stream",
     "text": [
      "924.0812432765961\n",
      "[('and', 72)]\n",
      "[('the', 52)]\n",
      "[('incapacitating', 99)]\n",
      "921.1245548725128\n",
      "[('and', 72)]\n",
      "[('the', 52)]\n",
      "[('incapacitating', 99)]\n"
     ]
    },
    {
     "name": "stderr",
     "output_type": "stream",
     "text": [
      " 50%|█████     | 275/550 [00:42<00:42,  6.50it/s]"
     ]
    },
    {
     "name": "stdout",
     "output_type": "stream",
     "text": [
      "918.1770616769791\n",
      "[('and', 72)]\n",
      "[('the', 52)]\n",
      "[('incapacitating', 99)]\n",
      "915.2394926548004\n",
      "[('and', 72)]\n",
      "[('the', 52)]\n",
      "[('incapacitating', 99)]\n"
     ]
    },
    {
     "name": "stderr",
     "output_type": "stream",
     "text": [
      " 50%|█████     | 277/550 [00:43<00:40,  6.67it/s]"
     ]
    },
    {
     "name": "stdout",
     "output_type": "stream",
     "text": [
      "912.3113919496536\n",
      "[('and', 72)]\n",
      "[('the', 52)]\n",
      "[('incapacitating', 99)]\n",
      "909.3938310146332\n",
      "[('and', 72)]\n",
      "[('the', 52)]\n",
      "[('incapacitating', 99)]\n"
     ]
    },
    {
     "name": "stderr",
     "output_type": "stream",
     "text": [
      " 51%|█████     | 279/550 [00:43<00:38,  6.97it/s]"
     ]
    },
    {
     "name": "stdout",
     "output_type": "stream",
     "text": [
      "906.4854768514633\n",
      "[('and', 72)]\n",
      "[('the', 52)]\n",
      "[('incapacitating', 99)]\n",
      "903.588051199913\n",
      "[('and', 72)]\n",
      "[('the', 52)]\n",
      "[('incapacitating', 99)]\n"
     ]
    },
    {
     "name": "stderr",
     "output_type": "stream",
     "text": [
      " 51%|█████     | 281/550 [00:43<00:38,  6.99it/s]"
     ]
    },
    {
     "name": "stdout",
     "output_type": "stream",
     "text": [
      "900.7003998756409\n",
      "[('and', 72)]\n",
      "[('the', 52)]\n",
      "[('incapacitating', 99)]\n",
      "897.8240625858307\n",
      "[('and', 72)]\n",
      "[('the', 52)]\n",
      "[('incapacitating', 99)]\n"
     ]
    },
    {
     "name": "stderr",
     "output_type": "stream",
     "text": [
      " 51%|█████▏    | 283/550 [00:43<00:38,  6.94it/s]"
     ]
    },
    {
     "name": "stdout",
     "output_type": "stream",
     "text": [
      "894.957386136055\n",
      "[('and', 72)]\n",
      "[('the', 52)]\n",
      "[('incapacitating', 99)]\n",
      "892.1021016836166\n",
      "[('and', 72)]\n",
      "[('the', 52)]\n",
      "[('incapacitating', 99)]\n"
     ]
    },
    {
     "name": "stderr",
     "output_type": "stream",
     "text": [
      " 52%|█████▏    | 285/550 [00:44<00:37,  6.98it/s]"
     ]
    },
    {
     "name": "stdout",
     "output_type": "stream",
     "text": [
      "889.257360458374\n",
      "[('and', 72)]\n",
      "[('the', 52)]\n",
      "[('incapacitating', 99)]\n",
      "886.4239337444305\n",
      "[('and', 72)]\n",
      "[('the', 52)]\n",
      "[('incapacitating', 99)]\n"
     ]
    },
    {
     "name": "stderr",
     "output_type": "stream",
     "text": [
      " 52%|█████▏    | 287/550 [00:44<00:37,  7.07it/s]"
     ]
    },
    {
     "name": "stdout",
     "output_type": "stream",
     "text": [
      "883.6004357337952\n",
      "[('and', 72)]\n",
      "[('the', 52)]\n",
      "[('incapacitating', 99)]\n",
      "880.7882484197617\n",
      "[('and', 72)]\n",
      "[('the', 52)]\n",
      "[('incapacitating', 99)]\n"
     ]
    },
    {
     "name": "stderr",
     "output_type": "stream",
     "text": [
      " 53%|█████▎    | 289/550 [00:44<00:37,  7.00it/s]"
     ]
    },
    {
     "name": "stdout",
     "output_type": "stream",
     "text": [
      "877.9875042438507\n",
      "[('and', 72)]\n",
      "[('the', 52)]\n",
      "[('incapacitating', 99)]\n",
      "875.1976933479309\n",
      "[('and', 72)]\n",
      "[('the', 52)]\n",
      "[('incapacitating', 99)]\n"
     ]
    },
    {
     "name": "stderr",
     "output_type": "stream",
     "text": [
      " 53%|█████▎    | 291/550 [00:44<00:36,  7.12it/s]"
     ]
    },
    {
     "name": "stdout",
     "output_type": "stream",
     "text": [
      "872.4197088479996\n",
      "[('and', 72)]\n",
      "[('the', 52)]\n",
      "[('incapacitating', 99)]\n",
      "869.6524646282196\n",
      "[('and', 72)]\n",
      "[('the', 52)]\n",
      "[('incapacitating', 99)]\n"
     ]
    },
    {
     "name": "stderr",
     "output_type": "stream",
     "text": [
      " 53%|█████▎    | 293/550 [00:45<00:36,  7.10it/s]"
     ]
    },
    {
     "name": "stdout",
     "output_type": "stream",
     "text": [
      "866.8971920013428\n",
      "[('and', 72)]\n",
      "[('the', 52)]\n",
      "[('incapacitating', 99)]\n",
      "864.1535412073135\n",
      "[('and', 72)]\n",
      "[('the', 52)]\n",
      "[('incapacitating', 99)]\n"
     ]
    },
    {
     "name": "stderr",
     "output_type": "stream",
     "text": [
      " 54%|█████▎    | 295/550 [00:45<00:35,  7.13it/s]"
     ]
    },
    {
     "name": "stdout",
     "output_type": "stream",
     "text": [
      "861.4216033220291\n",
      "[('and', 72)]\n",
      "[('the', 52)]\n",
      "[('incapacitating', 99)]\n",
      "858.7008357048035\n",
      "[('and', 72)]\n",
      "[('the', 52)]\n",
      "[('incapacitating', 99)]\n"
     ]
    },
    {
     "name": "stderr",
     "output_type": "stream",
     "text": [
      " 54%|█████▍    | 297/550 [00:45<00:36,  6.99it/s]"
     ]
    },
    {
     "name": "stdout",
     "output_type": "stream",
     "text": [
      "855.9927396774292\n",
      "[('and', 72)]\n",
      "[('the', 52)]\n",
      "[('incapacitating', 99)]\n",
      "853.2959315776825\n",
      "[('and', 72)]\n",
      "[('the', 52)]\n",
      "[('incapacitating', 99)]\n"
     ]
    },
    {
     "name": "stderr",
     "output_type": "stream",
     "text": [
      " 54%|█████▍    | 299/550 [00:46<00:35,  7.01it/s]"
     ]
    },
    {
     "name": "stdout",
     "output_type": "stream",
     "text": [
      "850.6115024089813\n",
      "[('and', 72)]\n",
      "[('the', 52)]\n",
      "[('incapacitating', 99)]\n",
      "847.9383089542389\n",
      "[('and', 72)]\n",
      "[('the', 52)]\n",
      "[('incapacitating', 99)]\n"
     ]
    },
    {
     "name": "stderr",
     "output_type": "stream",
     "text": [
      " 55%|█████▍    | 301/550 [00:46<00:35,  7.04it/s]"
     ]
    },
    {
     "name": "stdout",
     "output_type": "stream",
     "text": [
      "845.2785329818726\n",
      "[('and', 72)]\n",
      "[('the', 52)]\n",
      "[('incapacitating', 99)]\n",
      "842.630205988884\n",
      "[('and', 72)]\n",
      "[('the', 52)]\n",
      "[('incapacitating', 99)]\n"
     ]
    },
    {
     "name": "stderr",
     "output_type": "stream",
     "text": [
      " 55%|█████▌    | 303/550 [00:46<00:35,  7.04it/s]"
     ]
    },
    {
     "name": "stdout",
     "output_type": "stream",
     "text": [
      "839.9934697151184\n",
      "[('and', 72)]\n",
      "[('the', 52)]\n",
      "[('incapacitating', 99)]\n",
      "837.3699741363525\n",
      "[('and', 72)]\n",
      "[('the', 52)]\n",
      "[('incapacitating', 99)]\n"
     ]
    },
    {
     "name": "stderr",
     "output_type": "stream",
     "text": [
      " 55%|█████▌    | 305/550 [00:46<00:34,  7.18it/s]"
     ]
    },
    {
     "name": "stdout",
     "output_type": "stream",
     "text": [
      "834.758637547493\n",
      "[('and', 72)]\n",
      "[('the', 52)]\n",
      "[('incapacitating', 99)]\n",
      "832.1589916944504\n",
      "[('and', 72)]\n",
      "[('the', 52)]\n",
      "[('incapacitating', 99)]\n"
     ]
    },
    {
     "name": "stderr",
     "output_type": "stream",
     "text": [
      " 56%|█████▌    | 307/550 [00:47<00:34,  7.14it/s]"
     ]
    },
    {
     "name": "stdout",
     "output_type": "stream",
     "text": [
      "829.5728355646133\n",
      "[('and', 72)]\n",
      "[('the', 52)]\n",
      "[('incapacitating', 99)]\n",
      "826.9981538057327\n",
      "[('and', 72)]\n",
      "[('the', 52)]\n",
      "[('incapacitating', 99)]\n"
     ]
    },
    {
     "name": "stderr",
     "output_type": "stream",
     "text": [
      " 56%|█████▌    | 309/550 [00:47<00:34,  7.04it/s]"
     ]
    },
    {
     "name": "stdout",
     "output_type": "stream",
     "text": [
      "824.4366513490677\n",
      "[('and', 72)]\n",
      "[('the', 52)]\n",
      "[('incapacitating', 99)]\n",
      "821.8879469633102\n",
      "[('and', 72)]\n",
      "[('the', 52)]\n",
      "[('incapacitating', 99)]\n"
     ]
    },
    {
     "name": "stderr",
     "output_type": "stream",
     "text": [
      " 57%|█████▋    | 311/550 [00:47<00:34,  7.01it/s]"
     ]
    },
    {
     "name": "stdout",
     "output_type": "stream",
     "text": [
      "819.3507199287415\n",
      "[('and', 72)]\n",
      "[('the', 52)]\n",
      "[('incapacitating', 99)]\n",
      "816.8269375562668\n",
      "[('and', 72)]\n",
      "[('the', 52)]\n",
      "[('incapacitating', 99)]\n"
     ]
    },
    {
     "name": "stderr",
     "output_type": "stream",
     "text": [
      " 57%|█████▋    | 313/550 [00:48<00:33,  7.15it/s]"
     ]
    },
    {
     "name": "stdout",
     "output_type": "stream",
     "text": [
      "814.3166589736938\n",
      "[('and', 72)]\n",
      "[('the', 52)]\n",
      "[('incapacitating', 99)]\n",
      "811.817804813385\n",
      "[('and', 72)]\n",
      "[('the', 52)]\n",
      "[('incapacitating', 99)]\n"
     ]
    },
    {
     "name": "stderr",
     "output_type": "stream",
     "text": [
      " 57%|█████▋    | 315/550 [00:48<00:33,  7.10it/s]"
     ]
    },
    {
     "name": "stdout",
     "output_type": "stream",
     "text": [
      "809.3315725326538\n",
      "[('and', 72)]\n",
      "[('the', 52)]\n",
      "[('incapacitating', 99)]\n",
      "806.8591940402985\n",
      "[('and', 72)]\n",
      "[('the', 52)]\n",
      "[('incapacitating', 99)]\n"
     ]
    },
    {
     "name": "stderr",
     "output_type": "stream",
     "text": [
      " 58%|█████▊    | 317/550 [00:48<00:32,  7.08it/s]"
     ]
    },
    {
     "name": "stdout",
     "output_type": "stream",
     "text": [
      "804.3987189531326\n",
      "[('and', 72)]\n",
      "[('the', 52)]\n",
      "[('incapacitating', 99)]\n",
      "801.950736284256\n",
      "[('and', 72)]\n",
      "[('the', 52)]\n",
      "[('incapacitating', 99)]\n"
     ]
    },
    {
     "name": "stderr",
     "output_type": "stream",
     "text": [
      " 58%|█████▊    | 319/550 [00:48<00:32,  7.15it/s]"
     ]
    },
    {
     "name": "stdout",
     "output_type": "stream",
     "text": [
      "799.5166847705841\n",
      "[('and', 72)]\n",
      "[('the', 52)]\n",
      "[('incapacitating', 99)]\n",
      "797.0936173200607\n",
      "[('and', 72)]\n",
      "[('the', 52)]\n",
      "[('incapacitating', 99)]\n"
     ]
    },
    {
     "name": "stderr",
     "output_type": "stream",
     "text": [
      " 58%|█████▊    | 321/550 [00:49<00:32,  7.09it/s]"
     ]
    },
    {
     "name": "stdout",
     "output_type": "stream",
     "text": [
      "794.6857299804688\n",
      "[('and', 72)]\n",
      "[('the', 52)]\n",
      "[('incapacitating', 99)]\n",
      "792.2891843318939\n",
      "[('and', 72)]\n",
      "[('the', 52)]\n",
      "[('incapacitating', 99)]\n"
     ]
    },
    {
     "name": "stderr",
     "output_type": "stream",
     "text": [
      " 59%|█████▊    | 323/550 [00:49<00:32,  7.07it/s]"
     ]
    },
    {
     "name": "stdout",
     "output_type": "stream",
     "text": [
      "789.9057468175888\n",
      "[('and', 72)]\n",
      "[('the', 52)]\n",
      "[('incapacitating', 99)]\n",
      "787.5358738899231\n",
      "[('and', 72)]\n",
      "[('the', 52)]\n",
      "[('incapacitating', 99)]\n"
     ]
    },
    {
     "name": "stderr",
     "output_type": "stream",
     "text": [
      " 59%|█████▉    | 325/550 [00:49<00:32,  6.91it/s]"
     ]
    },
    {
     "name": "stdout",
     "output_type": "stream",
     "text": [
      "785.1786305904388\n",
      "[('and', 72)]\n",
      "[('the', 52)]\n",
      "[('incapacitating', 99)]\n",
      "782.8331272602081\n",
      "[('and', 72)]\n",
      "[('the', 52)]\n",
      "[('incapacitating', 99)]\n"
     ]
    },
    {
     "name": "stderr",
     "output_type": "stream",
     "text": [
      " 59%|█████▉    | 327/550 [00:50<00:32,  6.86it/s]"
     ]
    },
    {
     "name": "stdout",
     "output_type": "stream",
     "text": [
      "780.5020844936371\n",
      "[('and', 72)]\n",
      "[('the', 52)]\n",
      "[('incapacitating', 99)]\n",
      "778.1823128461838\n",
      "[('and', 72)]\n",
      "[('the', 52)]\n",
      "[('incapacitating', 99)]\n"
     ]
    },
    {
     "name": "stderr",
     "output_type": "stream",
     "text": [
      " 60%|█████▉    | 329/550 [00:50<00:32,  6.81it/s]"
     ]
    },
    {
     "name": "stdout",
     "output_type": "stream",
     "text": [
      "775.8771107196808\n",
      "[('and', 72)]\n",
      "[('the', 52)]\n",
      "[('incapacitating', 99)]\n",
      "773.5834379196167\n",
      "[('and', 72)]\n",
      "[('the', 52)]\n",
      "[('incapacitating', 99)]\n"
     ]
    },
    {
     "name": "stderr",
     "output_type": "stream",
     "text": [
      " 60%|██████    | 331/550 [00:50<00:32,  6.80it/s]"
     ]
    },
    {
     "name": "stdout",
     "output_type": "stream",
     "text": [
      "771.3034296035767\n",
      "[('and', 72)]\n",
      "[('the', 52)]\n",
      "[('incapacitating', 99)]\n",
      "769.0363240242004\n",
      "[('and', 72)]\n",
      "[('the', 52)]\n",
      "[('incapacitating', 99)]\n"
     ]
    },
    {
     "name": "stderr",
     "output_type": "stream",
     "text": [
      " 61%|██████    | 333/550 [00:50<00:31,  6.98it/s]"
     ]
    },
    {
     "name": "stdout",
     "output_type": "stream",
     "text": [
      "766.7817597389221\n",
      "[('and', 72)]\n",
      "[('the', 52)]\n",
      "[('incapacitating', 99)]\n",
      "764.5400996208191\n",
      "[('and', 72)]\n",
      "[('the', 52)]\n",
      "[('incapacitating', 99)]\n"
     ]
    },
    {
     "name": "stderr",
     "output_type": "stream",
     "text": [
      " 61%|██████    | 335/550 [00:51<00:30,  7.10it/s]"
     ]
    },
    {
     "name": "stdout",
     "output_type": "stream",
     "text": [
      "762.3110058307648\n",
      "[('and', 72)]\n",
      "[('the', 52)]\n",
      "[('incapacitating', 99)]\n",
      "760.0952545404434\n",
      "[('and', 72)]\n",
      "[('the', 52)]\n",
      "[('incapacitating', 99)]\n"
     ]
    },
    {
     "name": "stderr",
     "output_type": "stream",
     "text": [
      " 61%|██████▏   | 337/550 [00:51<00:30,  6.93it/s]"
     ]
    },
    {
     "name": "stdout",
     "output_type": "stream",
     "text": [
      "757.8920810222626\n",
      "[('and', 72)]\n",
      "[('the', 52)]\n",
      "[('incapacitating', 99)]\n",
      "755.7019152641296\n",
      "[('and', 72)]\n",
      "[('the', 52)]\n",
      "[('incapacitating', 99)]\n"
     ]
    },
    {
     "name": "stderr",
     "output_type": "stream",
     "text": [
      " 62%|██████▏   | 339/550 [00:51<00:30,  6.87it/s]"
     ]
    },
    {
     "name": "stdout",
     "output_type": "stream",
     "text": [
      "753.5248070955276\n",
      "[('and', 72)]\n",
      "[('the', 52)]\n",
      "[('incapacitating', 99)]\n",
      "751.3604905605316\n",
      "[('and', 72)]\n",
      "[('the', 52)]\n",
      "[('incapacitating', 99)]\n"
     ]
    },
    {
     "name": "stderr",
     "output_type": "stream",
     "text": [
      " 62%|██████▏   | 341/550 [00:52<00:29,  6.98it/s]"
     ]
    },
    {
     "name": "stdout",
     "output_type": "stream",
     "text": [
      "749.2093490362167\n",
      "[('and', 72)]\n",
      "[('the', 52)]\n",
      "[('incapacitating', 99)]\n",
      "747.0706295967102\n",
      "[('and', 72)]\n",
      "[('the', 52)]\n",
      "[('incapacitating', 99)]\n"
     ]
    },
    {
     "name": "stderr",
     "output_type": "stream",
     "text": [
      " 62%|██████▏   | 343/550 [00:52<00:29,  6.97it/s]"
     ]
    },
    {
     "name": "stdout",
     "output_type": "stream",
     "text": [
      "744.9451512098312\n",
      "[('and', 72)]\n",
      "[('the', 52)]\n",
      "[('incapacitating', 99)]\n",
      "742.8320515155792\n",
      "[('and', 72)]\n",
      "[('the', 52)]\n",
      "[('incapacitating', 99)]\n"
     ]
    },
    {
     "name": "stderr",
     "output_type": "stream",
     "text": [
      " 63%|██████▎   | 345/550 [00:52<00:29,  6.95it/s]"
     ]
    },
    {
     "name": "stdout",
     "output_type": "stream",
     "text": [
      "740.732658624649\n",
      "[('and', 72)]\n",
      "[('the', 52)]\n",
      "[('incapacitating', 99)]\n",
      "738.6449104547501\n",
      "[('and', 72)]\n",
      "[('the', 52)]\n",
      "[('incapacitating', 99)]\n"
     ]
    },
    {
     "name": "stderr",
     "output_type": "stream",
     "text": [
      " 63%|██████▎   | 347/550 [00:52<00:28,  7.06it/s]"
     ]
    },
    {
     "name": "stdout",
     "output_type": "stream",
     "text": [
      "736.5710493326187\n",
      "[('and', 72)]\n",
      "[('the', 52)]\n",
      "[('incapacitating', 99)]\n",
      "734.5094714164734\n",
      "[('and', 72)]\n",
      "[('the', 52)]\n",
      "[('incapacitating', 99)]\n"
     ]
    },
    {
     "name": "stderr",
     "output_type": "stream",
     "text": [
      " 63%|██████▎   | 349/550 [00:53<00:28,  7.04it/s]"
     ]
    },
    {
     "name": "stdout",
     "output_type": "stream",
     "text": [
      "732.4602895975113\n",
      "[('and', 72)]\n",
      "[('the', 52)]\n",
      "[('incapacitating', 99)]\n",
      "730.424174785614\n",
      "[('and', 72)]\n",
      "[('the', 52)]\n",
      "[('incapacitating', 99)]\n"
     ]
    },
    {
     "name": "stderr",
     "output_type": "stream",
     "text": [
      " 64%|██████▎   | 350/550 [00:53<00:28,  6.91it/s]"
     ]
    },
    {
     "name": "stdout",
     "output_type": "stream",
     "text": [
      "728.4009503126144\n",
      "[('and', 72)]\n",
      "[('the', 52)]\n",
      "[('incapacitating', 99)]\n"
     ]
    },
    {
     "name": "stderr",
     "output_type": "stream",
     "text": [
      " 64%|██████▍   | 352/550 [00:53<00:35,  5.64it/s]"
     ]
    },
    {
     "name": "stdout",
     "output_type": "stream",
     "text": [
      "726.3898984193802\n",
      "[('and', 72)]\n",
      "[('the', 52)]\n",
      "[('incapacitating', 99)]\n",
      "724.3912817239761\n"
     ]
    },
    {
     "name": "stderr",
     "output_type": "stream",
     "text": [
      " 64%|██████▍   | 353/550 [00:54<00:35,  5.60it/s]"
     ]
    },
    {
     "name": "stdout",
     "output_type": "stream",
     "text": [
      "[('and', 72)]\n",
      "[('the', 52)]\n",
      "[('incapacitating', 99)]\n",
      "722.4066174030304\n",
      "[('and', 72)]\n",
      "[('the', 52)]\n",
      "[('incapacitating', 99)]\n"
     ]
    },
    {
     "name": "stderr",
     "output_type": "stream",
     "text": [
      " 65%|██████▍   | 355/550 [00:54<00:31,  6.23it/s]"
     ]
    },
    {
     "name": "stdout",
     "output_type": "stream",
     "text": [
      "720.4338935613632\n",
      "[('and', 72)]\n",
      "[('the', 52)]\n",
      "[('incapacitating', 99)]\n",
      "718.4731075763702\n",
      "[('and', 72)]\n",
      "[('the', 52)]\n",
      "[('incapacitating', 99)]\n"
     ]
    },
    {
     "name": "stderr",
     "output_type": "stream",
     "text": [
      " 65%|██████▍   | 357/550 [00:54<00:31,  6.17it/s]"
     ]
    },
    {
     "name": "stdout",
     "output_type": "stream",
     "text": [
      "716.525940656662\n",
      "[('and', 72)]\n",
      "[('the', 52)]\n",
      "[('incapacitating', 99)]\n",
      "714.5905343294144\n",
      "[('and', 72)]\n",
      "[('the', 52)]\n",
      "[('incapacitating', 99)]\n"
     ]
    },
    {
     "name": "stderr",
     "output_type": "stream",
     "text": [
      " 65%|██████▌   | 359/550 [00:55<00:33,  5.62it/s]"
     ]
    },
    {
     "name": "stdout",
     "output_type": "stream",
     "text": [
      "712.6671501398087\n",
      "[('and', 72)]\n",
      "[('the', 52)]\n",
      "[('incapacitating', 99)]\n",
      "710.7568126916885\n",
      "[('and', 72)]\n",
      "[('the', 52)]\n",
      "[('incapacitating', 99)]\n"
     ]
    },
    {
     "name": "stderr",
     "output_type": "stream",
     "text": [
      " 65%|██████▌   | 360/550 [00:55<00:33,  5.61it/s]"
     ]
    },
    {
     "name": "stdout",
     "output_type": "stream",
     "text": [
      "708.8590079545975\n",
      "[('and', 72)]\n",
      "[('the', 52)]\n",
      "[('incapacitating', 99)]\n",
      "706.9727209806442"
     ]
    },
    {
     "name": "stderr",
     "output_type": "stream",
     "text": [
      " 66%|██████▌   | 362/550 [00:55<00:33,  5.55it/s]"
     ]
    },
    {
     "name": "stdout",
     "output_type": "stream",
     "text": [
      "\n",
      "[('and', 72)]\n",
      "[('the', 52)]\n",
      "[('incapacitating', 99)]\n",
      "705.098895907402\n",
      "[('and', 72)]\n",
      "[('the', 52)]\n",
      "[('incapacitating', 99)]\n"
     ]
    },
    {
     "name": "stderr",
     "output_type": "stream",
     "text": [
      " 66%|██████▌   | 364/550 [00:55<00:32,  5.80it/s]"
     ]
    },
    {
     "name": "stdout",
     "output_type": "stream",
     "text": [
      "703.2380063533783\n",
      "[('and', 72)]\n",
      "[('the', 52)]\n",
      "[('incapacitating', 99)]\n",
      "701.3889532089233\n",
      "[('and', 72)]\n",
      "[('the', 52)]\n",
      "[('incapacitating', 99)]\n"
     ]
    },
    {
     "name": "stderr",
     "output_type": "stream",
     "text": [
      " 67%|██████▋   | 366/550 [00:56<00:29,  6.31it/s]"
     ]
    },
    {
     "name": "stdout",
     "output_type": "stream",
     "text": [
      "699.5524461269379\n",
      "[('and', 72)]\n",
      "[('the', 52)]\n",
      "[('incapacitating', 99)]\n",
      "697.7272391319275\n",
      "[('and', 72)]\n",
      "[('physically', 117)]\n",
      "[('incapacitating', 99)]\n"
     ]
    },
    {
     "name": "stderr",
     "output_type": "stream",
     "text": [
      " 67%|██████▋   | 368/550 [00:56<00:28,  6.41it/s]"
     ]
    },
    {
     "name": "stdout",
     "output_type": "stream",
     "text": [
      "695.9145603179932\n",
      "[('and', 72)]\n",
      "[('physically', 117)]\n",
      "[('incapacitating', 99)]\n",
      "694.1142883300781\n",
      "[('and', 72)]\n",
      "[('physically', 117)]\n",
      "[('incapacitating', 99)]\n"
     ]
    },
    {
     "name": "stderr",
     "output_type": "stream",
     "text": [
      " 67%|██████▋   | 370/550 [00:56<00:28,  6.36it/s]"
     ]
    },
    {
     "name": "stdout",
     "output_type": "stream",
     "text": [
      "692.3251442909241\n",
      "[('and', 72)]\n",
      "[('physically', 117)]\n",
      "[('incapacitating', 99)]\n",
      "690.5489239692688\n",
      "[('and', 72)]\n",
      "[('physically', 117)]\n",
      "[('incapacitating', 99)]\n"
     ]
    },
    {
     "name": "stderr",
     "output_type": "stream",
     "text": [
      " 68%|██████▊   | 372/550 [00:57<00:27,  6.41it/s]"
     ]
    },
    {
     "name": "stdout",
     "output_type": "stream",
     "text": [
      "688.7842667102814\n",
      "[('and', 72)]\n",
      "[('physically', 117)]\n",
      "[('incapacitating', 99)]\n",
      "687.0311360359192\n",
      "[('and', 72)]\n",
      "[('physically', 117)]\n",
      "[('incapacitating', 99)]\n"
     ]
    },
    {
     "name": "stderr",
     "output_type": "stream",
     "text": [
      " 68%|██████▊   | 373/550 [00:57<00:27,  6.34it/s]"
     ]
    },
    {
     "name": "stdout",
     "output_type": "stream",
     "text": [
      "685.2902809381485\n",
      "[('and', 72)]\n",
      "[('physically', 117)]\n",
      "[('incapacitating', 99)]\n"
     ]
    },
    {
     "name": "stderr",
     "output_type": "stream",
     "text": [
      " 68%|██████▊   | 375/550 [00:57<00:29,  6.02it/s]"
     ]
    },
    {
     "name": "stdout",
     "output_type": "stream",
     "text": [
      "683.5610595941544\n",
      "[('and', 72)]\n",
      "[('physically', 117)]\n",
      "[('incapacitating', 99)]\n",
      "681.8442822694778\n",
      "[('and', 72)]\n",
      "[('physically', 117)]\n",
      "[('incapacitating', 99)]\n"
     ]
    },
    {
     "name": "stderr",
     "output_type": "stream",
     "text": [
      " 69%|██████▊   | 377/550 [00:57<00:27,  6.39it/s]"
     ]
    },
    {
     "name": "stdout",
     "output_type": "stream",
     "text": [
      "680.1383368968964\n",
      "[('and', 72)]\n",
      "[('physically', 117)]\n",
      "[('incapacitating', 99)]\n",
      "678.4439444541931\n",
      "[('and', 72)]\n",
      "[('physically', 117)]\n",
      "[('incapacitating', 99)]\n"
     ]
    },
    {
     "name": "stderr",
     "output_type": "stream",
     "text": [
      " 69%|██████▉   | 379/550 [00:58<00:26,  6.40it/s]"
     ]
    },
    {
     "name": "stdout",
     "output_type": "stream",
     "text": [
      "676.7620364427567\n",
      "[('and', 72)]\n",
      "[('physically', 117)]\n",
      "[('incapacitating', 99)]\n",
      "675.0908061265945\n",
      "[('and', 72)]\n",
      "[('physically', 117)]\n",
      "[('incapacitating', 99)]\n"
     ]
    },
    {
     "name": "stderr",
     "output_type": "stream",
     "text": [
      " 69%|██████▉   | 381/550 [00:58<00:25,  6.64it/s]"
     ]
    },
    {
     "name": "stdout",
     "output_type": "stream",
     "text": [
      "673.4320158958435\n",
      "[('and', 72)]\n",
      "[('physically', 117)]\n",
      "[('incapacitating', 99)]\n",
      "671.7836563587189\n",
      "[('and', 72)]\n",
      "[('physically', 117)]\n",
      "[('incapacitating', 99)]\n"
     ]
    },
    {
     "name": "stderr",
     "output_type": "stream",
     "text": [
      " 70%|██████▉   | 383/550 [00:58<00:24,  6.77it/s]"
     ]
    },
    {
     "name": "stdout",
     "output_type": "stream",
     "text": [
      "670.1472256183624\n",
      "[('and', 72)]\n",
      "[('physically', 117)]\n",
      "[('incapacitating', 99)]\n",
      "668.521935582161\n",
      "[('and', 72)]\n",
      "[('physically', 117)]\n",
      "[('incapacitating', 99)]\n"
     ]
    },
    {
     "name": "stderr",
     "output_type": "stream",
     "text": [
      " 70%|███████   | 385/550 [00:59<00:24,  6.81it/s]"
     ]
    },
    {
     "name": "stdout",
     "output_type": "stream",
     "text": [
      "666.9079716205597\n",
      "[('and', 72)]\n",
      "[('physically', 117)]\n",
      "[('incapacitating', 99)]\n",
      "665.3047624826431\n",
      "[('and', 72)]\n",
      "[('physically', 117)]\n",
      "[('incapacitating', 99)]\n"
     ]
    },
    {
     "name": "stderr",
     "output_type": "stream",
     "text": [
      " 70%|███████   | 387/550 [00:59<00:23,  6.84it/s]"
     ]
    },
    {
     "name": "stdout",
     "output_type": "stream",
     "text": [
      "663.7134983539581\n",
      "[('and', 72)]\n",
      "[('physically', 117)]\n",
      "[('incapacitating', 99)]\n",
      "662.1331835985184\n",
      "[('and', 72)]\n",
      "[('physically', 117)]\n",
      "[('incapacitating', 99)]\n"
     ]
    },
    {
     "name": "stderr",
     "output_type": "stream",
     "text": [
      " 71%|███████   | 389/550 [00:59<00:24,  6.70it/s]"
     ]
    },
    {
     "name": "stdout",
     "output_type": "stream",
     "text": [
      "660.5629373788834\n",
      "[('and', 72)]\n",
      "[('physically', 117)]\n",
      "[('incapacitating', 99)]\n",
      "659.0052958726883\n",
      "[('and', 72)]\n",
      "[('physically', 117)]\n",
      "[('incapacitating', 99)]\n"
     ]
    },
    {
     "name": "stderr",
     "output_type": "stream",
     "text": [
      " 71%|███████   | 391/550 [01:00<00:23,  6.64it/s]"
     ]
    },
    {
     "name": "stdout",
     "output_type": "stream",
     "text": [
      "657.4581421613693\n",
      "[('and', 72)]\n",
      "[('physically', 117)]\n",
      "[('incapacitating', 99)]\n",
      "655.9217804670334\n",
      "[('and', 72)]\n",
      "[('physically', 117)]\n",
      "[('incapacitating', 99)]\n"
     ]
    },
    {
     "name": "stderr",
     "output_type": "stream",
     "text": [
      " 71%|███████▏  | 393/550 [01:00<00:23,  6.55it/s]"
     ]
    },
    {
     "name": "stdout",
     "output_type": "stream",
     "text": [
      "654.3964192867279\n",
      "[('and', 72)]\n",
      "[('physically', 117)]\n",
      "[('incapacitating', 99)]\n",
      "652.8819068670273\n",
      "[('and', 72)]\n",
      "[('physically', 117)]\n",
      "[('incapacitating', 99)]\n"
     ]
    },
    {
     "name": "stderr",
     "output_type": "stream",
     "text": [
      " 72%|███████▏  | 395/550 [01:00<00:23,  6.65it/s]"
     ]
    },
    {
     "name": "stdout",
     "output_type": "stream",
     "text": [
      "651.3780117034912\n",
      "[('and', 72)]\n",
      "[('physically', 117)]\n",
      "[('incapacitating', 99)]\n",
      "649.8845418691635\n",
      "[('and', 72)]\n",
      "[('physically', 117)]\n",
      "[('incapacitating', 99)]\n"
     ]
    },
    {
     "name": "stderr",
     "output_type": "stream",
     "text": [
      " 72%|███████▏  | 397/550 [01:00<00:22,  6.82it/s]"
     ]
    },
    {
     "name": "stdout",
     "output_type": "stream",
     "text": [
      "648.4024288654327\n",
      "[('and', 72)]\n",
      "[('physically', 117)]\n",
      "[('incapacitating', 99)]\n",
      "646.9306361675262\n",
      "[('and', 72)]\n",
      "[('physically', 117)]\n",
      "[('incapacitating', 99)]\n"
     ]
    },
    {
     "name": "stderr",
     "output_type": "stream",
     "text": [
      " 73%|███████▎  | 399/550 [01:01<00:21,  6.94it/s]"
     ]
    },
    {
     "name": "stdout",
     "output_type": "stream",
     "text": [
      "645.4690110683441\n",
      "[('and', 72)]\n",
      "[('physically', 117)]\n",
      "[('incapacitating', 99)]\n",
      "644.0190873146057\n",
      "[('and', 72)]\n",
      "[('physically', 117)]\n",
      "[('incapacitating', 99)]\n"
     ]
    },
    {
     "name": "stderr",
     "output_type": "stream",
     "text": [
      " 73%|███████▎  | 401/550 [01:01<00:21,  6.86it/s]"
     ]
    },
    {
     "name": "stdout",
     "output_type": "stream",
     "text": [
      "642.5783659219742\n",
      "[('and', 72)]\n",
      "[('physically', 117)]\n",
      "[('incapacitating', 99)]\n",
      "641.1485004425049\n",
      "[('and', 72)]\n",
      "[('physically', 117)]\n",
      "[('incapacitating', 99)]\n"
     ]
    },
    {
     "name": "stderr",
     "output_type": "stream",
     "text": [
      " 73%|███████▎  | 403/550 [01:01<00:21,  6.74it/s]"
     ]
    },
    {
     "name": "stdout",
     "output_type": "stream",
     "text": [
      "639.7285876274109\n",
      "[('and', 72)]\n",
      "[('physically', 117)]\n",
      "[('incapacitating', 99)]\n",
      "638.3194197416306\n",
      "[('and', 72)]\n",
      "[('physically', 117)]\n",
      "[('incapacitating', 99)]\n"
     ]
    },
    {
     "name": "stderr",
     "output_type": "stream",
     "text": [
      " 74%|███████▎  | 405/550 [01:02<00:21,  6.85it/s]"
     ]
    },
    {
     "name": "stdout",
     "output_type": "stream",
     "text": [
      "636.9204080104828\n",
      "[('and', 72)]\n",
      "[('physically', 117)]\n",
      "[('incapacitating', 99)]\n",
      "635.5313402414322\n",
      "[('and', 72)]\n",
      "[('physically', 117)]\n",
      "[('incapacitating', 99)]\n"
     ]
    },
    {
     "name": "stderr",
     "output_type": "stream",
     "text": [
      " 74%|███████▍  | 407/550 [01:02<00:20,  6.85it/s]"
     ]
    },
    {
     "name": "stdout",
     "output_type": "stream",
     "text": [
      "634.1521450281143\n",
      "[('and', 72)]\n",
      "[('physically', 117)]\n",
      "[('incapacitating', 99)]\n",
      "632.7836817502975\n",
      "[('and', 72)]\n",
      "[('physically', 117)]\n",
      "[('incapacitating', 99)]\n"
     ]
    },
    {
     "name": "stderr",
     "output_type": "stream",
     "text": [
      " 74%|███████▍  | 409/550 [01:02<00:20,  6.73it/s]"
     ]
    },
    {
     "name": "stdout",
     "output_type": "stream",
     "text": [
      "631.4249709844589\n",
      "[('and', 72)]\n",
      "[('physically', 117)]\n",
      "[('incapacitating', 99)]\n",
      "630.0756841897964\n",
      "[('and', 72)]\n",
      "[('physically', 117)]\n",
      "[('incapacitating', 99)]\n"
     ]
    },
    {
     "name": "stderr",
     "output_type": "stream",
     "text": [
      " 75%|███████▍  | 411/550 [01:03<00:20,  6.73it/s]"
     ]
    },
    {
     "name": "stdout",
     "output_type": "stream",
     "text": [
      "628.7363541126251\n",
      "[('and', 72)]\n",
      "[('physically', 117)]\n",
      "[('incapacitating', 99)]\n",
      "627.4067984819412\n",
      "[('and', 72)]\n",
      "[('physically', 117)]\n",
      "[('incapacitating', 99)]\n"
     ]
    },
    {
     "name": "stderr",
     "output_type": "stream",
     "text": [
      " 75%|███████▌  | 413/550 [01:03<00:20,  6.56it/s]"
     ]
    },
    {
     "name": "stdout",
     "output_type": "stream",
     "text": [
      "626.0865604877472\n",
      "[('and', 72)]\n",
      "[('physically', 117)]\n",
      "[('incapacitating', 99)]\n",
      "624.7767890691757\n",
      "[('and', 72)]\n",
      "[('physically', 117)]\n",
      "[('incapacitating', 99)]\n"
     ]
    },
    {
     "name": "stderr",
     "output_type": "stream",
     "text": [
      " 75%|███████▌  | 415/550 [01:03<00:20,  6.50it/s]"
     ]
    },
    {
     "name": "stdout",
     "output_type": "stream",
     "text": [
      "623.4757264852524\n",
      "[('and', 72)]\n",
      "[('physically', 117)]\n",
      "[('incapacitating', 99)]\n",
      "622.1849358081818\n",
      "[('and', 72)]\n",
      "[('physically', 117)]\n",
      "[('incapacitating', 99)]\n"
     ]
    },
    {
     "name": "stderr",
     "output_type": "stream",
     "text": [
      " 76%|███████▌  | 417/550 [01:03<00:20,  6.64it/s]"
     ]
    },
    {
     "name": "stdout",
     "output_type": "stream",
     "text": [
      "620.9028817415237\n",
      "[('and', 72)]\n",
      "[('physically', 117)]\n",
      "[('incapacitating', 99)]\n",
      "619.6303602457047\n",
      "[('and', 72)]\n",
      "[('physically', 117)]\n",
      "[('incapacitating', 99)]\n"
     ]
    },
    {
     "name": "stderr",
     "output_type": "stream",
     "text": [
      " 76%|███████▌  | 419/550 [01:04<00:18,  6.90it/s]"
     ]
    },
    {
     "name": "stdout",
     "output_type": "stream",
     "text": [
      "618.3672125339508\n",
      "[('and', 72)]\n",
      "[('physically', 117)]\n",
      "[('incapacitating', 99)]\n",
      "617.1139044761658\n",
      "[('and', 72)]\n",
      "[('physically', 117)]\n",
      "[('incapacitating', 99)]\n"
     ]
    },
    {
     "name": "stderr",
     "output_type": "stream",
     "text": [
      " 77%|███████▋  | 421/550 [01:04<00:18,  6.84it/s]"
     ]
    },
    {
     "name": "stdout",
     "output_type": "stream",
     "text": [
      "615.8691692352295\n",
      "[('and', 72)]\n",
      "[('physically', 117)]\n",
      "[('incapacitating', 99)]\n",
      "614.6334683895111\n",
      "[('and', 72)]\n",
      "[('physically', 117)]\n",
      "[('incapacitating', 99)]\n"
     ]
    },
    {
     "name": "stderr",
     "output_type": "stream",
     "text": [
      " 77%|███████▋  | 423/550 [01:04<00:18,  6.75it/s]"
     ]
    },
    {
     "name": "stdout",
     "output_type": "stream",
     "text": [
      "613.4061009883881\n",
      "[('and', 72)]\n",
      "[('physically', 117)]\n",
      "[('incapacitating', 99)]\n",
      "612.1895070075989\n",
      "[('and', 72)]\n",
      "[('physically', 117)]\n",
      "[('incapacitating', 99)]\n"
     ]
    },
    {
     "name": "stderr",
     "output_type": "stream",
     "text": [
      " 77%|███████▋  | 425/550 [01:05<00:18,  6.92it/s]"
     ]
    },
    {
     "name": "stdout",
     "output_type": "stream",
     "text": [
      "610.9807115793228\n",
      "[('and', 72)]\n",
      "[('physically', 117)]\n",
      "[('incapacitating', 99)]\n",
      "609.781071305275\n",
      "[('and', 72)]\n",
      "[('physically', 117)]\n",
      "[('incapacitating', 99)]\n"
     ]
    },
    {
     "name": "stderr",
     "output_type": "stream",
     "text": [
      " 78%|███████▊  | 427/550 [01:05<00:18,  6.83it/s]"
     ]
    },
    {
     "name": "stdout",
     "output_type": "stream",
     "text": [
      "608.589871764183\n",
      "[('and', 72)]\n",
      "[('physically', 117)]\n",
      "[('incapacitating', 99)]\n",
      "607.4081125259399\n",
      "[('and', 72)]\n",
      "[('physically', 117)]\n",
      "[('incapacitating', 99)]\n"
     ]
    },
    {
     "name": "stderr",
     "output_type": "stream",
     "text": [
      " 78%|███████▊  | 429/550 [01:05<00:17,  6.85it/s]"
     ]
    },
    {
     "name": "stdout",
     "output_type": "stream",
     "text": [
      "606.234745144844\n",
      "[('and', 72)]\n",
      "[('physically', 117)]\n",
      "[('incapacitating', 99)]\n",
      "605.0703904628754\n",
      "[('and', 72)]\n",
      "[('physically', 117)]\n",
      "[('incapacitating', 99)]\n"
     ]
    },
    {
     "name": "stderr",
     "output_type": "stream",
     "text": [
      " 78%|███████▊  | 431/550 [01:05<00:17,  6.88it/s]"
     ]
    },
    {
     "name": "stdout",
     "output_type": "stream",
     "text": [
      "603.9144976139069\n",
      "[('and', 72)]\n",
      "[('physically', 117)]\n",
      "[('incapacitating', 99)]\n",
      "602.7668462991714\n",
      "[('and', 72)]\n",
      "[('physically', 117)]\n",
      "[('incapacitating', 99)]\n"
     ]
    },
    {
     "name": "stderr",
     "output_type": "stream",
     "text": [
      " 79%|███████▊  | 433/550 [01:06<00:16,  6.91it/s]"
     ]
    },
    {
     "name": "stdout",
     "output_type": "stream",
     "text": [
      "601.6283240318298\n",
      "[('and', 72)]\n",
      "[('physically', 117)]\n",
      "[('incapacitating', 99)]\n",
      "600.4983534812927\n",
      "[('and', 72)]\n",
      "[('physically', 117)]\n",
      "[('incapacitating', 99)]\n"
     ]
    },
    {
     "name": "stderr",
     "output_type": "stream",
     "text": [
      " 79%|███████▉  | 435/550 [01:06<00:16,  6.81it/s]"
     ]
    },
    {
     "name": "stdout",
     "output_type": "stream",
     "text": [
      "599.3757685422897\n",
      "[('and', 72)]\n",
      "[('physically', 117)]\n",
      "[('incapacitating', 99)]\n",
      "598.2625678777695\n",
      "[('and', 72)]\n",
      "[('physically', 117)]\n",
      "[('incapacitating', 99)]\n"
     ]
    },
    {
     "name": "stderr",
     "output_type": "stream",
     "text": [
      " 79%|███████▉  | 437/550 [01:06<00:16,  6.85it/s]"
     ]
    },
    {
     "name": "stdout",
     "output_type": "stream",
     "text": [
      "597.1567205190659\n",
      "[('and', 72)]\n",
      "[('physically', 117)]\n",
      "[('incapacitating', 99)]\n",
      "596.0596944093704\n",
      "[('and', 72)]\n",
      "[('physically', 117)]\n",
      "[('incapacitating', 99)]\n"
     ]
    },
    {
     "name": "stderr",
     "output_type": "stream",
     "text": [
      " 80%|███████▉  | 439/550 [01:07<00:15,  6.98it/s]"
     ]
    },
    {
     "name": "stdout",
     "output_type": "stream",
     "text": [
      "594.9707325696945\n",
      "[('and', 72)]\n",
      "[('physically', 117)]\n",
      "[('incapacitating', 99)]\n",
      "593.8889062404633\n",
      "[('and', 72)]\n",
      "[('physically', 117)]\n",
      "[('incapacitating', 99)]\n"
     ]
    },
    {
     "name": "stderr",
     "output_type": "stream",
     "text": [
      " 80%|████████  | 441/550 [01:07<00:16,  6.80it/s]"
     ]
    },
    {
     "name": "stdout",
     "output_type": "stream",
     "text": [
      "592.8159468173981\n",
      "[('and', 72)]\n",
      "[('physically', 117)]\n",
      "[('incapacitating', 99)]\n",
      "591.7507079839706\n",
      "[('and', 72)]\n",
      "[('physically', 117)]\n",
      "[('incapacitating', 99)]\n"
     ]
    },
    {
     "name": "stderr",
     "output_type": "stream",
     "text": [
      " 81%|████████  | 443/550 [01:07<00:15,  6.85it/s]"
     ]
    },
    {
     "name": "stdout",
     "output_type": "stream",
     "text": [
      "590.6940674781799\n",
      "[('and', 72)]\n",
      "[('physically', 117)]\n",
      "[('incapacitating', 99)]\n",
      "589.6443804502487\n",
      "[('and', 72)]\n",
      "[('physically', 117)]\n",
      "[('incapacitating', 99)]\n"
     ]
    },
    {
     "name": "stderr",
     "output_type": "stream",
     "text": [
      " 81%|████████  | 445/550 [01:08<00:15,  6.75it/s]"
     ]
    },
    {
     "name": "stdout",
     "output_type": "stream",
     "text": [
      "588.6023218631744\n",
      "[('and', 72)]\n",
      "[('physically', 117)]\n",
      "[('incapacitating', 99)]\n",
      "587.568776011467\n",
      "[('and', 72)]\n",
      "[('physically', 117)]\n",
      "[('incapacitating', 99)]\n"
     ]
    },
    {
     "name": "stderr",
     "output_type": "stream",
     "text": [
      " 81%|████████▏ | 447/550 [01:08<00:15,  6.70it/s]"
     ]
    },
    {
     "name": "stdout",
     "output_type": "stream",
     "text": [
      "586.5424958467484\n",
      "[('and', 72)]\n",
      "[('physically', 117)]\n",
      "[('incapacitating', 99)]\n",
      "585.5238879919052\n",
      "[('and', 72)]\n",
      "[('physically', 117)]\n",
      "[('incapacitating', 99)]\n"
     ]
    },
    {
     "name": "stderr",
     "output_type": "stream",
     "text": [
      " 82%|████████▏ | 449/550 [01:08<00:15,  6.54it/s]"
     ]
    },
    {
     "name": "stdout",
     "output_type": "stream",
     "text": [
      "584.5128515958786\n",
      "[('and', 72)]\n",
      "[('physically', 117)]\n",
      "[('incapacitating', 99)]\n",
      "583.5088541507721\n",
      "[('and', 72)]\n",
      "[('physically', 117)]\n",
      "[('incapacitating', 99)]\n"
     ]
    },
    {
     "name": "stderr",
     "output_type": "stream",
     "text": [
      " 82%|████████▏ | 450/550 [01:08<00:15,  6.40it/s]"
     ]
    },
    {
     "name": "stdout",
     "output_type": "stream",
     "text": [
      "582.5132029056549\n",
      "[('and', 72)]\n",
      "[('physically', 117)]\n",
      "[('incapacitating', 99)]\n"
     ]
    },
    {
     "name": "stderr",
     "output_type": "stream",
     "text": [
      " 82%|████████▏ | 452/550 [01:09<00:17,  5.56it/s]"
     ]
    },
    {
     "name": "stdout",
     "output_type": "stream",
     "text": [
      "581.5236324071884\n",
      "[('and', 72)]\n",
      "[('physically', 117)]\n",
      "[('incapacitating', 99)]\n",
      "580.5420346260071\n"
     ]
    },
    {
     "name": "stderr",
     "output_type": "stream",
     "text": [
      " 82%|████████▏ | 453/550 [01:09<00:17,  5.43it/s]"
     ]
    },
    {
     "name": "stdout",
     "output_type": "stream",
     "text": [
      "[('and', 72)]\n",
      "[('physically', 117)]\n",
      "[('incapacitating', 99)]\n",
      "579.5674570798874\n",
      "[('and', 72)]\n",
      "[('physically', 117)]\n",
      "[('incapacitating', 99)]\n"
     ]
    },
    {
     "name": "stderr",
     "output_type": "stream",
     "text": [
      " 83%|████████▎ | 455/550 [01:09<00:17,  5.29it/s]"
     ]
    },
    {
     "name": "stdout",
     "output_type": "stream",
     "text": [
      "578.6003143787384\n",
      "[('and', 72)]\n",
      "[('physically', 117)]\n",
      "[('incapacitating', 99)]\n",
      "577.6401453018188\n",
      "[('and', 72)]\n",
      "[('physically', 117)]\n",
      "[('incapacitating', 99)]\n"
     ]
    },
    {
     "name": "stderr",
     "output_type": "stream",
     "text": [
      " 83%|████████▎ | 457/550 [01:10<00:15,  6.02it/s]"
     ]
    },
    {
     "name": "stdout",
     "output_type": "stream",
     "text": [
      "576.687069773674\n",
      "[('and', 72)]\n",
      "[('physically', 117)]\n",
      "[('incapacitating', 99)]\n",
      "575.7407891750336\n",
      "[('and', 72)]\n",
      "[('physically', 117)]\n",
      "[('incapacitating', 99)]\n"
     ]
    },
    {
     "name": "stderr",
     "output_type": "stream",
     "text": [
      " 83%|████████▎ | 459/550 [01:10<00:15,  5.79it/s]"
     ]
    },
    {
     "name": "stdout",
     "output_type": "stream",
     "text": [
      "574.8021436929703\n",
      "[('and', 72)]\n",
      "[('physically', 117)]\n",
      "[('incapacitating', 99)]\n",
      "573.8697355985641\n",
      "[('and', 72)]\n",
      "[('physically', 117)]\n",
      "[('incapacitating', 99)]\n"
     ]
    },
    {
     "name": "stderr",
     "output_type": "stream",
     "text": [
      " 84%|████████▍ | 461/550 [01:10<00:16,  5.41it/s]"
     ]
    },
    {
     "name": "stdout",
     "output_type": "stream",
     "text": [
      "572.9449294805527\n",
      "[('and', 72)]\n",
      "[('physically', 117)]\n",
      "[('incapacitating', 99)]\n",
      "572.0258476734161\n",
      "[('and', 72)]\n",
      "[('physically', 117)]\n",
      "[('incapacitating', 99)]\n"
     ]
    },
    {
     "name": "stderr",
     "output_type": "stream",
     "text": [
      " 84%|████████▍ | 463/550 [01:11<00:16,  5.29it/s]"
     ]
    },
    {
     "name": "stdout",
     "output_type": "stream",
     "text": [
      "571.1147195100784\n",
      "[('and', 72)]\n",
      "[('physically', 117)]\n",
      "[('incapacitating', 99)]\n",
      "570.2091127634048\n",
      "[('and', 72)]\n",
      "[('physically', 117)]\n"
     ]
    },
    {
     "name": "stderr",
     "output_type": "stream",
     "text": [
      " 84%|████████▍ | 464/550 [01:11<00:16,  5.17it/s]"
     ]
    },
    {
     "name": "stdout",
     "output_type": "stream",
     "text": [
      "[('incapacitating', 99)]\n",
      "569.3108730316162\n",
      "[('and', 72)]\n",
      "[('physically', 117)]\n",
      "[('incapacitating', 99)]\n"
     ]
    },
    {
     "name": "stderr",
     "output_type": "stream",
     "text": [
      " 85%|████████▍ | 466/550 [01:11<00:17,  4.94it/s]"
     ]
    },
    {
     "name": "stdout",
     "output_type": "stream",
     "text": [
      "568.4188996553421\n",
      "[('and', 72)]\n",
      "[('physically', 117)]\n",
      "[('incapacitating', 99)]\n",
      "567.5337719917297\n",
      "[('and', 72)]\n",
      "[('physically', 117)]\n",
      "[('incapacitating', 99)]\n"
     ]
    },
    {
     "name": "stderr",
     "output_type": "stream",
     "text": [
      " 85%|████████▌ | 468/550 [01:12<00:14,  5.85it/s]"
     ]
    },
    {
     "name": "stdout",
     "output_type": "stream",
     "text": [
      "566.6547684669495\n",
      "[('and', 72)]\n",
      "[('physically', 117)]\n",
      "[('incapacitating', 99)]\n",
      "565.7824366092682\n",
      "[('and', 72)]\n",
      "[('physically', 117)]\n",
      "[('incapacitating', 99)]\n"
     ]
    },
    {
     "name": "stderr",
     "output_type": "stream",
     "text": [
      " 85%|████████▌ | 470/550 [01:12<00:12,  6.29it/s]"
     ]
    },
    {
     "name": "stdout",
     "output_type": "stream",
     "text": [
      "564.9165247678757\n",
      "[('and', 72)]\n",
      "[('physically', 117)]\n",
      "[('incapacitating', 99)]\n",
      "564.05663895607\n",
      "[('and', 72)]\n",
      "[('physically', 117)]\n",
      "[('incapacitating', 99)]\n"
     ]
    },
    {
     "name": "stderr",
     "output_type": "stream",
     "text": [
      " 86%|████████▌ | 472/550 [01:12<00:13,  5.79it/s]"
     ]
    },
    {
     "name": "stdout",
     "output_type": "stream",
     "text": [
      "563.2033805847168\n",
      "[('and', 72)]\n",
      "[('physically', 117)]\n",
      "[('incapacitating', 99)]\n",
      "562.3554997444153\n",
      "[('and', 72)]\n"
     ]
    },
    {
     "name": "stderr",
     "output_type": "stream",
     "text": [
      " 86%|████████▌ | 473/550 [01:12<00:13,  5.91it/s]"
     ]
    },
    {
     "name": "stdout",
     "output_type": "stream",
     "text": [
      "[('physically', 117)]\n",
      "[('incapacitating', 99)]\n",
      "561.5154467821121\n",
      "[('and', 72)]\n",
      "[('physically', 117)]\n",
      "[('incapacitating', 99)]\n"
     ]
    },
    {
     "name": "stderr",
     "output_type": "stream",
     "text": [
      " 86%|████████▋ | 475/550 [01:13<00:13,  5.60it/s]"
     ]
    },
    {
     "name": "stdout",
     "output_type": "stream",
     "text": [
      "560.6802703142166\n",
      "[('and', 72)]\n",
      "[('physically', 117)]\n",
      "[('incapacitating', 99)]\n",
      "559.8512769937515\n",
      "[('and', 72)]\n",
      "[('physically', 117)]\n",
      "[('incapacitating', 99)]\n"
     ]
    },
    {
     "name": "stderr",
     "output_type": "stream",
     "text": [
      " 87%|████████▋ | 477/550 [01:13<00:13,  5.28it/s]"
     ]
    },
    {
     "name": "stdout",
     "output_type": "stream",
     "text": [
      "559.028532743454\n",
      "[('and', 72)]\n",
      "[('physically', 117)]\n",
      "[('incapacitating', 99)]\n",
      "558.2116256952286\n"
     ]
    },
    {
     "name": "stderr",
     "output_type": "stream",
     "text": [
      " 87%|████████▋ | 478/550 [01:13<00:13,  5.26it/s]"
     ]
    },
    {
     "name": "stdout",
     "output_type": "stream",
     "text": [
      "[('and', 72)]\n",
      "[('physically', 117)]\n",
      "[('incapacitating', 99)]\n",
      "557.4009977579117\n",
      "[('and', 72)]\n",
      "[('physically', 117)]\n",
      "[('incapacitating', 99)]\n"
     ]
    },
    {
     "name": "stderr",
     "output_type": "stream",
     "text": [
      " 87%|████████▋ | 480/550 [01:14<00:11,  5.87it/s]"
     ]
    },
    {
     "name": "stdout",
     "output_type": "stream",
     "text": [
      "556.5958267450333\n",
      "[('and', 72)]\n",
      "[('physically', 117)]\n",
      "[('incapacitating', 99)]\n",
      "555.7967725992203\n",
      "[('and', 72)]\n",
      "[('physically', 117)]\n",
      "[('incapacitating', 99)]\n"
     ]
    },
    {
     "name": "stderr",
     "output_type": "stream",
     "text": [
      " 88%|████████▊ | 482/550 [01:14<00:10,  6.30it/s]"
     ]
    },
    {
     "name": "stdout",
     "output_type": "stream",
     "text": [
      "555.0032526254654\n",
      "[('and', 72)]\n",
      "[('physically', 117)]\n",
      "[('incapacitating', 99)]\n",
      "554.2155849933624\n",
      "[('and', 72)]\n",
      "[('physically', 117)]\n",
      "[('incapacitating', 99)]\n"
     ]
    },
    {
     "name": "stderr",
     "output_type": "stream",
     "text": [
      " 88%|████████▊ | 484/550 [01:14<00:10,  6.54it/s]"
     ]
    },
    {
     "name": "stdout",
     "output_type": "stream",
     "text": [
      "553.4335565567017\n",
      "[('and', 72)]\n",
      "[('physically', 117)]\n",
      "[('incapacitating', 99)]\n",
      "552.6573036909103\n",
      "[('and', 72)]\n",
      "[('physically', 117)]\n",
      "[('incapacitating', 99)]\n"
     ]
    },
    {
     "name": "stderr",
     "output_type": "stream",
     "text": [
      " 88%|████████▊ | 486/550 [01:15<00:09,  6.79it/s]"
     ]
    },
    {
     "name": "stdout",
     "output_type": "stream",
     "text": [
      "551.8867098093033\n",
      "[('and', 72)]\n",
      "[('physically', 117)]\n",
      "[('incapacitating', 99)]\n",
      "551.12113904953\n",
      "[('and', 72)]\n",
      "[('physically', 117)]\n",
      "[('incapacitating', 99)]\n"
     ]
    },
    {
     "name": "stderr",
     "output_type": "stream",
     "text": [
      " 89%|████████▊ | 488/550 [01:15<00:09,  6.85it/s]"
     ]
    },
    {
     "name": "stdout",
     "output_type": "stream",
     "text": [
      "550.3611527681351\n",
      "[('and', 72)]\n",
      "[('physically', 117)]\n",
      "[('incapacitating', 99)]\n",
      "549.6075353622437\n",
      "[('and', 72)]\n",
      "[('physically', 117)]\n",
      "[('incapacitating', 99)]\n"
     ]
    },
    {
     "name": "stderr",
     "output_type": "stream",
     "text": [
      " 89%|████████▉ | 490/550 [01:15<00:08,  6.72it/s]"
     ]
    },
    {
     "name": "stdout",
     "output_type": "stream",
     "text": [
      "548.858970284462\n",
      "[('and', 72)]\n",
      "[('physically', 117)]\n",
      "[('incapacitating', 99)]\n",
      "548.1152819395065\n",
      "[('and', 72)]\n",
      "[('physically', 117)]\n",
      "[('incapacitating', 99)]\n"
     ]
    },
    {
     "name": "stderr",
     "output_type": "stream",
     "text": [
      " 89%|████████▉ | 492/550 [01:16<00:08,  6.77it/s]"
     ]
    },
    {
     "name": "stdout",
     "output_type": "stream",
     "text": [
      "547.3773465156555\n",
      "[('and', 72)]\n",
      "[('physically', 117)]\n",
      "[('incapacitating', 99)]\n",
      "546.6443984508514\n",
      "[('and', 72)]\n",
      "[('physically', 117)]\n",
      "[('incapacitating', 99)]\n"
     ]
    },
    {
     "name": "stderr",
     "output_type": "stream",
     "text": [
      " 90%|████████▉ | 494/550 [01:16<00:08,  6.73it/s]"
     ]
    },
    {
     "name": "stdout",
     "output_type": "stream",
     "text": [
      "545.9171648025513\n",
      "[('and', 72)]\n",
      "[('physically', 117)]\n",
      "[('incapacitating', 99)]\n",
      "545.1948001384735\n",
      "[('and', 72)]\n",
      "[('physically', 117)]\n",
      "[('incapacitating', 99)]\n"
     ]
    },
    {
     "name": "stderr",
     "output_type": "stream",
     "text": [
      " 90%|█████████ | 496/550 [01:16<00:07,  6.78it/s]"
     ]
    },
    {
     "name": "stdout",
     "output_type": "stream",
     "text": [
      "544.4777244329453\n",
      "[('and', 72)]\n",
      "[('physically', 117)]\n",
      "[('incapacitating', 99)]\n",
      "543.7660948038101\n",
      "[('and', 72)]\n",
      "[('physically', 117)]\n",
      "[('incapacitating', 99)]\n"
     ]
    },
    {
     "name": "stderr",
     "output_type": "stream",
     "text": [
      " 91%|█████████ | 498/550 [01:16<00:07,  6.83it/s]"
     ]
    },
    {
     "name": "stdout",
     "output_type": "stream",
     "text": [
      "543.0588783025742\n",
      "[('and', 72)]\n",
      "[('physically', 117)]\n",
      "[('incapacitating', 99)]\n",
      "542.3570804595947\n",
      "[('and', 72)]\n",
      "[('physically', 117)]\n",
      "[('incapacitating', 99)]\n"
     ]
    },
    {
     "name": "stderr",
     "output_type": "stream",
     "text": [
      " 91%|█████████ | 500/550 [01:17<00:07,  6.84it/s]"
     ]
    },
    {
     "name": "stdout",
     "output_type": "stream",
     "text": [
      "541.6604877710342\n",
      "[('and', 72)]\n",
      "[('physically', 117)]\n",
      "[('incapacitating', 99)]\n",
      "540.96837413311\n",
      "[('and', 72)]\n",
      "[('physically', 117)]\n",
      "[('incapacitating', 99)]\n"
     ]
    },
    {
     "name": "stderr",
     "output_type": "stream",
     "text": [
      " 91%|█████████▏| 502/550 [01:17<00:07,  6.72it/s]"
     ]
    },
    {
     "name": "stdout",
     "output_type": "stream",
     "text": [
      "540.2812767028809\n",
      "[('and', 72)]\n",
      "[('physically', 117)]\n",
      "[('incapacitating', 99)]\n",
      "539.5992467403412\n",
      "[('and', 72)]\n",
      "[('physically', 117)]\n",
      "[('incapacitating', 99)]\n"
     ]
    },
    {
     "name": "stderr",
     "output_type": "stream",
     "text": [
      " 92%|█████████▏| 504/550 [01:17<00:06,  6.74it/s]"
     ]
    },
    {
     "name": "stdout",
     "output_type": "stream",
     "text": [
      "538.9219750165939\n",
      "[('and', 72)]\n",
      "[('physically', 117)]\n",
      "[('incapacitating', 99)]\n",
      "538.2496517896652\n",
      "[('and', 72)]\n",
      "[('physically', 117)]\n",
      "[('incapacitating', 99)]\n"
     ]
    },
    {
     "name": "stderr",
     "output_type": "stream",
     "text": [
      " 92%|█████████▏| 506/550 [01:18<00:06,  6.72it/s]"
     ]
    },
    {
     "name": "stdout",
     "output_type": "stream",
     "text": [
      "537.581468462944\n",
      "[('and', 72)]\n",
      "[('physically', 117)]\n",
      "[('incapacitating', 99)]\n",
      "536.9189164638519\n",
      "[('and', 72)]\n",
      "[('physically', 117)]\n",
      "[('incapacitating', 99)]\n"
     ]
    },
    {
     "name": "stderr",
     "output_type": "stream",
     "text": [
      " 92%|█████████▏| 507/550 [01:18<00:06,  6.28it/s]"
     ]
    },
    {
     "name": "stdout",
     "output_type": "stream",
     "text": [
      "536.259978890419\n",
      "[('and', 72)]\n",
      "[('physically', 117)]\n",
      "[('incapacitating', 99)]\n"
     ]
    },
    {
     "name": "stderr",
     "output_type": "stream",
     "text": [
      " 92%|█████████▏| 508/550 [01:18<00:07,  5.65it/s]"
     ]
    },
    {
     "name": "stdout",
     "output_type": "stream",
     "text": [
      "535.6070749759674\n",
      "[('and', 72)]\n",
      "[('physically', 117)]\n",
      "[('incapacitating', 99)]\n"
     ]
    },
    {
     "name": "stderr",
     "output_type": "stream",
     "text": [
      " 93%|█████████▎| 510/550 [01:18<00:07,  5.45it/s]"
     ]
    },
    {
     "name": "stdout",
     "output_type": "stream",
     "text": [
      "534.9579154253006\n",
      "[('and', 72)]\n",
      "[('physically', 117)]\n",
      "[('incapacitating', 99)]\n",
      "534.3132852315903\n",
      "[('and', 72)]\n",
      "[('physically', 117)]\n",
      "[('incapacitating', 99)]\n"
     ]
    },
    {
     "name": "stderr",
     "output_type": "stream",
     "text": [
      " 93%|█████████▎| 512/550 [01:19<00:06,  6.10it/s]"
     ]
    },
    {
     "name": "stdout",
     "output_type": "stream",
     "text": [
      "533.6729708909988\n",
      "[('and', 72)]\n",
      "[('physically', 117)]\n",
      "[('incapacitating', 99)]\n",
      "533.0371688604355\n",
      "[('and', 72)]\n",
      "[('physically', 117)]\n",
      "[('incapacitating', 99)]\n"
     ]
    },
    {
     "name": "stderr",
     "output_type": "stream",
     "text": [
      " 93%|█████████▎| 514/550 [01:19<00:05,  6.44it/s]"
     ]
    },
    {
     "name": "stdout",
     "output_type": "stream",
     "text": [
      "532.4067159891129\n",
      "[('and', 72)]\n",
      "[('physically', 117)]\n",
      "[('incapacitating', 99)]\n",
      "531.7792295217514\n",
      "[('and', 72)]\n",
      "[('physically', 117)]\n",
      "[('incapacitating', 99)]\n"
     ]
    },
    {
     "name": "stderr",
     "output_type": "stream",
     "text": [
      " 94%|█████████▍| 516/550 [01:19<00:05,  6.65it/s]"
     ]
    },
    {
     "name": "stdout",
     "output_type": "stream",
     "text": [
      "531.1570802927017\n",
      "[('and', 72)]\n",
      "[('physically', 117)]\n",
      "[('incapacitating', 99)]\n",
      "530.5392359495163\n",
      "[('and', 72)]\n",
      "[('physically', 117)]\n",
      "[('incapacitating', 99)]\n"
     ]
    },
    {
     "name": "stderr",
     "output_type": "stream",
     "text": [
      " 94%|█████████▍| 518/550 [01:20<00:04,  6.84it/s]"
     ]
    },
    {
     "name": "stdout",
     "output_type": "stream",
     "text": [
      "529.9257328510284\n",
      "[('and', 72)]\n",
      "[('physically', 117)]\n",
      "[('incapacitating', 99)]\n",
      "529.3164654970169\n",
      "[('and', 72)]\n",
      "[('physically', 117)]\n",
      "[('incapacitating', 99)]\n"
     ]
    },
    {
     "name": "stderr",
     "output_type": "stream",
     "text": [
      " 95%|█████████▍| 520/550 [01:20<00:04,  6.82it/s]"
     ]
    },
    {
     "name": "stdout",
     "output_type": "stream",
     "text": [
      "528.7112054824829\n",
      "[('and', 72)]\n",
      "[('physically', 117)]\n",
      "[('incapacitating', 99)]\n",
      "528.1105272769928\n",
      "[('and', 72)]\n",
      "[('physically', 117)]\n",
      "[('incapacitating', 99)]\n"
     ]
    },
    {
     "name": "stderr",
     "output_type": "stream",
     "text": [
      " 95%|█████████▍| 522/550 [01:20<00:04,  6.68it/s]"
     ]
    },
    {
     "name": "stdout",
     "output_type": "stream",
     "text": [
      "527.5137277841568\n",
      "[('and', 72)]\n",
      "[('physically', 117)]\n",
      "[('incapacitating', 99)]\n",
      "526.921155333519\n",
      "[('and', 72)]\n",
      "[('physically', 117)]\n",
      "[('incapacitating', 99)]\n"
     ]
    },
    {
     "name": "stderr",
     "output_type": "stream",
     "text": [
      " 95%|█████████▌| 524/550 [01:20<00:03,  6.64it/s]"
     ]
    },
    {
     "name": "stdout",
     "output_type": "stream",
     "text": [
      "526.3331807851791\n",
      "[('and', 72)]\n",
      "[('physically', 117)]\n",
      "[('incapacitating', 99)]\n",
      "525.748942732811\n",
      "[('and', 72)]\n",
      "[('physically', 117)]\n",
      "[('incapacitating', 99)]\n"
     ]
    },
    {
     "name": "stderr",
     "output_type": "stream",
     "text": [
      " 96%|█████████▌| 526/550 [01:21<00:03,  6.75it/s]"
     ]
    },
    {
     "name": "stdout",
     "output_type": "stream",
     "text": [
      "525.1693956851959\n",
      "[('and', 72)]\n",
      "[('physically', 117)]\n",
      "[('incapacitating', 99)]\n",
      "524.5933108329773\n",
      "[('and', 72)]\n",
      "[('physically', 117)]\n",
      "[('incapacitating', 99)]\n"
     ]
    },
    {
     "name": "stderr",
     "output_type": "stream",
     "text": [
      " 96%|█████████▌| 528/550 [01:21<00:03,  6.87it/s]"
     ]
    },
    {
     "name": "stdout",
     "output_type": "stream",
     "text": [
      "524.0212960243225\n",
      "[('and', 72)]\n",
      "[('physically', 117)]\n",
      "[('incapacitating', 99)]\n",
      "523.4530693292618\n",
      "[('and', 72)]\n",
      "[('physically', 117)]\n",
      "[('incapacitating', 99)]\n"
     ]
    },
    {
     "name": "stderr",
     "output_type": "stream",
     "text": [
      " 96%|█████████▋| 530/550 [01:21<00:02,  6.70it/s]"
     ]
    },
    {
     "name": "stdout",
     "output_type": "stream",
     "text": [
      "522.8891241550446\n",
      "[('and', 72)]\n",
      "[('physically', 117)]\n",
      "[('incapacitating', 99)]\n",
      "522.3286012411118\n",
      "[('and', 72)]\n",
      "[('physically', 117)]\n",
      "[('incapacitating', 99)]\n"
     ]
    },
    {
     "name": "stderr",
     "output_type": "stream",
     "text": [
      " 97%|█████████▋| 532/550 [01:22<00:02,  6.86it/s]"
     ]
    },
    {
     "name": "stdout",
     "output_type": "stream",
     "text": [
      "521.7721637487411\n",
      "[('and', 72)]\n",
      "[('physically', 117)]\n",
      "[('incapacitating', 99)]\n",
      "521.2194095849991\n",
      "[('and', 72)]\n",
      "[('physically', 117)]\n",
      "[('incapacitating', 99)]\n"
     ]
    },
    {
     "name": "stderr",
     "output_type": "stream",
     "text": [
      " 97%|█████████▋| 534/550 [01:22<00:02,  6.84it/s]"
     ]
    },
    {
     "name": "stdout",
     "output_type": "stream",
     "text": [
      "520.6702346801758\n",
      "[('and', 72)]\n",
      "[('physically', 117)]\n",
      "[('incapacitating', 99)]\n",
      "520.1253950595856\n",
      "[('and', 72)]\n",
      "[('physically', 117)]\n",
      "[('incapacitating', 99)]\n"
     ]
    },
    {
     "name": "stderr",
     "output_type": "stream",
     "text": [
      " 97%|█████████▋| 536/550 [01:22<00:02,  6.84it/s]"
     ]
    },
    {
     "name": "stdout",
     "output_type": "stream",
     "text": [
      "519.5836138725281\n",
      "[('and', 72)]\n",
      "[('physically', 117)]\n",
      "[('incapacitating', 99)]\n",
      "519.0463626384735\n",
      "[('and', 72)]\n",
      "[('physically', 117)]\n",
      "[('incapacitating', 99)]\n"
     ]
    },
    {
     "name": "stderr",
     "output_type": "stream",
     "text": [
      " 98%|█████████▊| 538/550 [01:23<00:01,  6.80it/s]"
     ]
    },
    {
     "name": "stdout",
     "output_type": "stream",
     "text": [
      "518.5123318433762\n",
      "[('and', 72)]\n",
      "[('physically', 117)]\n",
      "[('incapacitating', 99)]\n",
      "517.9813221693039\n",
      "[('and', 72)]\n",
      "[('physically', 117)]\n",
      "[('incapacitating', 99)]\n"
     ]
    },
    {
     "name": "stderr",
     "output_type": "stream",
     "text": [
      " 98%|█████████▊| 540/550 [01:23<00:01,  6.80it/s]"
     ]
    },
    {
     "name": "stdout",
     "output_type": "stream",
     "text": [
      "517.4548970460892\n",
      "[('and', 72)]\n",
      "[('physically', 117)]\n",
      "[('incapacitating', 99)]\n",
      "516.9309974908829\n",
      "[('and', 72)]\n",
      "[('physically', 117)]\n",
      "[('incapacitating', 99)]\n"
     ]
    },
    {
     "name": "stderr",
     "output_type": "stream",
     "text": [
      " 99%|█████████▊| 542/550 [01:23<00:01,  6.82it/s]"
     ]
    },
    {
     "name": "stdout",
     "output_type": "stream",
     "text": [
      "516.4114798307419\n",
      "[('and', 72)]\n",
      "[('physically', 117)]\n",
      "[('incapacitating', 99)]\n",
      "515.8955097198486\n",
      "[('and', 72)]\n",
      "[('physically', 117)]\n",
      "[('incapacitating', 99)]\n"
     ]
    },
    {
     "name": "stderr",
     "output_type": "stream",
     "text": [
      " 99%|█████████▉| 544/550 [01:23<00:00,  6.83it/s]"
     ]
    },
    {
     "name": "stdout",
     "output_type": "stream",
     "text": [
      "515.3829507827759\n",
      "[('and', 72)]\n",
      "[('physically', 117)]\n",
      "[('incapacitating', 99)]\n",
      "514.8736174106598\n",
      "[('and', 72)]\n",
      "[('physically', 117)]\n",
      "[('incapacitating', 99)]\n"
     ]
    },
    {
     "name": "stderr",
     "output_type": "stream",
     "text": [
      " 99%|█████████▉| 546/550 [01:24<00:00,  6.94it/s]"
     ]
    },
    {
     "name": "stdout",
     "output_type": "stream",
     "text": [
      "514.367312669754\n",
      "[('and', 72)]\n",
      "[('physically', 117)]\n",
      "[('incapacitating', 99)]\n",
      "513.8650171756744\n",
      "[('and', 72)]\n",
      "[('physically', 117)]\n",
      "[('incapacitating', 99)]\n"
     ]
    },
    {
     "name": "stderr",
     "output_type": "stream",
     "text": [
      "100%|█████████▉| 548/550 [01:24<00:00,  6.88it/s]"
     ]
    },
    {
     "name": "stdout",
     "output_type": "stream",
     "text": [
      "513.3660607337952\n",
      "[('and', 72)]\n",
      "[('physically', 117)]\n",
      "[('incapacitating', 99)]\n",
      "512.8708571195602\n",
      "[('and', 72)]\n",
      "[('physically', 117)]\n",
      "[('incapacitating', 99)]\n"
     ]
    },
    {
     "name": "stderr",
     "output_type": "stream",
     "text": [
      "100%|██████████| 550/550 [01:24<00:00,  6.49it/s]"
     ]
    },
    {
     "name": "stdout",
     "output_type": "stream",
     "text": [
      "512.3788785934448\n",
      "[('and', 72)]\n",
      "[('physically', 117)]\n",
      "[('incapacitating', 99)]\n",
      "511.89018642902374\n"
     ]
    },
    {
     "name": "stderr",
     "output_type": "stream",
     "text": [
      "\n"
     ]
    }
   ],
   "source": [
    "from tqdm import tqdm\n",
    "\n",
    "losses = []\n",
    "loss_function = nn.NLLLoss()\n",
    "\n",
    "model = SkipgramModeler(len(vocab), EMBEDDING_DIM, CONTEXT_SIZE)\n",
    "optimizer = optim.SGD(model.parameters(), lr=0.001)\n",
    "\n",
    "# Freeze embedding layer\n",
    "#model.freeze_layer('embeddings')\n",
    "\n",
    "for epoch in tqdm(range(550)):\n",
    "    total_loss = 0\n",
    "    \n",
    "    #------- Embedding layers are trained as well here ----#\n",
    "    #lookup_tensor = torch.tensor([word_to_ix[\"poor\"]], dtype=torch.long)\n",
    "    #hello_embed = model.embeddings(lookup_tensor)\n",
    "    #print(hello_embed)\n",
    "    # -----------------------------------------------------#\n",
    "\n",
    "    model.predict('psychologically')\n",
    "\n",
    "    for context, target in ngrams:\n",
    "        # Step 1. Prepare the inputs to be passed to the model (i.e, turn the words\n",
    "        # into integer indices and wrap them in tensors)\n",
    "        #print(context,target)\n",
    "\n",
    "        context_idxs = torch.tensor([word_to_ix[context]], dtype=torch.long)\n",
    "        #print(\"Context id\",context_idxs)\n",
    "\n",
    "        # Step 2. Recall that torch *accumulates* gradients. Before passing in a\n",
    "        # new instance, you need to zero out the gradients from the old\n",
    "        # instance\n",
    "        model.zero_grad()\n",
    "\n",
    "        # Step 3. Run the forward pass, getting log probabilities over next\n",
    "        # words\n",
    "        log_probs = model(context_idxs)\n",
    "        #print(log_probs)\n",
    "\n",
    "        # Step 4. Compute your loss function. (Again, Torch wants the target\n",
    "        # word wrapped in a tensor)\n",
    "        target_list = torch.tensor([word_to_ix[w] for w in target], dtype=torch.long)\n",
    "        loss = loss_function(log_probs, target_list)\n",
    "        #print(loss)\n",
    "\n",
    "        # Step 5. Do the backward pass and update the gradient\n",
    "        loss.backward()\n",
    "        optimizer.step()\n",
    "\n",
    "        # Get the Python number from a 1-element Tensor by calling tensor.item()\n",
    "        total_loss += loss.item()\n",
    "        \n",
    "    print(total_loss)\n",
    "    losses.append(total_loss)"
   ]
  },
  {
   "cell_type": "code",
   "execution_count": 8,
   "metadata": {},
   "outputs": [
    {
     "name": "stdout",
     "output_type": "stream",
     "text": [
      "[('and', 72)]\n",
      "[('physically', 117)]\n",
      "[('incapacitating', 99)]\n",
      "103\n",
      "more\n",
      "193\n",
      "where\n",
      "116\n",
      "experienced\n",
      "56\n",
      "which\n",
      "88\n",
      "informed\n"
     ]
    }
   ],
   "source": [
    "#print(losses)  # The loss decreased every iteration over the training data!\n",
    "\n",
    "#Print the model layer parameters\n",
    "#model.print_layer_parameters()\n",
    "\n",
    "#Predict the next word given n context words\n",
    "model.predict('psychologically')\n",
    "model.write_embedding_to_file('embeddings_skipgrams.npy')\n",
    "\n",
    "cluster_embeddings('embeddings_skipgrams.npy', 5)"
   ]
  }
 ],
 "metadata": {
  "kernelspec": {
   "display_name": "Python 3",
   "language": "python",
   "name": "python3"
  },
  "language_info": {
   "codemirror_mode": {
    "name": "ipython",
    "version": 3
   },
   "file_extension": ".py",
   "mimetype": "text/x-python",
   "name": "python",
   "nbconvert_exporter": "python",
   "pygments_lexer": "ipython3",
   "version": "3.7.4"
  }
 },
 "nbformat": 4,
 "nbformat_minor": 4
}
