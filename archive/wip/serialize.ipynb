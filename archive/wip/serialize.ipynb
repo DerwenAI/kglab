{
 "cells": [
  {
   "cell_type": "code",
   "execution_count": 1,
   "metadata": {},
   "outputs": [],
   "source": [
    "import kglab\n",
    "import pathlib\n",
    "\n",
    "kg = kglab.KnowledgeGraph()"
   ]
  },
  {
   "cell_type": "code",
   "execution_count": 2,
   "metadata": {},
   "outputs": [],
   "source": [
    "import urlpath\n",
    "\n",
    "path = urlpath.URL(\"http://bigasterisk.com/foaf.rdf\")"
   ]
  },
  {
   "cell_type": "code",
   "execution_count": 3,
   "metadata": {},
   "outputs": [],
   "source": [
    "def _get_filename (path):\n",
    "    if not path:\n",
    "        filename = None\n",
    "    elif isinstance(path, urlpath.URL):\n",
    "        filename = str(path)\n",
    "    elif isinstance(path, pathlib.Path):\n",
    "        filename = path.as_posix()\n",
    "    else:\n",
    "        filename = path\n",
    "\n",
    "    return filename"
   ]
  },
  {
   "cell_type": "code",
   "execution_count": 4,
   "metadata": {},
   "outputs": [
    {
     "data": {
      "text/plain": [
       "'http://bigasterisk.com/foaf.rdf'"
      ]
     },
     "execution_count": 4,
     "metadata": {},
     "output_type": "execute_result"
    }
   ],
   "source": [
    "_get_filename(path)"
   ]
  },
  {
   "cell_type": "code",
   "execution_count": 5,
   "metadata": {},
   "outputs": [
    {
     "data": {
      "text/plain": [
       "'@prefix : <http://www.w3.org/2003/01/geo/wgs84_pos#> .\\n@prefix admin: <http://webns.net/mvcb/> .\\n@prefix cert: <http://www.w3.org/ns/auth/cert#> .\\n@prefix doap: <http://usefulinc.com/ns/doap#> .\\n@prefix foaf: <http://xmlns.com/foaf/0.1/> .\\n@prefix rdfs: <http://www.w3.org/2000/01/rdf-schema#> .\\n@prefix redfoot: <http://redfoot.net/2005/session#> .\\n@prefix rsa: <http://www.w3.org/ns/auth/rsa#> .\\n\\n<https://bigasterisk.com/foaf.rdf> a foaf:PersonalProfileDocument ;\\n    admin:errorReportsTo <mailto:leigh@ldodds.com> ;\\n    admin:generatorAgent <http://www.ldodds.com/foaf/foaf-a-matic> ;\\n    foaf:maker <http://bigasterisk.com/foaf.rdf#drewp> ;\\n    foaf:primaryTopic <http://bigasterisk.com/foaf.rdf#drewp> .\\n\\n<http://bblfish.net/people/henry/card#me> a foaf:Person ;\\n    rdfs:seeAlso <http://bblfish.net/people/henry/card> ;\\n    foaf:name \"Henry Story\" .\\n\\n<http://collectivesource.com/foaf.rdf#nathan> a foaf:Person ;\\n    rdfs:seeAlso <http://collectivesource.com/foaf.rdf> ;\\n    foaf:mbox_sha1sum '"
      ]
     },
     "execution_count": 5,
     "metadata": {},
     "output_type": "execute_result"
    }
   ],
   "source": [
    "# load RDF from a URL\n",
    "kg.load_rdf(path, format=\"xml\")\n",
    "\n",
    "text = kg.save_rdf_text(format=\"n3\")\n",
    "text[:1000]"
   ]
  },
  {
   "cell_type": "code",
   "execution_count": 6,
   "metadata": {},
   "outputs": [],
   "source": [
    "kg.save_rdf(\"foaf.ttl\", format=\"ttl\")\n",
    "kg.save_jsonld(\"foaf.jsonld\")\n",
    "kg.save_parquet(\"foaf.parquet\")"
   ]
  },
  {
   "cell_type": "code",
   "execution_count": 7,
   "metadata": {},
   "outputs": [
    {
     "data": {
      "text/html": [
       "<div>\n",
       "<style scoped>\n",
       "    .dataframe tbody tr th:only-of-type {\n",
       "        vertical-align: middle;\n",
       "    }\n",
       "\n",
       "    .dataframe tbody tr th {\n",
       "        vertical-align: top;\n",
       "    }\n",
       "\n",
       "    .dataframe thead th {\n",
       "        text-align: right;\n",
       "    }\n",
       "</style>\n",
       "<table border=\"1\" class=\"dataframe\">\n",
       "  <thead>\n",
       "    <tr style=\"text-align: right;\">\n",
       "      <th></th>\n",
       "      <th>s</th>\n",
       "      <th>p</th>\n",
       "      <th>o</th>\n",
       "    </tr>\n",
       "  </thead>\n",
       "  <tbody>\n",
       "    <tr>\n",
       "      <th>0</th>\n",
       "      <td>&lt;http://bigasterisk.com/foaf.rdf#drewp&gt;</td>\n",
       "      <td>&lt;http://xmlns.com/foaf/0.1/nick&gt;</td>\n",
       "      <td>\"drewp\"</td>\n",
       "    </tr>\n",
       "    <tr>\n",
       "      <th>1</th>\n",
       "      <td>_:Nd00f38a9c5ed4193891f098279d596bf</td>\n",
       "      <td>&lt;http://www.w3.org/2003/01/geo/wgs84_pos#long&gt;</td>\n",
       "      <td>\"-122.27603\"</td>\n",
       "    </tr>\n",
       "    <tr>\n",
       "      <th>2</th>\n",
       "      <td>&lt;http://bigasterisk.com/foaf.rdf#drewp&gt;</td>\n",
       "      <td>&lt;http://xmlns.com/foaf/0.1/knows&gt;</td>\n",
       "      <td>_:N7c0ca95dd2054bbbb811e39d332a8a1a</td>\n",
       "    </tr>\n",
       "    <tr>\n",
       "      <th>3</th>\n",
       "      <td>&lt;http://bigasterisk.com/foaf.rdf#drewp&gt;</td>\n",
       "      <td>&lt;http://xmlns.com/foaf/0.1/knows&gt;</td>\n",
       "      <td>&lt;http://bblfish.net/people/henry/card#me&gt;</td>\n",
       "    </tr>\n",
       "    <tr>\n",
       "      <th>4</th>\n",
       "      <td>_:N790173b9cfb94613ab829288fb647279</td>\n",
       "      <td>&lt;http://xmlns.com/foaf/0.1/mbox_sha1sum&gt;</td>\n",
       "      <td>\"1c9699bb667d9ad9595cbaa0467ce677bf225829\"</td>\n",
       "    </tr>\n",
       "  </tbody>\n",
       "</table>\n",
       "</div>"
      ],
      "text/plain": [
       "                                         s  \\\n",
       "0  <http://bigasterisk.com/foaf.rdf#drewp>   \n",
       "1      _:Nd00f38a9c5ed4193891f098279d596bf   \n",
       "2  <http://bigasterisk.com/foaf.rdf#drewp>   \n",
       "3  <http://bigasterisk.com/foaf.rdf#drewp>   \n",
       "4      _:N790173b9cfb94613ab829288fb647279   \n",
       "\n",
       "                                                p  \\\n",
       "0                <http://xmlns.com/foaf/0.1/nick>   \n",
       "1  <http://www.w3.org/2003/01/geo/wgs84_pos#long>   \n",
       "2               <http://xmlns.com/foaf/0.1/knows>   \n",
       "3               <http://xmlns.com/foaf/0.1/knows>   \n",
       "4        <http://xmlns.com/foaf/0.1/mbox_sha1sum>   \n",
       "\n",
       "                                            o  \n",
       "0                                     \"drewp\"  \n",
       "1                                \"-122.27603\"  \n",
       "2         _:N7c0ca95dd2054bbbb811e39d332a8a1a  \n",
       "3   <http://bblfish.net/people/henry/card#me>  \n",
       "4  \"1c9699bb667d9ad9595cbaa0467ce677bf225829\"  "
      ]
     },
     "execution_count": 7,
     "metadata": {},
     "output_type": "execute_result"
    }
   ],
   "source": [
    "import pandas as pd\n",
    "\n",
    "df = pd.read_parquet(\"foaf.parquet\")\n",
    "df.head()"
   ]
  },
  {
   "cell_type": "code",
   "execution_count": 8,
   "metadata": {},
   "outputs": [
    {
     "data": {
      "text/plain": [
       "'@prefix : <http://www.w3.org/2003/01/geo/wgs84_pos#> .\\n@prefix admin: <http://webns.net/mvcb/> .\\n@prefix cert: <http://www.w3.org/ns/auth/cert#> .\\n@prefix doap: <http://usefulinc.com/ns/doap#> .\\n@prefix foaf: <http://xmlns.com/foaf/0.1/> .\\n@prefix rdfs: <http://www.w3.org/2000/01/rdf-schema#> .\\n@prefix redfoot: <http://redfoot.net/2005/session#> .\\n@prefix rsa: <http://www.w3.org/ns/auth/rsa#> .\\n\\n<https://bigasterisk.com/foaf.rdf> a foaf:PersonalProfileDocument ;\\n    admin:errorReportsTo <mailto:leigh@ldodds.com> ;\\n    admin:generatorAgent <http://www.ldodds.com/foaf/foaf-a-matic> ;\\n    foaf:maker <http://bigasterisk.com/foaf.rdf#drewp> ;\\n    foaf:primaryTopic <http://bigasterisk.com/foaf.rdf#drewp> .\\n\\n<http://bblfish.net/people/henry/card#me> a foaf:Person ;\\n    rdfs:seeAlso <http://bblfish.net/people/henry/card> ;\\n    foaf:name \"Henry Story\" .\\n\\n<http://collectivesource.com/foaf.rdf#nathan> a foaf:Person ;\\n    rdfs:seeAlso <http://collectivesource.com/foaf.rdf> ;\\n    foaf:mbox_sha1sum '"
      ]
     },
     "execution_count": 8,
     "metadata": {},
     "output_type": "execute_result"
    }
   ],
   "source": [
    "import json\n",
    "import boto3\n",
    "import io\n",
    "\n",
    "s3 = boto3.resource(\"s3\")\n",
    "\n",
    "bucket = \"kglab-tutorial\"\n",
    "key = \"foaf.jsonld\"\n",
    "\n",
    "obj = s3.Object(bucket, key)\n",
    "data = obj.get()[\"Body\"]\n",
    "\n",
    "kg._g.parse(data=data.read(), format=\"json-ld\", encoding=\"utf-8\")\n",
    "\n",
    "text = kg.save_rdf_text(format=\"n3\")\n",
    "text[:1000]"
   ]
  },
  {
   "cell_type": "code",
   "execution_count": 9,
   "metadata": {},
   "outputs": [
    {
     "name": "stdout",
     "output_type": "stream",
     "text": [
      "<class '_io.TextIOWrapper'>\n",
      "True\n",
      "True\n"
     ]
    }
   ],
   "source": [
    "import pathlib\n",
    "import io\n",
    "\n",
    "path = pathlib.Path(\"foaf.ttl\")\n",
    "\n",
    "with path.open() as f:\n",
    "    print(type(f))\n",
    "    print(isinstance(f, io.TextIOBase))\n",
    "    print(hasattr(f, \"write\"))\n",
    "    #print(f.read())"
   ]
  },
  {
   "cell_type": "code",
   "execution_count": 10,
   "metadata": {},
   "outputs": [
    {
     "name": "stdout",
     "output_type": "stream",
     "text": [
      "@prefix : <http://www.w3.org/2003/01/geo/wgs84_pos#> .\n",
      "@prefix admin: <http://webns.net/mvcb/> .\n",
      "@prefix cert: <http://www.w3.org/ns/auth/cert#> .\n",
      "@prefix doap: <http://usefulinc.com/ns/doap#> .\n",
      "@prefix foaf: <http://xmlns.com/foaf/0.1/> .\n",
      "@prefix rdfs: <http://www.w3.org/2000/01/rdf-schema#> .\n",
      "@prefix redfoot: <http://redfoot.net/2005/session#> .\n",
      "@prefix rsa: <http://www.w3.org/ns/auth/rsa#> .\n",
      "\n",
      "<https://bigasterisk.com/foaf.rdf> a foaf:PersonalProfileDocument ;\n",
      "    admin:errorReportsTo <mailto:leigh@ldodds.com> ;\n",
      "    admin:generatorAgent <http://www.ldodds.com/foaf/foaf-a-matic> ;\n",
      "    foaf:maker <http://bigasterisk.com/foaf.rdf#drewp> ;\n",
      "    foaf:primaryTopic <http://bigasterisk.com/foaf.rdf#drewp> .\n",
      "\n",
      "<http://bblfish.net/people/henry/card#me> a foaf:Person ;\n",
      "    rdfs:seeAlso <http://bblfish.net/people/henry/card> ;\n",
      "    foaf:name \"Henry Story\" .\n",
      "\n",
      "<http://collectivesource.com/foaf.rdf#nathan> a foaf:Person ;\n",
      "    rdfs:seeAlso <http://collectivesource.com/foaf.rdf> ;\n",
      "    foaf:mbox_sha1sum \n"
     ]
    }
   ],
   "source": [
    "kg = kglab.KnowledgeGraph()\n",
    "path = pathlib.Path(\"foaf.ttl\")\n",
    "\n",
    "with path.open() as f:\n",
    "    kg.load_rdf(f, format=\"ttl\")\n",
    "\n",
    "text = kg.save_rdf_text(format=\"n3\")\n",
    "print(text[:1000])"
   ]
  },
  {
   "cell_type": "code",
   "execution_count": 11,
   "metadata": {},
   "outputs": [],
   "source": [
    "with open(\"ug.jsonld\", \"wb\") as f:\n",
    "    kg.save_jsonld(f)"
   ]
  }
 ],
 "metadata": {
  "kernelspec": {
   "display_name": "Python 3",
   "language": "python",
   "name": "python3"
  },
  "language_info": {
   "codemirror_mode": {
    "name": "ipython",
    "version": 3
   },
   "file_extension": ".py",
   "mimetype": "text/x-python",
   "name": "python",
   "nbconvert_exporter": "python",
   "pygments_lexer": "ipython3",
   "version": "3.7.4"
  }
 },
 "nbformat": 4,
 "nbformat_minor": 4
}
