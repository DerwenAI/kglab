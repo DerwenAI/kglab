{
 "cells": [
  {
   "cell_type": "code",
   "execution_count": null,
   "metadata": {},
   "outputs": [],
   "source": [
    "# for use in tutorial and development; do not include this `sys.path` change in production:\n",
    "import sys ; sys.path.insert(0, \"../\")\n",
    "import os ; from os.path import dirname"
   ]
  },
  {
   "cell_type": "markdown",
   "metadata": {},
   "source": [
    "# Evolutionary Shape Prediction\n",
    "\n",
    "An experiment in evolutionary software using *reinforcement learning* to discover interesting data objects within a given set of graph data."
   ]
  },
  {
   "cell_type": "code",
   "execution_count": null,
   "metadata": {},
   "outputs": [],
   "source": [
    "import kglab\n",
    "\n",
    "namespaces = {\n",
    "    \"nom\":  \"http://example.org/#\",\n",
    "    \"wtm\":  \"http://purl.org/heals/food/\",\n",
    "    \"ind\":  \"http://purl.org/heals/ingredient/\",\n",
    "    \"skos\": \"http://www.w3.org/2004/02/skos/core#\",\n",
    "    }\n",
    "\n",
    "kg = kglab.KnowledgeGraph(\n",
    "    name = \"A recipe KG example based on Food.com\",\n",
    "    base_uri = \"https://www.food.com/recipe/\",\n",
    "    language = \"en\",\n",
    "    namespaces = namespaces,\n",
    "    )\n",
    "\n",
    "kg.load_rdf(dirname(os.getcwd()) + \"/dat/recipes.ttl\")"
   ]
  },
  {
   "cell_type": "code",
   "execution_count": null,
   "metadata": {},
   "outputs": [],
   "source": [
    "import sys\n",
    "import inspect\n",
    "\n",
    "__name__ = \"kglab\"\n",
    "\n",
    "clsmembers = inspect.getmembers(sys.modules[__name__], inspect.isclass)\n",
    "clsmembers"
   ]
  },
  {
   "cell_type": "markdown",
   "metadata": {},
   "source": [
    "## Graph measures and topological analysis"
   ]
  },
  {
   "cell_type": "markdown",
   "metadata": {},
   "source": [
    "Let's measure this graph, to develop some estimators that we'll use later..."
   ]
  },
  {
   "cell_type": "code",
   "execution_count": null,
   "metadata": {},
   "outputs": [],
   "source": [
    "import pandas as pd\n",
    "\n",
    "pd.set_option(\"max_rows\", None)\n",
    "\n",
    "measure = kglab.Measure()\n",
    "measure.measure_graph(kg)"
   ]
  },
  {
   "cell_type": "code",
   "execution_count": null,
   "metadata": {},
   "outputs": [],
   "source": [
    "print(\"edges\", measure.edge_count)\n",
    "print(\"nodes\", measure.node_count)"
   ]
  },
  {
   "cell_type": "code",
   "execution_count": null,
   "metadata": {
    "scrolled": true
   },
   "outputs": [],
   "source": [
    "measure.s_gen.get_tally()"
   ]
  },
  {
   "cell_type": "code",
   "execution_count": null,
   "metadata": {
    "scrolled": true
   },
   "outputs": [],
   "source": [
    "measure.p_gen.get_tally()"
   ]
  },
  {
   "cell_type": "code",
   "execution_count": null,
   "metadata": {
    "scrolled": true
   },
   "outputs": [],
   "source": [
    "measure.o_gen.get_tally()"
   ]
  },
  {
   "cell_type": "code",
   "execution_count": null,
   "metadata": {
    "scrolled": true
   },
   "outputs": [],
   "source": [
    "measure.l_gen.get_tally()"
   ]
  },
  {
   "cell_type": "code",
   "execution_count": null,
   "metadata": {
    "scrolled": true
   },
   "outputs": [],
   "source": [
    "df, link_map = measure.n_gen.get_tally_map()\n",
    "df"
   ]
  },
  {
   "cell_type": "code",
   "execution_count": null,
   "metadata": {
    "scrolled": true
   },
   "outputs": [],
   "source": [
    "df, link_map = measure.e_gen.get_tally_map()"
   ]
  },
  {
   "cell_type": "code",
   "execution_count": null,
   "metadata": {
    "scrolled": true
   },
   "outputs": [],
   "source": [
    "print(link_map)"
   ]
  },
  {
   "cell_type": "markdown",
   "metadata": {},
   "source": [
    "## ShapeFactory and evolved shapes"
   ]
  },
  {
   "cell_type": "code",
   "execution_count": null,
   "metadata": {},
   "outputs": [],
   "source": [
    "factory = kglab.ShapeFactory(kg, measure)\n",
    "subgraph = factory.subgraph"
   ]
  },
  {
   "cell_type": "code",
   "execution_count": null,
   "metadata": {},
   "outputs": [],
   "source": [
    "es0 = factory.new_shape()\n",
    "\n",
    "print(es0.serialize(subgraph))\n",
    "[ print(r) for r in es0.get_rdf() ];"
   ]
  },
  {
   "cell_type": "markdown",
   "metadata": {},
   "source": [
    "Now we can use this `ShapeFactory` object to evolve a *shape* within the graph, then generate a SPARQL query to test its cardinality:"
   ]
  },
  {
   "cell_type": "code",
   "execution_count": null,
   "metadata": {},
   "outputs": [],
   "source": [
    "sparql, bindings = es0.get_sparql()\n",
    "\n",
    "print(sparql)\n",
    "print(bindings)"
   ]
  },
  {
   "cell_type": "code",
   "execution_count": null,
   "metadata": {
    "scrolled": true
   },
   "outputs": [],
   "source": [
    "for row in kg.query(sparql):\n",
    "    print(row)"
   ]
  },
  {
   "cell_type": "markdown",
   "metadata": {},
   "source": [
    "We can also use this library to construct a specific shape programmatically, e.g., a recipe:"
   ]
  },
  {
   "cell_type": "code",
   "execution_count": null,
   "metadata": {},
   "outputs": [],
   "source": [
    "es1 = kglab.EvoShape(kg, measure)\n",
    "\n",
    "type_uri = \"http://purl.org/heals/food/Recipe\"\n",
    "type_node = kglab.EvoShapeNode(uri=type_uri, terminal=True)\n",
    "es1.add_link(es1.root, kg.get_ns(\"rdf\").type, type_node)\n",
    "\n",
    "edge_uri = \"http://purl.org/heals/food/hasIngredient\"\n",
    "edge_node_uri = \"http://purl.org/heals/ingredient/VanillaExtract\"\n",
    "edge_node = kglab.EvoShapeNode(uri=edge_node_uri)\n",
    "es1.add_link(es1.root, edge_uri, edge_node)\n",
    "\n",
    "edge_uri = \"http://purl.org/heals/food/hasIngredient\"\n",
    "edge_node_uri = \"http://purl.org/heals/ingredient/AllPurposeFlour\"\n",
    "edge_node = kglab.EvoShapeNode(uri=edge_node_uri)\n",
    "es1.add_link(es1.root, edge_uri, edge_node)\n",
    "\n",
    "edge_uri = \"http://purl.org/heals/food/hasIngredient\"\n",
    "edge_node_uri = \"http://purl.org/heals/ingredient/Salt\"\n",
    "edge_node = kglab.EvoShapeNode(uri=edge_node_uri)\n",
    "es1.add_link(es1.root, edge_uri, edge_node)\n",
    "\n",
    "edge_uri = \"http://purl.org/heals/food/hasIngredient\"\n",
    "edge_node_uri = \"http://purl.org/heals/ingredient/ChickenEgg\"\n",
    "edge_node = kglab.EvoShapeNode(uri=edge_node_uri)\n",
    "es1.add_link(es1.root, edge_uri, edge_node)"
   ]
  },
  {
   "cell_type": "code",
   "execution_count": null,
   "metadata": {},
   "outputs": [],
   "source": [
    "[ print(r) for r in es1.get_rdf() ]\n",
    "es1.serialize(subgraph)"
   ]
  },
  {
   "cell_type": "code",
   "execution_count": null,
   "metadata": {},
   "outputs": [],
   "source": [
    "sparql, bindings = es1.get_sparql()\n",
    "\n",
    "print(sparql)\n",
    "print(bindings)"
   ]
  },
  {
   "cell_type": "markdown",
   "metadata": {},
   "source": [
    "Query to find matching instances for this shape `es1` within the graph:"
   ]
  },
  {
   "cell_type": "code",
   "execution_count": null,
   "metadata": {
    "scrolled": true
   },
   "outputs": [],
   "source": [
    "for row in kg.query(sparql, bindings=bindings):\n",
    "    print(row)"
   ]
  },
  {
   "cell_type": "markdown",
   "metadata": {},
   "source": [
    "## Leaderboard which can be distributed across a cluster"
   ]
  },
  {
   "cell_type": "markdown",
   "metadata": {},
   "source": [
    "We can calculate metrics to describe how these shapes `es0` and `es1` might rank on a *leaderboard*:"
   ]
  },
  {
   "cell_type": "code",
   "execution_count": null,
   "metadata": {},
   "outputs": [],
   "source": [
    "es0.get_cardinality()"
   ]
  },
  {
   "cell_type": "code",
   "execution_count": null,
   "metadata": {},
   "outputs": [],
   "source": [
    "es1.get_cardinality()"
   ]
  },
  {
   "cell_type": "markdown",
   "metadata": {},
   "source": [
    "Then calculate a vector distance between `es1` and `es0` which we'd generated earlier:"
   ]
  },
  {
   "cell_type": "code",
   "execution_count": null,
   "metadata": {},
   "outputs": [],
   "source": [
    "es0.calc_distance(es1)"
   ]
  },
  {
   "cell_type": "markdown",
   "metadata": {},
   "source": [
    "Now we can generate a compact, ordinal representation for the `es1` shape, which can be serialized as a string, transferred across a network to an actor, then deserialized as the same shape -- *as long as we use a similarly structured subgraph*"
   ]
  },
  {
   "cell_type": "code",
   "execution_count": null,
   "metadata": {},
   "outputs": [],
   "source": [
    "import json\n",
    "\n",
    "ser = es1.serialize(subgraph)\n",
    "j_ser = json.dumps(ser)\n",
    "\n",
    "print(j_ser)"
   ]
  },
  {
   "cell_type": "code",
   "execution_count": null,
   "metadata": {},
   "outputs": [],
   "source": [
    "ser = json.loads(j_ser)\n",
    "ser"
   ]
  },
  {
   "cell_type": "markdown",
   "metadata": {},
   "source": [
    "Test the deseserialization"
   ]
  },
  {
   "cell_type": "code",
   "execution_count": null,
   "metadata": {},
   "outputs": [],
   "source": [
    "es2 = kglab.EvoShape(kg, measure)\n",
    "uri_map = es2.deserialize(ser, subgraph)"
   ]
  },
  {
   "cell_type": "code",
   "execution_count": null,
   "metadata": {},
   "outputs": [],
   "source": [
    "print(es2.root.uri)\n",
    "\n",
    "for k, v in uri_map.items():\n",
    "    print(k, v)"
   ]
  },
  {
   "cell_type": "code",
   "execution_count": null,
   "metadata": {},
   "outputs": [],
   "source": [
    "for e in es2.root.edges:\n",
    "    print(\"obj\", e.obj)\n",
    "    print(\"edge\", e.pred, e.obj.uri)"
   ]
  },
  {
   "cell_type": "code",
   "execution_count": null,
   "metadata": {},
   "outputs": [],
   "source": [
    "for n in es2.nodes:\n",
    "    print(n)\n",
    "    print(n.uri)"
   ]
  },
  {
   "cell_type": "code",
   "execution_count": null,
   "metadata": {},
   "outputs": [],
   "source": [
    "[ print(r) for r in es2.get_rdf() ]\n",
    "es2.serialize(subgraph)"
   ]
  },
  {
   "cell_type": "code",
   "execution_count": null,
   "metadata": {},
   "outputs": [],
   "source": [
    "es2.get_sparql()"
   ]
  },
  {
   "cell_type": "markdown",
   "metadata": {},
   "source": [
    "Prototype a leaderboard -"
   ]
  },
  {
   "cell_type": "code",
   "execution_count": null,
   "metadata": {},
   "outputs": [],
   "source": [
    "leaderboard = kglab.Leaderboard()\n",
    "leaderboard.df"
   ]
  },
  {
   "cell_type": "code",
   "execution_count": null,
   "metadata": {},
   "outputs": [],
   "source": [
    "dist = leaderboard.add_shape(es0.serialize(subgraph))\n",
    "print(dist)\n",
    "leaderboard.df"
   ]
  },
  {
   "cell_type": "code",
   "execution_count": null,
   "metadata": {},
   "outputs": [],
   "source": [
    "dist = leaderboard.add_shape(es1.serialize(subgraph))\n",
    "print(dist)\n",
    "leaderboard.df"
   ]
  },
  {
   "cell_type": "code",
   "execution_count": null,
   "metadata": {},
   "outputs": [],
   "source": [
    "es3 = kglab.EvoShape(kg, measure)\n",
    "\n",
    "type_uri = \"http://purl.org/heals/food/Recipe\"\n",
    "type_node = kglab.EvoShapeNode(uri=type_uri, terminal=True)\n",
    "es3.add_link(es3.root, kg.get_ns(\"rdf\").type, type_node)\n",
    "\n",
    "edge_uri = \"http://purl.org/heals/food/hasIngredient\"\n",
    "edge_node_uri = \"http://purl.org/heals/ingredient/Butter\"\n",
    "edge_node = kglab.EvoShapeNode(uri=edge_node_uri)\n",
    "es3.add_link(es3.root, edge_uri, edge_node)"
   ]
  },
  {
   "cell_type": "code",
   "execution_count": null,
   "metadata": {},
   "outputs": [],
   "source": [
    "shape = es3.serialize(subgraph)\n",
    "shape"
   ]
  },
  {
   "cell_type": "code",
   "execution_count": null,
   "metadata": {},
   "outputs": [],
   "source": [
    "dist = leaderboard.add_shape(es3.serialize(subgraph))\n",
    "print(dist)\n",
    "\n",
    "leaderboard.df"
   ]
  },
  {
   "cell_type": "markdown",
   "metadata": {},
   "source": [
    "## Generating triads from co-occurrence"
   ]
  },
  {
   "cell_type": "code",
   "execution_count": null,
   "metadata": {},
   "outputs": [],
   "source": []
  }
 ],
 "metadata": {
  "kernelspec": {
   "display_name": "Python 3",
   "language": "python",
   "name": "python3"
  },
  "language_info": {
   "codemirror_mode": {
    "name": "ipython",
    "version": 3
   },
   "file_extension": ".py",
   "mimetype": "text/x-python",
   "name": "python",
   "nbconvert_exporter": "python",
   "pygments_lexer": "ipython3",
   "version": "3.7.4"
  }
 },
 "nbformat": 4,
 "nbformat_minor": 4
}
