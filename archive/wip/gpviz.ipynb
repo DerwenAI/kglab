{
 "cells": [
  {
   "cell_type": "code",
   "execution_count": null,
   "metadata": {},
   "outputs": [],
   "source": [
    "# for use in tutorial and development; do not include this `sys.path` change in production:\n",
    "import sys ; sys.path.insert(0, \"../\")"
   ]
  },
  {
   "cell_type": "code",
   "execution_count": 2,
   "metadata": {},
   "outputs": [
    {
     "data": {
      "text/plain": [
       "<kglab.kglab.KnowledgeGraph at 0x13cd50310>"
      ]
     },
     "execution_count": 2,
     "metadata": {},
     "output_type": "execute_result"
    }
   ],
   "source": [
    "import kglab\n",
    "\n",
    "namespaces = {\n",
    "    \"nom\":  \"http://example.org/#\",\n",
    "    \"wtm\":  \"http://purl.org/heals/food/\",\n",
    "    \"ind\":  \"http://purl.org/heals/ingredient/\",\n",
    "    \"skos\": \"http://www.w3.org/2004/02/skos/core#\",\n",
    "    }\n",
    "\n",
    "kg = kglab.KnowledgeGraph(\n",
    "    name = \"A recipe KG example based on Food.com\",\n",
    "    base_uri = \"https://www.food.com/recipe/\",\n",
    "    namespaces = namespaces,\n",
    "    )\n",
    "\n",
    "kg.load_rdf(\"../examples/tmp.ttl\")"
   ]
  },
  {
   "cell_type": "code",
   "execution_count": 3,
   "metadata": {},
   "outputs": [
    {
     "data": {
      "text/plain": [
       "{'dct': Namespace('http://purl.org/dc/terms/'),\n",
       " 'owl': Namespace('http://www.w3.org/2002/07/owl#'),\n",
       " 'prov': Namespace('http://www.w3.org/ns/prov#'),\n",
       " 'rdf': Namespace('http://www.w3.org/1999/02/22-rdf-syntax-ns#'),\n",
       " 'rdfs': Namespace('http://www.w3.org/2000/01/rdf-schema#'),\n",
       " 'schema': Namespace('http://schema.org/'),\n",
       " 'sh': Namespace('http://www.w3.org/ns/shacl#'),\n",
       " 'xsd': Namespace('http://www.w3.org/2001/XMLSchema#'),\n",
       " 'nom': Namespace('http://example.org/#'),\n",
       " 'wtm': Namespace('http://purl.org/heals/food/'),\n",
       " 'ind': Namespace('http://purl.org/heals/ingredient/'),\n",
       " 'skos': Namespace('http://www.w3.org/2004/02/skos/core#')}"
      ]
     },
     "execution_count": 3,
     "metadata": {},
     "output_type": "execute_result"
    }
   ],
   "source": [
    "kg._ns"
   ]
  },
  {
   "cell_type": "code",
   "execution_count": 4,
   "metadata": {},
   "outputs": [],
   "source": [
    "sparql = \"\"\"\n",
    "SELECT ?recipe ?definition ?time\n",
    "  WHERE {\n",
    "      ?recipe rdf:type wtm:Recipe .\n",
    "      ?recipe skos:definition ?definition .\n",
    "      ?recipe wtm:hasIngredient ind:ChickenEgg .\n",
    "      ?recipe wtm:hasCookTime ?time\n",
    "  }\n",
    "  ORDER BY DESC(?time)\n",
    "\"\"\""
   ]
  },
  {
   "cell_type": "code",
   "execution_count": 5,
   "metadata": {
    "scrolled": true
   },
   "outputs": [
    {
     "data": {
      "text/html": [
       "<div>\n",
       "<style scoped>\n",
       "    .dataframe tbody tr th:only-of-type {\n",
       "        vertical-align: middle;\n",
       "    }\n",
       "\n",
       "    .dataframe tbody tr th {\n",
       "        vertical-align: top;\n",
       "    }\n",
       "\n",
       "    .dataframe thead th {\n",
       "        text-align: right;\n",
       "    }\n",
       "</style>\n",
       "<table border=\"1\" class=\"dataframe\">\n",
       "  <thead>\n",
       "    <tr style=\"text-align: right;\">\n",
       "      <th></th>\n",
       "      <th>recipe</th>\n",
       "      <th>definition</th>\n",
       "      <th>time</th>\n",
       "    </tr>\n",
       "  </thead>\n",
       "  <tbody>\n",
       "    <tr>\n",
       "      <th>0</th>\n",
       "      <td>&lt;https://www.food.com/recipe/64564&gt;</td>\n",
       "      <td>classic cooked eggnog</td>\n",
       "      <td>1 days 00:30:00</td>\n",
       "    </tr>\n",
       "    <tr>\n",
       "      <th>1</th>\n",
       "      <td>&lt;https://www.food.com/recipe/16163&gt;</td>\n",
       "      <td>safe eggnog</td>\n",
       "      <td>0 days 12:15:00</td>\n",
       "    </tr>\n",
       "    <tr>\n",
       "      <th>2</th>\n",
       "      <td>&lt;https://www.food.com/recipe/43126&gt;</td>\n",
       "      <td>mrs  corbins butter cookies</td>\n",
       "      <td>0 days 06:15:00</td>\n",
       "    </tr>\n",
       "    <tr>\n",
       "      <th>3</th>\n",
       "      <td>&lt;https://www.food.com/recipe/284530&gt;</td>\n",
       "      <td>rooster cookies  sugar cookies</td>\n",
       "      <td>0 days 04:10:00</td>\n",
       "    </tr>\n",
       "    <tr>\n",
       "      <th>4</th>\n",
       "      <td>&lt;https://www.food.com/recipe/31041&gt;</td>\n",
       "      <td>marti s homemade noodles</td>\n",
       "      <td>0 days 02:40:00</td>\n",
       "    </tr>\n",
       "  </tbody>\n",
       "</table>\n",
       "</div>"
      ],
      "text/plain": [
       "                                 recipe                      definition  \\\n",
       "0   <https://www.food.com/recipe/64564>           classic cooked eggnog   \n",
       "1   <https://www.food.com/recipe/16163>                     safe eggnog   \n",
       "2   <https://www.food.com/recipe/43126>     mrs  corbins butter cookies   \n",
       "3  <https://www.food.com/recipe/284530>  rooster cookies  sugar cookies   \n",
       "4   <https://www.food.com/recipe/31041>        marti s homemade noodles   \n",
       "\n",
       "             time  \n",
       "0 1 days 00:30:00  \n",
       "1 0 days 12:15:00  \n",
       "2 0 days 06:15:00  \n",
       "3 0 days 04:10:00  \n",
       "4 0 days 02:40:00  "
      ]
     },
     "execution_count": 5,
     "metadata": {},
     "output_type": "execute_result"
    }
   ],
   "source": [
    "import pandas as pd\n",
    "pd.set_option(\"max_rows\", None)\n",
    "\n",
    "df = kg.query_as_df(sparql)\n",
    "df.head(5)"
   ]
  },
  {
   "cell_type": "markdown",
   "metadata": {},
   "source": [
    "## Visualize the SPARQL query as a PyVis graph"
   ]
  },
  {
   "cell_type": "code",
   "execution_count": 6,
   "metadata": {},
   "outputs": [],
   "source": [
    "pyvis_graph = kg.visualize_query(sparql, notebook=True)"
   ]
  },
  {
   "cell_type": "code",
   "execution_count": 7,
   "metadata": {},
   "outputs": [
    {
     "data": {
      "text/html": [
       "\n",
       "        <iframe\n",
       "            width=\"500px\"\n",
       "            height=\"500px\"\n",
       "            src=\"tmp.html\"\n",
       "            frameborder=\"0\"\n",
       "            allowfullscreen\n",
       "        ></iframe>\n",
       "        "
      ],
      "text/plain": [
       "<IPython.lib.display.IFrame at 0x13d2b6d50>"
      ]
     },
     "execution_count": 7,
     "metadata": {},
     "output_type": "execute_result"
    }
   ],
   "source": [
    "pyvis_graph.force_atlas_2based()\n",
    "pyvis_graph.show(\"tmp.html\")"
   ]
  }
 ],
 "metadata": {
  "kernelspec": {
   "display_name": "Python 3",
   "language": "python",
   "name": "python3"
  },
  "language_info": {
   "codemirror_mode": {
    "name": "ipython",
    "version": 3
   },
   "file_extension": ".py",
   "mimetype": "text/x-python",
   "name": "python",
   "nbconvert_exporter": "python",
   "pygments_lexer": "ipython3",
   "version": "3.7.4"
  }
 },
 "nbformat": 4,
 "nbformat_minor": 4
}
