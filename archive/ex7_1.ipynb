{
 "cells": [
  {
   "cell_type": "code",
   "execution_count": 1,
   "metadata": {},
   "outputs": [],
   "source": [
    "# for use in tutorial and development; do not include this `sys.path` change in production:\n",
    "import sys ; sys.path.insert(0, \"../\")"
   ]
  },
  {
   "cell_type": "markdown",
   "metadata": {},
   "source": [
    "# Statistical Relational Learning with `pslpython`"
   ]
  },
  {
   "cell_type": "markdown",
   "metadata": {},
   "source": [
    "In this section we'll explore one form of \n",
    "[*statistical relational learning*](../glossary/#statistical-relational-learning)\n",
    "called \n",
    "[*probabilistic soft logic*](../glossary/#probabilistic-soft-logic) (PSL).\n",
    "\n",
    "One of the examples given for PSL is called [*simple acquaintances*](https://github.com/linqs/psl-examples/tree/master/simple-acquaintances), which uses a graph of some friends, where they live, what interests they share, and then infers who probably knows whom.\n",
    "Some people explicitly do or do not know each other, while other \"knows\" relations can be inferred based on whether two people have lived in the same place or share common interest.\n",
    "\n",
    "The objective is to build a PSL model for [*link prediction*](https://en.wikipedia.org/wiki/Link_prediction), to evaluate the annotations in the friend graph.\n",
    "In this case, we'll assume that the \"knows\" relations have been added from a questionable source (e.g., some third-party dataset) so we'll measure a subset of these relations and determine their likelihood.\n",
    "NB: this is really useful for cleaning up annotations in a large graph!"
   ]
  },
  {
   "cell_type": "markdown",
   "metadata": {},
   "source": [
    "Now let's load a KG which is an RDF representation of this \"simple acquaintances\" example, based on using the [`foaf`](http://www.foaf-project.org/) vocabulary:"
   ]
  },
  {
   "cell_type": "code",
   "execution_count": 2,
   "metadata": {},
   "outputs": [],
   "source": [
    "from os.path import dirname\n",
    "import kglab\n",
    "import os\n",
    "\n",
    "namespaces = {\n",
    "    \"acq\":  \"http://example.org/stuff/\",\n",
    "    \"foaf\": \"http://xmlns.com/foaf/0.1/\",\n",
    "    }\n",
    "\n",
    "kg = kglab.KnowledgeGraph(\n",
    "    name = \"LINQS simple acquaintance example for PSL\",\n",
    "    base_uri = \"http://example.org/stuff/\",\n",
    "    namespaces = namespaces,\n",
    "    )\n",
    "\n",
    "kg.load_rdf(dirname(os.getcwd()) + \"/dat/acq.ttl\") ;"
   ]
  },
  {
   "cell_type": "markdown",
   "metadata": {},
   "source": [
    "Take a look at the `dat/acq.ttl` file to see the people and their relations.\n",
    "Here's a quick visualization of the graph:"
   ]
  },
  {
   "cell_type": "code",
   "execution_count": 3,
   "metadata": {},
   "outputs": [
    {
     "data": {
      "text/html": [
       "\n",
       "        <iframe\n",
       "            width=\"500px\"\n",
       "            height=\"500px\"\n",
       "            src=\"tmp.fig04.html\"\n",
       "            frameborder=\"0\"\n",
       "            allowfullscreen\n",
       "        ></iframe>\n",
       "        "
      ],
      "text/plain": [
       "<IPython.lib.display.IFrame at 0x7fe9cdc61cd0>"
      ]
     },
     "execution_count": 3,
     "metadata": {},
     "output_type": "execute_result"
    }
   ],
   "source": [
    "VIS_STYLE = {\n",
    "    \"foaf\": {\n",
    "        \"color\": \"orange\",\n",
    "        \"size\": 5,\n",
    "    },\n",
    "    \"acq\":{\n",
    "        \"color\": \"blue\",\n",
    "        \"size\": 30,\n",
    "    },\n",
    "}\n",
    "\n",
    "excludes = [\n",
    "    kg.get_ns(\"rdf\").type,\n",
    "    kg.get_ns(\"rdfs\").domain,\n",
    "    kg.get_ns(\"rdfs\").range,\n",
    "]\n",
    "\n",
    "subgraph = kglab.SubgraphTensor(kg, excludes=excludes)\n",
    "pyvis_graph = subgraph.build_pyvis_graph(notebook=True, style=VIS_STYLE)\n",
    "\n",
    "pyvis_graph.force_atlas_2based()\n",
    "pyvis_graph.show(\"tmp.fig04.html\")"
   ]
  },
  {
   "cell_type": "markdown",
   "metadata": {},
   "source": [
    "## Loading a PSL model\n",
    "\n",
    "Next, we'll use the [`pslpython`](https://pypi.org/project/pslpython/) library implemented in Python (atop its core library running in Java) to define three *predicates* (i.e., relations – similar as in RDF) which are: `Neighbors`, `Likes`, `Knows`"
   ]
  },
  {
   "cell_type": "code",
   "execution_count": 4,
   "metadata": {},
   "outputs": [],
   "source": [
    "psl = kglab.PSLModel(\n",
    "    name = \"simple acquaintances\",\n",
    "    )"
   ]
  },
  {
   "cell_type": "markdown",
   "metadata": {},
   "source": [
    "Then add each of the predicates:"
   ]
  },
  {
   "cell_type": "code",
   "execution_count": 5,
   "metadata": {},
   "outputs": [
    {
     "data": {
      "text/plain": [
       "''"
      ]
     },
     "execution_count": 5,
     "metadata": {},
     "output_type": "execute_result"
    }
   ],
   "source": [
    "psl.add_predicate(\"Lived\", size=2)\n",
    "psl.add_predicate(\"Likes\", size=2)\n",
    "psl.add_predicate(\"Knows\", size=2, closed=False)\n",
    ";"
   ]
  },
  {
   "cell_type": "markdown",
   "metadata": {},
   "source": [
    "Next, we'll add a set of probabilistic [*rules*](https://psl.linqs.org/wiki/2.2.1/Rule-Specification.html), all with different weights applied:\n",
    "\n",
    "  1. \"Two people who live in the same place are **more** likely to know each other\"\n",
    "  2. \"Two people who don't live in the same place are **less** likely to know each other\"\n",
    "  3. \"Two people who share a common interest are **more** likely to know each other\"\n",
    "  4. \"Two people who both know a third person are **more** likely to know each other\"\n",
    "  5. \"Otherwise, any pair of people are **less** likely to know each other\""
   ]
  },
  {
   "cell_type": "code",
   "execution_count": 6,
   "metadata": {},
   "outputs": [
    {
     "data": {
      "text/plain": [
       "''"
      ]
     },
     "execution_count": 6,
     "metadata": {},
     "output_type": "execute_result"
    }
   ],
   "source": [
    "psl.add_rule(\"Lived(P1, L) & Lived(P2, L) & (P1 != P2) -> Knows(P1, P2)\", weight=20.0, squared=True)\n",
    "\n",
    "psl.add_rule(\"Lived(P1, L1) & Lived(P2, L2) & (P1 != P2) & (L1 != L2) -> !Knows(P1, P2)\", weight=5.0, squared=True)\n",
    "\n",
    "psl.add_rule(\"Likes(P1, L) & Likes(P2, L) & (P1 != P2) -> Knows(P1, P2)\", weight=10.0, squared=True)\n",
    "\n",
    "psl.add_rule(\"Knows(P1, P2) & Knows(P2, P3) & (P1 != P3) -> Knows(P1, P3)\", weight=5.0, squared=True)\n",
    "\n",
    "psl.add_rule(\"!Knows(P1, P2)\", weight=5.0, squared=True)\n",
    ";"
   ]
  },
  {
   "cell_type": "markdown",
   "metadata": {},
   "source": [
    "Finally we'll add a [*commutative*](https://mathworld.wolfram.com/Commutative.html) rule such that:\n",
    "> \"If Person 1 knows Person 2, then Person 2 also knows Person 1.\""
   ]
  },
  {
   "cell_type": "code",
   "execution_count": 7,
   "metadata": {},
   "outputs": [],
   "source": [
    "psl.add_rule(\"Knows(P1, P2) = Knows(P2, P1)\", weighted=False) ;"
   ]
  },
  {
   "cell_type": "markdown",
   "metadata": {},
   "source": [
    "To initialize the model, we'll clear any pre-existing data for each of the predicates:"
   ]
  },
  {
   "cell_type": "code",
   "execution_count": 8,
   "metadata": {},
   "outputs": [],
   "source": [
    "psl.clear_model() ;"
   ]
  },
  {
   "cell_type": "markdown",
   "metadata": {},
   "source": [
    "Next we'll create a specific `Subgraph` to transform the names of `foaf:Person` in the graph, since the PSL rules in this example focus on relations among the people:"
   ]
  },
  {
   "cell_type": "code",
   "execution_count": 9,
   "metadata": {},
   "outputs": [],
   "source": [
    "people_iter = kg.rdf_graph().subjects(kg.get_ns(\"rdf\").type, kg.get_ns(\"foaf\").Person)\n",
    "people_nodes = [ p for p in sorted(people_iter, key=lambda p: str(p)) ]\n",
    "\n",
    "subgraph_people = kglab.Subgraph(kg, preload=people_nodes)"
   ]
  },
  {
   "cell_type": "markdown",
   "metadata": {},
   "source": [
    "Now let's query our KG to populate data into the `Liked` predicate in the PSL model, based on `foaf:based_near` which represents people who live nearby each other:"
   ]
  },
  {
   "cell_type": "code",
   "execution_count": 10,
   "metadata": {
    "scrolled": true
   },
   "outputs": [],
   "source": [
    "sparql = \"\"\"\n",
    "SELECT DISTINCT ?p1 ?l\n",
    "  WHERE {\n",
    "    ?p1 foaf:based_near ?l\n",
    "  }\n",
    "\"\"\"\n",
    "\n",
    "for row in kg.query(sparql):\n",
    "    p1 = subgraph_people.transform(row.p1)\n",
    "    l = subgraph.transform(row.l)\n",
    "    psl.add_data_row(\"Lived\", [p1, l])"
   ]
  },
  {
   "cell_type": "markdown",
   "metadata": {},
   "source": [
    "Note: these data points are *observations*, i.e., empirical support for the probabilistic model."
   ]
  },
  {
   "cell_type": "markdown",
   "metadata": {},
   "source": [
    "Next let's query our KG to populate data into the `Likes` predicate in the PSL model, based on shared interests in `foaf:topic_interest` topics:"
   ]
  },
  {
   "cell_type": "code",
   "execution_count": 11,
   "metadata": {
    "scrolled": true
   },
   "outputs": [],
   "source": [
    "sparql = \"\"\"\n",
    "SELECT DISTINCT ?p1 ?t\n",
    "  WHERE {\n",
    "    ?p1 foaf:topic_interest ?t\n",
    "  }\n",
    "  \"\"\"\n",
    "\n",
    "for row in kg.query(sparql):\n",
    "    p1 = subgraph_people.transform(row.p1)\n",
    "    t = subgraph.transform(row.t)\n",
    "    psl.add_data_row(\"Likes\", [p1, t])"
   ]
  },
  {
   "cell_type": "markdown",
   "metadata": {},
   "source": [
    "Just for kicks, let's take a look at the internal representation of a PSL predicate, which is a `pandas.DataFrame`:"
   ]
  },
  {
   "cell_type": "code",
   "execution_count": 12,
   "metadata": {
    "tags": []
   },
   "outputs": [
    {
     "data": {
      "text/plain": [
       "{'_types': [<ArgType.UNIQUE_STRING_ID: 'UniqueStringID'>,\n",
       "  <ArgType.UNIQUE_STRING_ID: 'UniqueStringID'>],\n",
       " '_data': {<Partition.OBSERVATIONS: 'observations'>:       0   1    2\n",
       "  0     0  70  1.0\n",
       "  1     1  70  1.0\n",
       "  2     2  70  1.0\n",
       "  3     3  70  1.0\n",
       "  4     4  70  1.0\n",
       "  ..   ..  ..  ...\n",
       "  127  17  79  1.0\n",
       "  128  18  79  1.0\n",
       "  129  21  79  1.0\n",
       "  130  22  79  1.0\n",
       "  131  24  79  1.0\n",
       "  \n",
       "  [132 rows x 3 columns],\n",
       "  <Partition.TARGETS: 'targets'>: Empty DataFrame\n",
       "  Columns: [0, 1, 2]\n",
       "  Index: [],\n",
       "  <Partition.TRUTH: 'truth'>: Empty DataFrame\n",
       "  Columns: [0, 1, 2]\n",
       "  Index: []},\n",
       " '_name': 'LIKES',\n",
       " '_closed': False}"
      ]
     },
     "execution_count": 12,
     "metadata": {},
     "output_type": "execute_result"
    }
   ],
   "source": [
    "predicate = psl.model.get_predicate(\"Likes\")\n",
    "predicate.__dict__"
   ]
  },
  {
   "cell_type": "code",
   "execution_count": 13,
   "metadata": {
    "tags": []
   },
   "outputs": [
    {
     "data": {
      "text/html": [
       "<div>\n",
       "<style scoped>\n",
       "    .dataframe tbody tr th:only-of-type {\n",
       "        vertical-align: middle;\n",
       "    }\n",
       "\n",
       "    .dataframe tbody tr th {\n",
       "        vertical-align: top;\n",
       "    }\n",
       "\n",
       "    .dataframe thead th {\n",
       "        text-align: right;\n",
       "    }\n",
       "</style>\n",
       "<table border=\"1\" class=\"dataframe\">\n",
       "  <thead>\n",
       "    <tr style=\"text-align: right;\">\n",
       "      <th></th>\n",
       "      <th>P1</th>\n",
       "      <th>P2</th>\n",
       "      <th>value</th>\n",
       "    </tr>\n",
       "  </thead>\n",
       "  <tbody>\n",
       "    <tr>\n",
       "      <th>0</th>\n",
       "      <td>0</td>\n",
       "      <td>70</td>\n",
       "      <td>1.0</td>\n",
       "    </tr>\n",
       "    <tr>\n",
       "      <th>1</th>\n",
       "      <td>0</td>\n",
       "      <td>71</td>\n",
       "      <td>1.0</td>\n",
       "    </tr>\n",
       "    <tr>\n",
       "      <th>2</th>\n",
       "      <td>0</td>\n",
       "      <td>72</td>\n",
       "      <td>1.0</td>\n",
       "    </tr>\n",
       "    <tr>\n",
       "      <th>3</th>\n",
       "      <td>0</td>\n",
       "      <td>73</td>\n",
       "      <td>1.0</td>\n",
       "    </tr>\n",
       "    <tr>\n",
       "      <th>4</th>\n",
       "      <td>0</td>\n",
       "      <td>75</td>\n",
       "      <td>1.0</td>\n",
       "    </tr>\n",
       "    <tr>\n",
       "      <th>...</th>\n",
       "      <td>...</td>\n",
       "      <td>...</td>\n",
       "      <td>...</td>\n",
       "    </tr>\n",
       "    <tr>\n",
       "      <th>127</th>\n",
       "      <td>24</td>\n",
       "      <td>73</td>\n",
       "      <td>1.0</td>\n",
       "    </tr>\n",
       "    <tr>\n",
       "      <th>128</th>\n",
       "      <td>24</td>\n",
       "      <td>74</td>\n",
       "      <td>1.0</td>\n",
       "    </tr>\n",
       "    <tr>\n",
       "      <th>129</th>\n",
       "      <td>24</td>\n",
       "      <td>75</td>\n",
       "      <td>1.0</td>\n",
       "    </tr>\n",
       "    <tr>\n",
       "      <th>130</th>\n",
       "      <td>24</td>\n",
       "      <td>78</td>\n",
       "      <td>1.0</td>\n",
       "    </tr>\n",
       "    <tr>\n",
       "      <th>131</th>\n",
       "      <td>24</td>\n",
       "      <td>79</td>\n",
       "      <td>1.0</td>\n",
       "    </tr>\n",
       "  </tbody>\n",
       "</table>\n",
       "<p>132 rows × 3 columns</p>\n",
       "</div>"
      ],
      "text/plain": [
       "     P1  P2  value\n",
       "0     0  70    1.0\n",
       "1     0  71    1.0\n",
       "2     0  72    1.0\n",
       "3     0  73    1.0\n",
       "4     0  75    1.0\n",
       "..   ..  ..    ...\n",
       "127  24  73    1.0\n",
       "128  24  74    1.0\n",
       "129  24  75    1.0\n",
       "130  24  78    1.0\n",
       "131  24  79    1.0\n",
       "\n",
       "[132 rows x 3 columns]"
      ]
     },
     "execution_count": 13,
     "metadata": {},
     "output_type": "execute_result"
    }
   ],
   "source": [
    "df = psl.trace_predicate(\"Likes\", partition=\"observations\")\n",
    "df"
   ]
  },
  {
   "cell_type": "markdown",
   "metadata": {},
   "source": [
    "Now we'll load data from the `dat/psl/knows_targets.txt` CSV file, which is a list of `foaf:knows` relations in our graph that we want to analyze.\n",
    "Each of these has an assumed value of `1.0` (true) or `0.0` (false).\n",
    "Our PSL analysis will assign probabilities for each so that we can compare which annotations appear to be suspect and require further review:"
   ]
  },
  {
   "cell_type": "code",
   "execution_count": 14,
   "metadata": {
    "scrolled": true
   },
   "outputs": [],
   "source": [
    "import csv\n",
    "import pandas as pd\n",
    "\n",
    "targets = []\n",
    "rows_list = []\n",
    "\n",
    "with open(dirname(os.getcwd()) + \"/dat/psl/knows_targets.txt\", \"r\") as f:\n",
    "    reader = csv.reader(f, delimiter=\"\\t\")\n",
    "    \n",
    "    for i, row in enumerate(reader):\n",
    "        p1 = int(row[0])\n",
    "        p2 = int(row[1])\n",
    "        targets.append((p1, p2))\n",
    "    \n",
    "        p1_node = subgraph_people.inverse_transform(p1)\n",
    "        p2_node = subgraph_people.inverse_transform(p2)\n",
    "        \n",
    "        if (p1_node, kg.get_ns(\"foaf\").knows, p2_node) in kg.rdf_graph():\n",
    "            truth = 1.0\n",
    "            rows_list.append({ 0: p1, 1: p2, \"truth\": truth})\n",
    "\n",
    "            psl.add_data_row(\"Knows\", [p1, p2], partition=\"truth\", truth_value=truth)\n",
    "            psl.add_data_row(\"Knows\", [p1, p2], partition=\"targets\")\n",
    "\n",
    "        elif (p1_node, kg.get_ns(\"acq\").wantsIntro, p2_node) in kg.rdf_graph():\n",
    "            truth = 0.0\n",
    "            rows_list.append({ 0: p1, 1: p2, \"truth\": truth})\n",
    "\n",
    "            psl.add_data_row(\"Knows\", [p1, p2], partition=\"truth\", truth_value=truth)\n",
    "            psl.add_data_row(\"Knows\", [p1, p2], partition=\"targets\")\n",
    "\n",
    "        else:\n",
    "            print(\"UNKNOWN\", p1, p2)"
   ]
  },
  {
   "cell_type": "markdown",
   "metadata": {},
   "source": [
    "Here are data points which are considered *ground atoms*, each with a *truth* value set initially."
   ]
  },
  {
   "cell_type": "markdown",
   "metadata": {},
   "source": [
    "Here are also our *targets* for which nodes in the graph to analyze based on the rules.\n",
    "We'll keep a dataframe called `df_dat` to preserve these values for later use:"
   ]
  },
  {
   "cell_type": "code",
   "execution_count": 15,
   "metadata": {},
   "outputs": [
    {
     "data": {
      "text/html": [
       "<div>\n",
       "<style scoped>\n",
       "    .dataframe tbody tr th:only-of-type {\n",
       "        vertical-align: middle;\n",
       "    }\n",
       "\n",
       "    .dataframe tbody tr th {\n",
       "        vertical-align: top;\n",
       "    }\n",
       "\n",
       "    .dataframe thead th {\n",
       "        text-align: right;\n",
       "    }\n",
       "</style>\n",
       "<table border=\"1\" class=\"dataframe\">\n",
       "  <thead>\n",
       "    <tr style=\"text-align: right;\">\n",
       "      <th></th>\n",
       "      <th>0</th>\n",
       "      <th>1</th>\n",
       "      <th>truth</th>\n",
       "    </tr>\n",
       "  </thead>\n",
       "  <tbody>\n",
       "    <tr>\n",
       "      <th>0</th>\n",
       "      <td>0</td>\n",
       "      <td>1</td>\n",
       "      <td>1.0</td>\n",
       "    </tr>\n",
       "    <tr>\n",
       "      <th>1</th>\n",
       "      <td>0</td>\n",
       "      <td>7</td>\n",
       "      <td>1.0</td>\n",
       "    </tr>\n",
       "    <tr>\n",
       "      <th>2</th>\n",
       "      <td>0</td>\n",
       "      <td>15</td>\n",
       "      <td>1.0</td>\n",
       "    </tr>\n",
       "    <tr>\n",
       "      <th>3</th>\n",
       "      <td>0</td>\n",
       "      <td>18</td>\n",
       "      <td>1.0</td>\n",
       "    </tr>\n",
       "    <tr>\n",
       "      <th>4</th>\n",
       "      <td>0</td>\n",
       "      <td>22</td>\n",
       "      <td>0.0</td>\n",
       "    </tr>\n",
       "  </tbody>\n",
       "</table>\n",
       "</div>"
      ],
      "text/plain": [
       "   0   1  truth\n",
       "0  0   1    1.0\n",
       "1  0   7    1.0\n",
       "2  0  15    1.0\n",
       "3  0  18    1.0\n",
       "4  0  22    0.0"
      ]
     },
     "execution_count": 15,
     "metadata": {},
     "output_type": "execute_result"
    }
   ],
   "source": [
    "df_dat = pd.DataFrame(rows_list)\n",
    "df_dat.head()"
   ]
  },
  {
   "cell_type": "markdown",
   "metadata": {},
   "source": [
    "Next, we'll add `foaf:knows` observations which are in the graph, although not among our set of targets.\n",
    "This provides more evidence for the probabilistic inference.\n",
    "Note that since RDF does not allow for representing probabilities on relations, we're using the `acq:wantsIntro` to represent a `foaf:knows` with a `0.0` probability:"
   ]
  },
  {
   "cell_type": "code",
   "execution_count": 16,
   "metadata": {
    "scrolled": true
   },
   "outputs": [],
   "source": [
    "sparql = \"\"\"\n",
    "SELECT ?p1 ?p2\n",
    "  WHERE {\n",
    "    ?p1 foaf:knows ?p2 .\n",
    "  }\n",
    "  ORDER BY ?p1 ?p2\n",
    "  \"\"\"\n",
    "\n",
    "for row in kg.query(sparql):\n",
    "    p1 = subgraph_people.transform(row.p1)\n",
    "    p2 = subgraph_people.transform(row.p2)\n",
    "    \n",
    "    if (p1, p2) not in targets:\n",
    "        psl.add_data_row(\"Knows\", [p1, p2], truth_value=1.0)\n",
    "    \n",
    "sparql = \"\"\"\n",
    "SELECT ?p1 ?p2\n",
    "  WHERE {\n",
    "    ?p1 acq:wantsIntro ?p2 .\n",
    "  }\n",
    "  ORDER BY ?p1 ?p2\n",
    "  \"\"\"\n",
    "\n",
    "for row in kg.query(sparql):\n",
    "    p1 = subgraph_people.transform(row.p1)\n",
    "    p2 = subgraph_people.transform(row.p2)\n",
    "    \n",
    "    if (p1, p2) not in targets:\n",
    "        psl.add_data_row(\"Knows\", [p1, p2], truth_value=0.0)"
   ]
  },
  {
   "cell_type": "markdown",
   "metadata": {},
   "source": [
    "Now we're ready to run optimization on the PSL model and infer the *grounded atoms*.\n",
    "This may take a few minutes to run:"
   ]
  },
  {
   "cell_type": "code",
   "execution_count": 17,
   "metadata": {
    "scrolled": true
   },
   "outputs": [
    {
     "name": "stderr",
     "output_type": "stream",
     "text": [
      "6955 [pslpython.model PSL] INFO --- 0    [main] INFO  org.linqs.psl.cli.Launcher  - Running PSL CLI Version 2.2.2-5f9a472\n",
      "7289 [pslpython.model PSL] INFO --- 335  [main] INFO  org.linqs.psl.cli.Launcher  - Loading data\n",
      "7536 [pslpython.model PSL] INFO --- 583  [main] INFO  org.linqs.psl.cli.Launcher  - Data loading complete\n",
      "7537 [pslpython.model PSL] INFO --- 583  [main] INFO  org.linqs.psl.cli.Launcher  - Loading model from /var/folders/dp/q971mmvs2m98ypxb3sb0xmxc0000gn/T/psl-python/simple acquaintances/simple acquaintances.psl\n",
      "7633 [pslpython.model PSL] INFO --- 679  [main] INFO  org.linqs.psl.cli.Launcher  - Model loading complete\n",
      "7633 [pslpython.model PSL] INFO --- 680  [main] INFO  org.linqs.psl.cli.Launcher  - Starting inference with class: org.linqs.psl.application.inference.MPEInference\n",
      "7716 [pslpython.model PSL] INFO --- 763  [main] INFO  org.linqs.psl.application.inference.MPEInference  - Grounding out model.\n",
      "7901 [pslpython.model PSL] INFO --- 948  [main] INFO  org.linqs.psl.application.inference.MPEInference  - Grounding complete.\n",
      "7923 [pslpython.model PSL] INFO --- 970  [main] INFO  org.linqs.psl.application.inference.InferenceApplication  - Beginning inference.\n",
      "8715 [pslpython.model PSL] WARNING --- 1762 [main] WARN  org.linqs.psl.reasoner.admm.ADMMReasoner  - No feasible solution found. 34 constraints violated.\n",
      "8716 [pslpython.model PSL] INFO --- 1762 [main] INFO  org.linqs.psl.reasoner.admm.ADMMReasoner  - Optimization completed in 1009 iterations. Objective: 7542.3315, Feasible: false, Primal res.: 0.053818043, Dual res.: 0.0010119631\n",
      "8716 [pslpython.model PSL] INFO --- 1762 [main] INFO  org.linqs.psl.application.inference.InferenceApplication  - Inference complete.\n",
      "8717 [pslpython.model PSL] INFO --- 1762 [main] INFO  org.linqs.psl.application.inference.InferenceApplication  - Writing results to Database.\n",
      "8748 [pslpython.model PSL] INFO --- 1794 [main] INFO  org.linqs.psl.application.inference.InferenceApplication  - Results committed to database.\n",
      "8749 [pslpython.model PSL] INFO --- 1794 [main] INFO  org.linqs.psl.cli.Launcher  - Inference Complete\n"
     ]
    }
   ],
   "source": [
    "psl.infer()"
   ]
  },
  {
   "cell_type": "markdown",
   "metadata": {},
   "source": [
    "Let's examine the results.\n",
    "We'll get a `pandas.DataFrame` describing the targets in the `Knows` predicate:"
   ]
  },
  {
   "cell_type": "code",
   "execution_count": 18,
   "metadata": {},
   "outputs": [
    {
     "data": {
      "text/html": [
       "<div>\n",
       "<style scoped>\n",
       "    .dataframe tbody tr th:only-of-type {\n",
       "        vertical-align: middle;\n",
       "    }\n",
       "\n",
       "    .dataframe tbody tr th {\n",
       "        vertical-align: top;\n",
       "    }\n",
       "\n",
       "    .dataframe thead th {\n",
       "        text-align: right;\n",
       "    }\n",
       "</style>\n",
       "<table border=\"1\" class=\"dataframe\">\n",
       "  <thead>\n",
       "    <tr style=\"text-align: right;\">\n",
       "      <th></th>\n",
       "      <th>predicate</th>\n",
       "      <th>0</th>\n",
       "      <th>1</th>\n",
       "      <th>truth</th>\n",
       "    </tr>\n",
       "  </thead>\n",
       "  <tbody>\n",
       "    <tr>\n",
       "      <th>0</th>\n",
       "      <td>KNOWS</td>\n",
       "      <td>16</td>\n",
       "      <td>15</td>\n",
       "      <td>0.998196</td>\n",
       "    </tr>\n",
       "    <tr>\n",
       "      <th>1</th>\n",
       "      <td>KNOWS</td>\n",
       "      <td>16</td>\n",
       "      <td>23</td>\n",
       "      <td>0.000551</td>\n",
       "    </tr>\n",
       "    <tr>\n",
       "      <th>2</th>\n",
       "      <td>KNOWS</td>\n",
       "      <td>17</td>\n",
       "      <td>18</td>\n",
       "      <td>0.561153</td>\n",
       "    </tr>\n",
       "    <tr>\n",
       "      <th>3</th>\n",
       "      <td>KNOWS</td>\n",
       "      <td>17</td>\n",
       "      <td>22</td>\n",
       "      <td>0.994712</td>\n",
       "    </tr>\n",
       "    <tr>\n",
       "      <th>4</th>\n",
       "      <td>KNOWS</td>\n",
       "      <td>17</td>\n",
       "      <td>21</td>\n",
       "      <td>0.476654</td>\n",
       "    </tr>\n",
       "  </tbody>\n",
       "</table>\n",
       "</div>"
      ],
      "text/plain": [
       "  predicate   0   1     truth\n",
       "0     KNOWS  16  15  0.998196\n",
       "1     KNOWS  16  23  0.000551\n",
       "2     KNOWS  17  18  0.561153\n",
       "3     KNOWS  17  22  0.994712\n",
       "4     KNOWS  17  21  0.476654"
      ]
     },
     "execution_count": 18,
     "metadata": {},
     "output_type": "execute_result"
    }
   ],
   "source": [
    "df = psl.get_results(\"Knows\")\n",
    "df.head()"
   ]
  },
  {
   "cell_type": "markdown",
   "metadata": {},
   "source": [
    "Now we can compare the \"truth\" values from our targets, with their probabilities from the inference provided by the PSL model.\n",
    "Let's build a dataframe to show that:"
   ]
  },
  {
   "cell_type": "code",
   "execution_count": 19,
   "metadata": {
    "scrolled": true
   },
   "outputs": [
    {
     "data": {
      "text/html": [
       "<div>\n",
       "<style scoped>\n",
       "    .dataframe tbody tr th:only-of-type {\n",
       "        vertical-align: middle;\n",
       "    }\n",
       "\n",
       "    .dataframe tbody tr th {\n",
       "        vertical-align: top;\n",
       "    }\n",
       "\n",
       "    .dataframe thead th {\n",
       "        text-align: right;\n",
       "    }\n",
       "</style>\n",
       "<table border=\"1\" class=\"dataframe\">\n",
       "  <thead>\n",
       "    <tr style=\"text-align: right;\">\n",
       "      <th></th>\n",
       "      <th>predicate</th>\n",
       "      <th>p1</th>\n",
       "      <th>p2</th>\n",
       "      <th>truth</th>\n",
       "      <th>diff</th>\n",
       "    </tr>\n",
       "  </thead>\n",
       "  <tbody>\n",
       "    <tr>\n",
       "      <th>0</th>\n",
       "      <td>KNOWS</td>\n",
       "      <td>http://example.org/stuff/person_16</td>\n",
       "      <td>http://example.org/stuff/person_15</td>\n",
       "      <td>0.998196</td>\n",
       "      <td>-0.001804</td>\n",
       "    </tr>\n",
       "    <tr>\n",
       "      <th>1</th>\n",
       "      <td>KNOWS</td>\n",
       "      <td>http://example.org/stuff/person_16</td>\n",
       "      <td>http://example.org/stuff/person_23</td>\n",
       "      <td>0.000551</td>\n",
       "      <td>0.000551</td>\n",
       "    </tr>\n",
       "    <tr>\n",
       "      <th>2</th>\n",
       "      <td>KNOWS</td>\n",
       "      <td>http://example.org/stuff/person_17</td>\n",
       "      <td>http://example.org/stuff/person_18</td>\n",
       "      <td>0.561153</td>\n",
       "      <td>0.561153</td>\n",
       "    </tr>\n",
       "    <tr>\n",
       "      <th>3</th>\n",
       "      <td>KNOWS</td>\n",
       "      <td>http://example.org/stuff/person_17</td>\n",
       "      <td>http://example.org/stuff/person_22</td>\n",
       "      <td>0.994712</td>\n",
       "      <td>-0.005288</td>\n",
       "    </tr>\n",
       "    <tr>\n",
       "      <th>4</th>\n",
       "      <td>KNOWS</td>\n",
       "      <td>http://example.org/stuff/person_17</td>\n",
       "      <td>http://example.org/stuff/person_21</td>\n",
       "      <td>0.476654</td>\n",
       "      <td>0.476654</td>\n",
       "    </tr>\n",
       "  </tbody>\n",
       "</table>\n",
       "</div>"
      ],
      "text/plain": [
       "  predicate                                  p1  \\\n",
       "0     KNOWS  http://example.org/stuff/person_16   \n",
       "1     KNOWS  http://example.org/stuff/person_16   \n",
       "2     KNOWS  http://example.org/stuff/person_17   \n",
       "3     KNOWS  http://example.org/stuff/person_17   \n",
       "4     KNOWS  http://example.org/stuff/person_17   \n",
       "\n",
       "                                   p2     truth      diff  \n",
       "0  http://example.org/stuff/person_15  0.998196 -0.001804  \n",
       "1  http://example.org/stuff/person_23  0.000551  0.000551  \n",
       "2  http://example.org/stuff/person_18  0.561153  0.561153  \n",
       "3  http://example.org/stuff/person_22  0.994712 -0.005288  \n",
       "4  http://example.org/stuff/person_21  0.476654  0.476654  "
      ]
     },
     "execution_count": 19,
     "metadata": {},
     "output_type": "execute_result"
    }
   ],
   "source": [
    "dat_val = {}\n",
    "df.insert(1, \"p1\", \"\")\n",
    "df.insert(2, \"p2\", \"\")\n",
    "\n",
    "for index, row in df_dat.iterrows():\n",
    "    p1 = int(row[0])\n",
    "    p2 = int(row[1])\n",
    "    key = (p1, p2)\n",
    "    dat_val[key] = row[\"truth\"]\n",
    "\n",
    "for index, row in df.iterrows():\n",
    "    p1 = int(row[0])\n",
    "    p2 = int(row[1])\n",
    "    key = (p1, p2)\n",
    "\n",
    "    df.at[index, \"diff\"] = row[\"truth\"] - dat_val[key]\n",
    "    df.at[index, \"p1\"] = str(subgraph_people.inverse_transform(p1))\n",
    "    df.at[index, \"p2\"] = str(subgraph_people.inverse_transform(p2))\n",
    "\n",
    "df = df.drop(df.columns[[3, 4]], axis=1)\n",
    "df.head()"
   ]
  },
  {
   "cell_type": "markdown",
   "metadata": {},
   "source": [
    "In other words, which of these \"knows\" relations in the graph appears to be suspect, based on our rules plus the other evidence in the graph?\n",
    "\n",
    "Let's visualize a histogram of how the inferred probabilities are distributed:"
   ]
  },
  {
   "cell_type": "code",
   "execution_count": 20,
   "metadata": {},
   "outputs": [
    {
     "data": {
      "image/png": "[encoded data removed]",
      "text/plain": [
       "<Figure size 432x288 with 1 Axes>"
      ]
     },
     "metadata": {
      "needs_background": "light"
     },
     "output_type": "display_data"
    }
   ],
   "source": [
    "df[\"diff\"].hist();"
   ]
  },
  {
   "cell_type": "markdown",
   "metadata": {},
   "source": [
    "In most cases there is little or no difference in the probabilities for the target relations.\n",
    "However, some appear to be off by a substantial (`0.6`) amount, which indicates potential problems in this part of our graph data.\n",
    "\n",
    "The following rows show where these `foaf:knows` annotations in the graph differs significantly from their truth values predicted by PSL:"
   ]
  },
  {
   "cell_type": "code",
   "execution_count": 21,
   "metadata": {
    "scrolled": true
   },
   "outputs": [
    {
     "data": {
      "text/html": [
       "<div>\n",
       "<style scoped>\n",
       "    .dataframe tbody tr th:only-of-type {\n",
       "        vertical-align: middle;\n",
       "    }\n",
       "\n",
       "    .dataframe tbody tr th {\n",
       "        vertical-align: top;\n",
       "    }\n",
       "\n",
       "    .dataframe thead th {\n",
       "        text-align: right;\n",
       "    }\n",
       "</style>\n",
       "<table border=\"1\" class=\"dataframe\">\n",
       "  <thead>\n",
       "    <tr style=\"text-align: right;\">\n",
       "      <th></th>\n",
       "      <th>predicate</th>\n",
       "      <th>p1</th>\n",
       "      <th>p2</th>\n",
       "      <th>truth</th>\n",
       "      <th>diff</th>\n",
       "    </tr>\n",
       "  </thead>\n",
       "  <tbody>\n",
       "    <tr>\n",
       "      <th>2</th>\n",
       "      <td>KNOWS</td>\n",
       "      <td>http://example.org/stuff/person_17</td>\n",
       "      <td>http://example.org/stuff/person_18</td>\n",
       "      <td>0.561153</td>\n",
       "      <td>0.561153</td>\n",
       "    </tr>\n",
       "    <tr>\n",
       "      <th>4</th>\n",
       "      <td>KNOWS</td>\n",
       "      <td>http://example.org/stuff/person_17</td>\n",
       "      <td>http://example.org/stuff/person_21</td>\n",
       "      <td>0.476654</td>\n",
       "      <td>0.476654</td>\n",
       "    </tr>\n",
       "    <tr>\n",
       "      <th>5</th>\n",
       "      <td>KNOWS</td>\n",
       "      <td>http://example.org/stuff/person_18</td>\n",
       "      <td>http://example.org/stuff/person_17</td>\n",
       "      <td>0.560540</td>\n",
       "      <td>0.560540</td>\n",
       "    </tr>\n",
       "    <tr>\n",
       "      <th>15</th>\n",
       "      <td>KNOWS</td>\n",
       "      <td>http://example.org/stuff/person_14</td>\n",
       "      <td>http://example.org/stuff/person_06</td>\n",
       "      <td>0.507943</td>\n",
       "      <td>0.507943</td>\n",
       "    </tr>\n",
       "    <tr>\n",
       "      <th>24</th>\n",
       "      <td>KNOWS</td>\n",
       "      <td>http://example.org/stuff/person_19</td>\n",
       "      <td>http://example.org/stuff/person_09</td>\n",
       "      <td>0.539348</td>\n",
       "      <td>0.539348</td>\n",
       "    </tr>\n",
       "    <tr>\n",
       "      <th>28</th>\n",
       "      <td>KNOWS</td>\n",
       "      <td>http://example.org/stuff/person_17</td>\n",
       "      <td>http://example.org/stuff/person_01</td>\n",
       "      <td>0.581051</td>\n",
       "      <td>0.581051</td>\n",
       "    </tr>\n",
       "    <tr>\n",
       "      <th>36</th>\n",
       "      <td>KNOWS</td>\n",
       "      <td>http://example.org/stuff/person_01</td>\n",
       "      <td>http://example.org/stuff/person_17</td>\n",
       "      <td>0.578490</td>\n",
       "      <td>0.578490</td>\n",
       "    </tr>\n",
       "    <tr>\n",
       "      <th>39</th>\n",
       "      <td>KNOWS</td>\n",
       "      <td>http://example.org/stuff/person_21</td>\n",
       "      <td>http://example.org/stuff/person_17</td>\n",
       "      <td>0.476276</td>\n",
       "      <td>0.476276</td>\n",
       "    </tr>\n",
       "    <tr>\n",
       "      <th>55</th>\n",
       "      <td>KNOWS</td>\n",
       "      <td>http://example.org/stuff/person_09</td>\n",
       "      <td>http://example.org/stuff/person_19</td>\n",
       "      <td>0.540269</td>\n",
       "      <td>0.540269</td>\n",
       "    </tr>\n",
       "    <tr>\n",
       "      <th>70</th>\n",
       "      <td>KNOWS</td>\n",
       "      <td>http://example.org/stuff/person_06</td>\n",
       "      <td>http://example.org/stuff/person_14</td>\n",
       "      <td>0.506647</td>\n",
       "      <td>0.506647</td>\n",
       "    </tr>\n",
       "    <tr>\n",
       "      <th>84</th>\n",
       "      <td>KNOWS</td>\n",
       "      <td>http://example.org/stuff/person_06</td>\n",
       "      <td>http://example.org/stuff/person_09</td>\n",
       "      <td>0.606492</td>\n",
       "      <td>0.606492</td>\n",
       "    </tr>\n",
       "    <tr>\n",
       "      <th>91</th>\n",
       "      <td>KNOWS</td>\n",
       "      <td>http://example.org/stuff/person_09</td>\n",
       "      <td>http://example.org/stuff/person_06</td>\n",
       "      <td>0.607750</td>\n",
       "      <td>0.607750</td>\n",
       "    </tr>\n",
       "  </tbody>\n",
       "</table>\n",
       "</div>"
      ],
      "text/plain": [
       "   predicate                                  p1  \\\n",
       "2      KNOWS  http://example.org/stuff/person_17   \n",
       "4      KNOWS  http://example.org/stuff/person_17   \n",
       "5      KNOWS  http://example.org/stuff/person_18   \n",
       "15     KNOWS  http://example.org/stuff/person_14   \n",
       "24     KNOWS  http://example.org/stuff/person_19   \n",
       "28     KNOWS  http://example.org/stuff/person_17   \n",
       "36     KNOWS  http://example.org/stuff/person_01   \n",
       "39     KNOWS  http://example.org/stuff/person_21   \n",
       "55     KNOWS  http://example.org/stuff/person_09   \n",
       "70     KNOWS  http://example.org/stuff/person_06   \n",
       "84     KNOWS  http://example.org/stuff/person_06   \n",
       "91     KNOWS  http://example.org/stuff/person_09   \n",
       "\n",
       "                                    p2     truth      diff  \n",
       "2   http://example.org/stuff/person_18  0.561153  0.561153  \n",
       "4   http://example.org/stuff/person_21  0.476654  0.476654  \n",
       "5   http://example.org/stuff/person_17  0.560540  0.560540  \n",
       "15  http://example.org/stuff/person_06  0.507943  0.507943  \n",
       "24  http://example.org/stuff/person_09  0.539348  0.539348  \n",
       "28  http://example.org/stuff/person_01  0.581051  0.581051  \n",
       "36  http://example.org/stuff/person_17  0.578490  0.578490  \n",
       "39  http://example.org/stuff/person_17  0.476276  0.476276  \n",
       "55  http://example.org/stuff/person_19  0.540269  0.540269  \n",
       "70  http://example.org/stuff/person_14  0.506647  0.506647  \n",
       "84  http://example.org/stuff/person_09  0.606492  0.606492  \n",
       "91  http://example.org/stuff/person_06  0.607750  0.607750  "
      ]
     },
     "execution_count": 21,
     "metadata": {},
     "output_type": "execute_result"
    }
   ],
   "source": [
    "df[df[\"diff\"] >= 0.4]"
   ]
  },
  {
   "cell_type": "markdown",
   "metadata": {},
   "source": [
    "In most of these cases, the `truth` value is floating (somewhere near ~0.5) when it was expected to be zero (i.e., they don't know each other).\n",
    "Part of that likely comes from the use of the `Likes` predicate with boolean values; the original demo had probabilities for those, but was simplified here."
   ]
  },
  {
   "cell_type": "markdown",
   "metadata": {},
   "source": [
    "Speaking of [*human-in-the-loop*](https://derwen.ai/d/human-in-the-loop) practices for AI, using PSL along with a KG seems like a great way to leverage machine learning, so that the people can focus on parts of the graph that have the most uncertainty.\n",
    "And, therefore, probably provide the best ROI for investing time+cost into curation."
   ]
  },
  {
   "cell_type": "markdown",
   "metadata": {},
   "source": [
    "---\n",
    "\n",
    "## Exercises"
   ]
  },
  {
   "cell_type": "markdown",
   "metadata": {},
   "source": [
    "**Exercise 1:**\n",
    "\n",
    "Build a PSL model that tests the \"noodle vs. pancake\" rules used in an earlier example with our recipe KG.\n",
    "Which recipes should be annotated differently?"
   ]
  },
  {
   "cell_type": "markdown",
   "metadata": {},
   "source": [
    "**Exercise 2:**\n",
    "\n",
    "Try representing one of the other [PSL examples](https://github.com/linqs/psl-examples/) using RDF and `kglab`."
   ]
  }
 ],
 "metadata": {
  "kernelspec": {
   "display_name": "Python 3",
   "language": "python",
   "name": "python3"
  },
  "language_info": {
   "codemirror_mode": {
    "name": "ipython",
    "version": 3
   },
   "file_extension": ".py",
   "mimetype": "text/x-python",
   "name": "python",
   "nbconvert_exporter": "python",
   "pygments_lexer": "ipython3",
   "version": "3.7.4"
  }
 },
 "nbformat": 4,
 "nbformat_minor": 4
}
